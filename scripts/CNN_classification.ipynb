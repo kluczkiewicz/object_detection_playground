{
 "cells": [
  {
   "cell_type": "code",
   "execution_count": 119,
   "id": "4d5f8b42",
   "metadata": {},
   "outputs": [],
   "source": [
    "import pandas as pd\n",
    "import numpy as np\n",
    "import matplotlib.pyplot as plt\n",
    "import matplotlib.patches as patches\n",
    "import tensorflow as tf\n",
    "import os, glob\n",
    "from natsort import natsorted\n",
    "from tensorflow.keras.preprocessing.image import load_img\n",
    "import cv2\n",
    "from tensorflow.keras.utils import image_dataset_from_directory\n",
    "import pathlib\n",
    "\n",
    "from tensorflow import keras\n",
    "from tensorflow.keras import layers\n",
    "from tensorflow.keras.models import Sequential"
   ]
  },
  {
   "cell_type": "markdown",
   "id": "a5f6f4f3",
   "metadata": {},
   "source": [
    "# Load data into generator"
   ]
  },
  {
   "cell_type": "code",
   "execution_count": 159,
   "id": "a56aa87d",
   "metadata": {},
   "outputs": [],
   "source": [
    "data_dir = '../data/train'\n",
    "data_dir = pathlib.Path(data_dir)\n",
    "\n",
    "data_val_dir = '../data/val'\n",
    "data_val_dir = pathlib.Path(data_val_dir)\n",
    "\n",
    "data_test_dir = '../data/test'\n",
    "data_test_dir = pathlib.Path(data_test_dir)"
   ]
  },
  {
   "cell_type": "markdown",
   "id": "9a766936",
   "metadata": {},
   "source": [
    "### Load labels"
   ]
  },
  {
   "cell_type": "code",
   "execution_count": 156,
   "id": "58f6ca59",
   "metadata": {},
   "outputs": [],
   "source": [
    "df_labels = pd.read_csv('../data/labels.txt', header = None, names = ['id', 'class', 'x', 'y', 'w', 'h'])\n",
    "df_val_labels = pd.read_csv('../data/val_labels.txt', header = None, names = ['id', 'class', 'x', 'y', 'w', 'h'])\n",
    "df_train_labels = pd.read_csv('../data/test_labels.txt', header = None, names = ['id', 'class', 'x', 'y', 'w', 'h'])"
   ]
  },
  {
   "cell_type": "code",
   "execution_count": 157,
   "id": "cb5005cd",
   "metadata": {},
   "outputs": [],
   "source": [
    "def generate_class_list(df):\n",
    "    class_labels_list = df[['class']].values.tolist()\n",
    "\n",
    "    y_list = []\n",
    "    for x in class_labels_list:\n",
    "        y_list.append(x[0])\n",
    "        \n",
    "    return y_list"
   ]
  },
  {
   "cell_type": "code",
   "execution_count": 158,
   "id": "d5b4b463",
   "metadata": {},
   "outputs": [
    {
     "name": "stdout",
     "output_type": "stream",
     "text": [
      "First 10 labels:  [0, 0, 0, 0, 0, 0, 0, 0, 0, 0]\n",
      "Number of labels:  2000\n"
     ]
    }
   ],
   "source": [
    "y_list = generate_class_list(df_labels)\n",
    "y_val_list = generate_class_list(df_val_labels)\n",
    "y_test_list = generate_class_list(df_test_labels)\n",
    "    \n",
    "print('First 10 labels: ', y_list[0:10])\n",
    "print('Number of labels: ', len(y_list))"
   ]
  },
  {
   "cell_type": "markdown",
   "id": "f25fc64a",
   "metadata": {},
   "source": [
    "### Load images into generator"
   ]
  },
  {
   "cell_type": "code",
   "execution_count": 161,
   "id": "342f09bc",
   "metadata": {},
   "outputs": [
    {
     "name": "stdout",
     "output_type": "stream",
     "text": [
      "Found 2000 files belonging to 2 classes.\n",
      "Found 200 files belonging to 2 classes.\n"
     ]
    }
   ],
   "source": [
    "batch_size = 32\n",
    "img_height = 64\n",
    "img_width = 64\n",
    "\n",
    "labels = y_list\n",
    "val_labels = y_val_list\n",
    "\n",
    "label_mode = 'binary'\n",
    "shuffle = True\n",
    "\n",
    "train_ds = tf.keras.utils.image_dataset_from_directory(\n",
    "    data_dir,\n",
    "    labels = labels,\n",
    "    label_mode = label_mode,\n",
    "    color_mode = 'grayscale',\n",
    "    shuffle = shuffle,\n",
    "    seed=123,\n",
    "    image_size=(img_height, img_width),\n",
    "    batch_size=batch_size)\n",
    "\n",
    "val_ds = tf.keras.utils.image_dataset_from_directory(\n",
    "    data_val_dir,\n",
    "    labels = val_labels,\n",
    "    label_mode = label_mode,\n",
    "    color_mode = 'grayscale',\n",
    "    shuffle = shuffle,\n",
    "    seed=123,\n",
    "    image_size=(img_height, img_width),\n",
    "    batch_size=batch_size)"
   ]
  },
  {
   "cell_type": "code",
   "execution_count": 162,
   "id": "a93b77ee",
   "metadata": {},
   "outputs": [
    {
     "data": {
      "text/plain": [
       "['0', '1']"
      ]
     },
     "execution_count": 162,
     "metadata": {},
     "output_type": "execute_result"
    }
   ],
   "source": [
    "class_names = train_ds.class_names\n",
    "class_names"
   ]
  },
  {
   "cell_type": "markdown",
   "id": "caa3ca48",
   "metadata": {},
   "source": [
    "### Load test data"
   ]
  },
  {
   "cell_type": "code",
   "execution_count": 145,
   "id": "beb6e64b",
   "metadata": {},
   "outputs": [
    {
     "name": "stdout",
     "output_type": "stream",
     "text": [
      "Found 600 files belonging to 2 classes.\n"
     ]
    }
   ],
   "source": [
    "test_data_dir = '../test_data'\n",
    "test_data_dir = pathlib.Path(test_data_dir)\n",
    "\n",
    "df_test_labels = pd.read_csv('./test_labels.txt', header = None, names = ['id', 'class', 'x', 'y', 'w', 'h'])\n",
    "\n",
    "class_test_labels_list = df_test_labels[['class']].values.tolist()\n",
    "y_test_list = []\n",
    "for x in class_test_labels_list:\n",
    "    y_test_list.append(x[0])\n",
    "    \n",
    "batch_size = 32\n",
    "img_height = 64\n",
    "img_width = 64\n",
    "\n",
    "test_labels = y_test_list\n",
    "label_mode = 'binary'\n",
    "shuffle = True\n",
    "\n",
    "test_ds = tf.keras.utils.image_dataset_from_directory(\n",
    "    test_data_dir,\n",
    "    labels = test_labels,\n",
    "    label_mode = label_mode,\n",
    "    color_mode = 'grayscale',\n",
    "    shuffle = shuffle,\n",
    "    seed=123,\n",
    "    image_size=(img_height, img_width))"
   ]
  },
  {
   "cell_type": "markdown",
   "id": "b3e85c46",
   "metadata": {},
   "source": [
    "### Visualize the data "
   ]
  },
  {
   "cell_type": "code",
   "execution_count": 163,
   "id": "815fa9f3",
   "metadata": {},
   "outputs": [
    {
     "name": "stdout",
     "output_type": "stream",
     "text": [
      "1.0\n"
     ]
    }
   ],
   "source": [
    "for images, labels in train_ds.take(1):\n",
    "    print(labels[1].numpy()[0])"
   ]
  },
  {
   "cell_type": "code",
   "execution_count": 165,
   "id": "73580a3a",
   "metadata": {},
   "outputs": [
    {
     "data": {
      "image/png": "[encoded data removed]",
      "text/plain": [
       "<Figure size 500x500 with 9 Axes>"
      ]
     },
     "metadata": {},
     "output_type": "display_data"
    }
   ],
   "source": [
    "import matplotlib.pyplot as plt\n",
    "\n",
    "plt.figure(figsize=(5, 5))\n",
    "for images, labels in train_ds.take(1):\n",
    "    for i in range(9):\n",
    "        ax = plt.subplot(3, 3, i + 1)\n",
    "        plt.imshow(images[i].numpy().astype(\"uint8\"))\n",
    "        plt.title(labels[i].numpy()[0])\n",
    "        plt.axis(\"off\")"
   ]
  },
  {
   "cell_type": "code",
   "execution_count": 166,
   "id": "5be0714d",
   "metadata": {},
   "outputs": [
    {
     "name": "stdout",
     "output_type": "stream",
     "text": [
      "Image batch shape:  (32, 64, 64, 1)\n",
      "Labels batch shape:  (32, 1)\n"
     ]
    }
   ],
   "source": [
    "for image_batch, labels_batch in train_ds:\n",
    "    print('Image batch shape: ', image_batch.shape)\n",
    "    print('Labels batch shape: ', labels_batch.shape)\n",
    "    break"
   ]
  },
  {
   "cell_type": "markdown",
   "id": "d4cac554",
   "metadata": {},
   "source": [
    "### Buffer prefetching"
   ]
  },
  {
   "cell_type": "code",
   "execution_count": 167,
   "id": "0922413a",
   "metadata": {},
   "outputs": [],
   "source": [
    "AUTOTUNE = tf.data.AUTOTUNE\n",
    "\n",
    "train_ds = train_ds.cache().shuffle(1000).prefetch(buffer_size=AUTOTUNE)\n",
    "val_ds = val_ds.cache().prefetch(buffer_size=AUTOTUNE)"
   ]
  },
  {
   "cell_type": "markdown",
   "id": "725753ba",
   "metadata": {},
   "source": [
    "# Model definition and training"
   ]
  },
  {
   "cell_type": "markdown",
   "id": "8be22ea6",
   "metadata": {},
   "source": [
    "#### helpers"
   ]
  },
  {
   "cell_type": "code",
   "execution_count": 200,
   "id": "4335520c",
   "metadata": {},
   "outputs": [],
   "source": [
    "from sklearn.metrics import classification_report, confusion_matrix, accuracy_score\n",
    "\n",
    "def printScores(y_pred, y_true):\n",
    "    print(\"Classification report:\")\n",
    "    print(classification_report(y_true, y_pred))\n",
    "    print(\"Confusion matrix:\")\n",
    "    print(confusion_matrix(y_true, y_pred))\n",
    "    \n",
    "def plotTrainingHistory(model):\n",
    "\n",
    "    fig, axes= plt.subplots(1,2,figsize=(10,5))\n",
    "    history = model.history\n",
    "    axes[0].plot(history['accuracy'])\n",
    "    axes[0].plot(history['val_accuracy'])\n",
    "    axes[0].set_ylabel('accuracy')\n",
    "    axes[0].set_xlabel('epoch')\n",
    "    axes[0].legend(['train', 'validation'], loc='upper left')\n",
    "\n",
    "    axes[1].plot(history['loss'])\n",
    "    axes[1].plot(history['val_loss'])\n",
    "    axes[1].set_ylabel('loss')\n",
    "    axes[1].set_xlabel('epoch')\n",
    "    axes[1].legend(['train', 'validation'], loc='upper left')"
   ]
  },
  {
   "cell_type": "markdown",
   "id": "6268d816",
   "metadata": {},
   "source": [
    "### class-defined model"
   ]
  },
  {
   "cell_type": "code",
   "execution_count": 169,
   "id": "88825089",
   "metadata": {},
   "outputs": [],
   "source": [
    "def CNN_class(nFilters, kernel_size, pool_size, nNeurons, inputShape, outputWidth):\n",
    "    inputs = tf.keras.Input(shape=inputShape)\n",
    "    x = inputs\n",
    "    x = tf.keras.layers.Rescaling(1./255, input_shape=inputShape)(x)\n",
    "    x = tf.keras.layers.Conv2D(nFilters, kernel_size=kernel_size)(x)\n",
    "    x = tf.keras.layers.MaxPooling2D(pool_size=pool_size)(x)\n",
    "    x = tf.keras.layers.Conv2D(nFilters, kernel_size=kernel_size)(x)\n",
    "    x = tf.keras.layers.MaxPooling2D(pool_size=pool_size)(x)\n",
    "    x = tf.keras.layers.Flatten()(x)\n",
    "    x = tf.keras.layers.Dense(nNeurons, activation=tf.nn.relu)(x)\n",
    "    x = tf.keras.layers.Dense(int(nNeurons / 2), activation=tf.nn.relu)(x)\n",
    "    x = tf.keras.layers.Dense(int(nNeurons / 2), activation=tf.nn.relu)(x)\n",
    "    outputs = tf.keras.layers.Dense(outputWidth, activation=tf.nn.softmax)(x)\n",
    "    \n",
    "    model = tf.keras.Model(inputs=inputs, outputs=outputs)\n",
    "    model.compile(optimizer='adam',\n",
    "              loss=tf.keras.losses.SparseCategoricalCrossentropy(from_logits=True),\n",
    "              metrics=['accuracy'])\n",
    "    return model"
   ]
  },
  {
   "cell_type": "markdown",
   "id": "2dca4692",
   "metadata": {},
   "source": [
    "### model training"
   ]
  },
  {
   "cell_type": "code",
   "execution_count": 170,
   "id": "86b2e599",
   "metadata": {},
   "outputs": [
    {
     "name": "stdout",
     "output_type": "stream",
     "text": [
      "Model: \"model_8\"\n",
      "_________________________________________________________________\n",
      " Layer (type)                Output Shape              Param #   \n",
      "=================================================================\n",
      " input_11 (InputLayer)       [(None, 64, 64, 1)]       0         \n",
      "                                                                 \n",
      " rescaling_12 (Rescaling)    (None, 64, 64, 1)         0         \n",
      "                                                                 \n",
      " conv2d_32 (Conv2D)          (None, 62, 62, 32)        320       \n",
      "                                                                 \n",
      " max_pooling2d_30 (MaxPoolin  (None, 20, 20, 32)       0         \n",
      " g2D)                                                            \n",
      "                                                                 \n",
      " conv2d_33 (Conv2D)          (None, 18, 18, 32)        9248      \n",
      "                                                                 \n",
      " max_pooling2d_31 (MaxPoolin  (None, 6, 6, 32)         0         \n",
      " g2D)                                                            \n",
      "                                                                 \n",
      " flatten_12 (Flatten)        (None, 1152)              0         \n",
      "                                                                 \n",
      " dense_40 (Dense)            (None, 128)               147584    \n",
      "                                                                 \n",
      " dense_41 (Dense)            (None, 64)                8256      \n",
      "                                                                 \n",
      " dense_42 (Dense)            (None, 64)                4160      \n",
      "                                                                 \n",
      " dense_43 (Dense)            (None, 2)                 130       \n",
      "                                                                 \n",
      "=================================================================\n",
      "Total params: 169,698\n",
      "Trainable params: 169,698\n",
      "Non-trainable params: 0\n",
      "_________________________________________________________________\n",
      "Epoch 1/15\n"
     ]
    },
    {
     "name": "stderr",
     "output_type": "stream",
     "text": [
      "D:\\projekty\\mgr\\custom_nn\\mgr-env\\lib\\site-packages\\keras\\backend.py:5585: UserWarning: \"`sparse_categorical_crossentropy` received `from_logits=True`, but the `output` argument was produced by a Softmax activation and thus does not represent logits. Was this intended?\n",
      "  output, from_logits = _get_logits(\n"
     ]
    },
    {
     "name": "stdout",
     "output_type": "stream",
     "text": [
      "63/63 [==============================] - 2s 20ms/step - loss: 0.6022 - accuracy: 0.6575 - val_loss: 0.5677 - val_accuracy: 0.7150\n",
      "Epoch 2/15\n",
      "63/63 [==============================] - 1s 15ms/step - loss: 0.5274 - accuracy: 0.7405 - val_loss: 0.5099 - val_accuracy: 0.7150\n",
      "Epoch 3/15\n",
      "63/63 [==============================] - 1s 16ms/step - loss: 0.4878 - accuracy: 0.7590 - val_loss: 0.4822 - val_accuracy: 0.7800\n",
      "Epoch 4/15\n",
      "63/63 [==============================] - 1s 17ms/step - loss: 0.4497 - accuracy: 0.7785 - val_loss: 0.4438 - val_accuracy: 0.7700\n",
      "Epoch 5/15\n",
      "63/63 [==============================] - 1s 18ms/step - loss: 0.3770 - accuracy: 0.8310 - val_loss: 0.3852 - val_accuracy: 0.8600\n",
      "Epoch 6/15\n",
      "63/63 [==============================] - 1s 19ms/step - loss: 0.2622 - accuracy: 0.8895 - val_loss: 0.2243 - val_accuracy: 0.9050\n",
      "Epoch 7/15\n",
      "63/63 [==============================] - 1s 19ms/step - loss: 0.1681 - accuracy: 0.9370 - val_loss: 0.1748 - val_accuracy: 0.9200\n",
      "Epoch 8/15\n",
      "63/63 [==============================] - 1s 18ms/step - loss: 0.1099 - accuracy: 0.9605 - val_loss: 0.1217 - val_accuracy: 0.9450\n",
      "Epoch 9/15\n",
      "63/63 [==============================] - 1s 17ms/step - loss: 0.0914 - accuracy: 0.9690 - val_loss: 0.2837 - val_accuracy: 0.8950\n",
      "Epoch 10/15\n",
      "63/63 [==============================] - 1s 16ms/step - loss: 0.0740 - accuracy: 0.9745 - val_loss: 0.0946 - val_accuracy: 0.9650\n",
      "Epoch 11/15\n",
      "63/63 [==============================] - 1s 18ms/step - loss: 0.0486 - accuracy: 0.9850 - val_loss: 0.1014 - val_accuracy: 0.9650\n",
      "Epoch 12/15\n",
      "63/63 [==============================] - 1s 18ms/step - loss: 0.0509 - accuracy: 0.9835 - val_loss: 0.0784 - val_accuracy: 0.9650\n",
      "Epoch 13/15\n",
      "63/63 [==============================] - 1s 17ms/step - loss: 0.0332 - accuracy: 0.9890 - val_loss: 0.0664 - val_accuracy: 0.9700\n",
      "Epoch 14/15\n",
      "63/63 [==============================] - 1s 18ms/step - loss: 0.0255 - accuracy: 0.9930 - val_loss: 0.0566 - val_accuracy: 0.9750\n",
      "Epoch 15/15\n",
      "63/63 [==============================] - 1s 16ms/step - loss: 0.0237 - accuracy: 0.9930 - val_loss: 0.0844 - val_accuracy: 0.9800\n",
      "CPU times: total: 3min 13s\n",
      "Wall time: 17.7 s\n"
     ]
    },
    {
     "data": {
      "image/png": "[encoded data removed]",
      "text/plain": [
       "<Figure size 1000x500 with 2 Axes>"
      ]
     },
     "metadata": {},
     "output_type": "display_data"
    }
   ],
   "source": [
    "%%time \n",
    "\n",
    "batch_size = 32\n",
    "nFilters = 32\n",
    "kernel_size = 3\n",
    "pool_size = (3,3)\n",
    "nNeurons = 128 \n",
    "nHiddenLayers = 1 \n",
    "inputShape = (64, 64, 1)\n",
    "outputWidth = 2\n",
    "\n",
    "epochs = 15\n",
    "\n",
    "model = CNN_class(nFilters, kernel_size, pool_size, nNeurons, inputShape, outputWidth)\n",
    "model.summary()\n",
    "model_fit = model.fit(train_ds, validation_data = val_ds, epochs=epochs) \n",
    "\n",
    "plotTrainingHistory(model_fit)"
   ]
  },
  {
   "cell_type": "markdown",
   "id": "5d8e52b8",
   "metadata": {},
   "source": [
    "### testing on test dataset"
   ]
  },
  {
   "cell_type": "code",
   "execution_count": 173,
   "id": "844ecdf5",
   "metadata": {},
   "outputs": [],
   "source": [
    "import glob\n",
    "\n",
    "test = glob.glob('../data/test/*/*')"
   ]
  },
  {
   "cell_type": "code",
   "execution_count": 191,
   "id": "c63f9020",
   "metadata": {},
   "outputs": [],
   "source": [
    "def test_predict(data_dir):\n",
    "    predictions = []\n",
    "    for path in data_dir:\n",
    "        img = tf.keras.utils.load_img(path, color_mode='grayscale')\n",
    "        img_array = tf.keras.utils.img_to_array(img)\n",
    "        img_array = tf.expand_dims(img_array, 0) # Create a batch\n",
    "        y = np.argmax(model.predict(img_array, verbose = 0))\n",
    "        predictions.append(y)\n",
    "                  \n",
    "    return predictions"
   ]
  },
  {
   "cell_type": "code",
   "execution_count": 196,
   "id": "04aa8774",
   "metadata": {},
   "outputs": [],
   "source": [
    "y_pred = test_predict(test)"
   ]
  },
  {
   "cell_type": "code",
   "execution_count": 201,
   "id": "54352491",
   "metadata": {},
   "outputs": [
    {
     "name": "stdout",
     "output_type": "stream",
     "text": [
      "Classification report:\n",
      "              precision    recall  f1-score   support\n",
      "\n",
      "           0       0.96      0.99      0.97       293\n",
      "           1       0.99      0.96      0.98       307\n",
      "\n",
      "    accuracy                           0.97       600\n",
      "   macro avg       0.98      0.98      0.97       600\n",
      "weighted avg       0.98      0.97      0.98       600\n",
      "\n",
      "Confusion matrix:\n",
      "[[289   4]\n",
      " [ 11 296]]\n"
     ]
    }
   ],
   "source": [
    "printScores(y_test_list, y_pred)"
   ]
  }
 ],
 "metadata": {
  "kernelspec": {
   "display_name": "Python 3 (ipykernel)",
   "language": "python",
   "name": "python3"
  },
  "language_info": {
   "codemirror_mode": {
    "name": "ipython",
    "version": 3
   },
   "file_extension": ".py",
   "mimetype": "text/x-python",
   "name": "python",
   "nbconvert_exporter": "python",
   "pygments_lexer": "ipython3",
   "version": "3.10.11"
  }
 },
 "nbformat": 4,
 "nbformat_minor": 5
}
