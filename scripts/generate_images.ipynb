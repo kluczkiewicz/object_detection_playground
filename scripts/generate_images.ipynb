{
 "cells": [
  {
   "cell_type": "code",
   "execution_count": 3,
   "id": "80320d0d",
   "metadata": {},
   "outputs": [],
   "source": [
    "import pandas as pd\n",
    "import numpy as np \n",
    "import matplotlib.pyplot as plt\n",
    "import random"
   ]
  },
  {
   "cell_type": "markdown",
   "id": "89e0f6a5",
   "metadata": {},
   "source": [
    "## In openCV"
   ]
  },
  {
   "cell_type": "code",
   "execution_count": 21,
   "id": "72c0e6a6",
   "metadata": {},
   "outputs": [],
   "source": [
    "import cv2\n",
    "import numpy as np"
   ]
  },
  {
   "cell_type": "code",
   "execution_count": 28,
   "id": "67e8dda8",
   "metadata": {},
   "outputs": [],
   "source": [
    "data = []"
   ]
  },
  {
   "cell_type": "code",
   "execution_count": 29,
   "id": "009f294a",
   "metadata": {},
   "outputs": [],
   "source": [
    "img_size = 64\n",
    "\n",
    "for i in range(100):    \n",
    "    # generate random number for circle params\n",
    "    r = np.random.randint(1, int(img_size / 2))\n",
    "    x = np.random.randint(0 + r, img_size - r)\n",
    "    y = np.random.randint(0 + r, img_size - r)\n",
    "    c1 = random.uniform(0, 255)\n",
    "    c2 = random.uniform(0, 255)\n",
    "    c3 = random.uniform(0, 255)    \n",
    "    \n",
    "    img = np.zeros((64, 64, 3), np.uint8) + 255\n",
    "\n",
    "    # Window name in which image is displayed\n",
    "    window_name = 'Image'\n",
    "\n",
    "    # Center coordinates\n",
    "    center_coordinates = (x, y)\n",
    "    \n",
    "    radius = int(r)\n",
    "\n",
    "    # Red color in BGR\n",
    "    color = (c1, c2, c3)\n",
    "    \n",
    "    # Line thickness of -1 px\n",
    "    thickness = -1\n",
    "\n",
    "    # Using cv2.circle() method\n",
    "    # Draw a circle of red color of thickness -1 px\n",
    "    image = cv2.circle(img, center_coordinates, radius, color, thickness)\n",
    "\n",
    "    # Displaying the image\n",
    "    #cv2.imshow(window_name, image)\n",
    "    #cv2.waitKey(0)\n",
    "    #cv2.destroyAllWindows()\n",
    "    \n",
    "    # Saving the image\n",
    "    cv2.imwrite('../data/val/0/0_image_'+str(i).zfill(5)+'.jpg', img)\n",
    "    \n",
    "    # Trasform to format (upper_left_point, w, h)\n",
    "    x1 = x - r\n",
    "    y1 = y - r\n",
    "    data.append((0, x1, y1, 2*r, 2*r))"
   ]
  },
  {
   "cell_type": "code",
   "execution_count": 30,
   "id": "6e94e7af",
   "metadata": {},
   "outputs": [],
   "source": [
    "img_size = 64\n",
    "\n",
    "for i in range(100):    \n",
    "    # generate random number for circle params\n",
    "    #r = random.uniform(0, 160)\n",
    "    x1 = np.random.randint(0, img_size) \n",
    "    y1 = np.random.randint(0, img_size) \n",
    "    w = np.random.randint(1, img_size - x1 + 1) \n",
    "    h = np.random.randint(1, img_size - y1 + 1) \n",
    "    c1 = random.uniform(0, 255)\n",
    "    c2 = random.uniform(0, 255)\n",
    "    c3 = random.uniform(0, 255)    \n",
    "    \n",
    "    img = np.zeros((img_size, img_size, 3), np.uint8) + 255\n",
    "\n",
    "    # Window name in which image is displayed\n",
    "    window_name = 'Image'\n",
    "\n",
    "    # Center coordinates\n",
    "    start = (x1, y1)\n",
    "    end = (x1 + w, y1 + h)\n",
    "\n",
    "    #print(start)\n",
    "    #print(end)\n",
    "    # Red color in BGR\n",
    "    color = (c1, c2, c3)\n",
    "    \n",
    "    # Line thickness of -1 px\n",
    "    thickness = -1\n",
    "\n",
    "    # Using cv2.circle() method\n",
    "    # Draw a circle of red color of thickness -1 px\n",
    "    image = cv2.rectangle(img, start, end, color, thickness)\n",
    "    \n",
    "    #print(x1, y1, w, h)\n",
    "    \n",
    "    # Displaying the image\n",
    "    #cv2.imshow(window_name, image)\n",
    "    #cv2.waitKey(0)\n",
    "    #cv2.destroyAllWindows()\n",
    "    \n",
    "    data.append((1, x1, y1, w, h))\n",
    "    \n",
    "    # Saving the image\n",
    "    cv2.imwrite('../data/val/1/1_image_'+str(i).zfill(5)+'.jpg', img)"
   ]
  },
  {
   "cell_type": "code",
   "execution_count": 31,
   "id": "062b023c",
   "metadata": {},
   "outputs": [],
   "source": [
    "df = pd.DataFrame(data)"
   ]
  },
  {
   "cell_type": "code",
   "execution_count": 32,
   "id": "29a20a31",
   "metadata": {},
   "outputs": [],
   "source": [
    "df.to_csv('../data/val_labels.txt', header = False)"
   ]
  },
  {
   "cell_type": "code",
   "execution_count": 10,
   "id": "c1b9eec2",
   "metadata": {},
   "outputs": [
    {
     "data": {
      "text/plain": [
       "10"
      ]
     },
     "execution_count": 10,
     "metadata": {},
     "output_type": "execute_result"
    }
   ],
   "source": [
    "np.min([10, 20])"
   ]
  },
  {
   "cell_type": "code",
   "execution_count": 31,
   "id": "f96ba405",
   "metadata": {},
   "outputs": [
    {
     "data": {
      "text/plain": [
       "[(1, 26, 1, 9, 0),\n",
       " (1, 35, 1, 0, 0),\n",
       " (1, 35, 1, 0, 0),\n",
       " (1, 35, 1, 0, 0),\n",
       " (1, 5, 1, 30, 0),\n",
       " (1, 14, 1, 21, 0),\n",
       " (1, 35, 1, 0, 0),\n",
       " (1, 34, 1, 1, 0),\n",
       " (1, 24, 1, 11, 0),\n",
       " (1, 35, 1, 0, 0)]"
      ]
     },
     "execution_count": 31,
     "metadata": {},
     "output_type": "execute_result"
    }
   ],
   "source": [
    "data"
   ]
  },
  {
   "cell_type": "code",
   "execution_count": 23,
   "id": "08d89c48",
   "metadata": {},
   "outputs": [
    {
     "data": {
      "text/plain": [
       "5"
      ]
     },
     "execution_count": 23,
     "metadata": {},
     "output_type": "execute_result"
    }
   ],
   "source": [
    "np.random.randint(0, 10+1)"
   ]
  },
  {
   "cell_type": "code",
   "execution_count": null,
   "id": "d4d0da8b",
   "metadata": {},
   "outputs": [],
   "source": []
  },
  {
   "cell_type": "code",
   "execution_count": null,
   "id": "892d0355",
   "metadata": {},
   "outputs": [],
   "source": []
  }
 ],
 "metadata": {
  "kernelspec": {
   "display_name": "Python 3 (ipykernel)",
   "language": "python",
   "name": "python3"
  },
  "language_info": {
   "codemirror_mode": {
    "name": "ipython",
    "version": 3
   },
   "file_extension": ".py",
   "mimetype": "text/x-python",
   "name": "python",
   "nbconvert_exporter": "python",
   "pygments_lexer": "ipython3",
   "version": "3.10.11"
  }
 },
 "nbformat": 4,
 "nbformat_minor": 5
}
