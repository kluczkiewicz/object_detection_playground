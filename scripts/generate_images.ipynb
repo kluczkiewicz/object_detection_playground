{
 "cells": [
  {
   "cell_type": "code",
   "execution_count": 2,
   "id": "80320d0d",
   "metadata": {},
   "outputs": [],
   "source": [
    "import pandas as pd\n",
    "import numpy as np \n",
    "import matplotlib.pyplot as plt\n",
    "import random"
   ]
  },
  {
   "cell_type": "code",
   "execution_count": 66,
   "id": "353a598f",
   "metadata": {},
   "outputs": [],
   "source": [
    "data = []"
   ]
  },
  {
   "cell_type": "code",
   "execution_count": 24,
   "id": "6c07af68",
   "metadata": {},
   "outputs": [
    {
     "data": {
      "image/png": "[encoded data removed]",
      "text/plain": [
       "<Figure size 640x480 with 1 Axes>"
      ]
     },
     "metadata": {},
     "output_type": "display_data"
    }
   ],
   "source": [
    "for i in range(5000):    \n",
    "    # generate random number for circle params\n",
    "    #r = random.random() \n",
    "    #x = random.random() \n",
    "    #y = random.random() * 0.8\n",
    "    #r = random.random() * 0.8\n",
    "    c1 = random.random()\n",
    "    c2 = random.random()\n",
    "    c3 = random.random()\n",
    "\n",
    "    r = random.random() * \n",
    "    x = random.uniform(0 + r, 1 - r)\n",
    "    y = random.uniform(0 + r, 1 - r)\n",
    "    c1 = random.random()\n",
    "    c2 = random.random()\n",
    "    c3 = random.random()    \n",
    "    \n",
    "    # draw circle\n",
    "    #px = 1/plt.rcParams['figure.dpi']  # pixel in inches\n",
    "    #figure, axes = plt.subplots(figsize=(600*px, 200*px))\n",
    "    figure, axes = plt.subplots()\n",
    "    circle = plt.scatter( x , y , r, color = (c1, c2, c3))\n",
    "    axes.set_aspect(1)\n",
    "    axes.add_artist(circle)\n",
    "    axes.set_axis_off()\n",
    "    plt.show()\n",
    "    #plt.savefig('../data/train/circle_'+str(i)+'.png', bbox_inches='tight', pad_inches=0)\n",
    "    data.append((0, x, y, r))\n",
    "    break"
   ]
  },
  {
   "cell_type": "code",
   "execution_count": 144,
   "id": "3701c4aa",
   "metadata": {},
   "outputs": [],
   "source": [
    "for i in range(5000):\n",
    "    x = random.random() * 0.8\n",
    "    y = random.random() * 0.8\n",
    "    w = random.random() * 0.8\n",
    "    c1 = random.random()\n",
    "    c2 = random.random()\n",
    "    c3 = random.random()\n",
    "\n",
    "    \n",
    "    # draw rectangle\n",
    "    figure, axes = plt.subplots()\n",
    "    rectangle = plt.Rectangle(( x , y ), w, w, color = (c1, c2, c3))\n",
    "    axes.set_aspect(1)\n",
    "    axes.add_artist(rectangle)\n",
    "    axes.set_axis_off()\n",
    "    plt.savefig('../data/train/rectangle_'+str(i)+'.png', bbox_inches='tight', pad_inches=0)\n",
    "    #plt.show()\n",
    "    data.append((1, x, y, w))\n",
    "    plt.close()"
   ]
  },
  {
   "cell_type": "code",
   "execution_count": 150,
   "id": "ffef4bb0",
   "metadata": {},
   "outputs": [],
   "source": [
    "df = pd.DataFrame(data)"
   ]
  },
  {
   "cell_type": "code",
   "execution_count": 152,
   "id": "f5193721",
   "metadata": {},
   "outputs": [],
   "source": [
    "df.to_csv('labels.txt', header = False)"
   ]
  },
  {
   "cell_type": "markdown",
   "id": "89e0f6a5",
   "metadata": {},
   "source": [
    "## In openCV"
   ]
  },
  {
   "cell_type": "code",
   "execution_count": 16,
   "id": "72c0e6a6",
   "metadata": {},
   "outputs": [],
   "source": [
    "import cv2\n",
    "import numpy as np"
   ]
  },
  {
   "cell_type": "code",
   "execution_count": 17,
   "id": "67e8dda8",
   "metadata": {},
   "outputs": [],
   "source": [
    "data = []"
   ]
  },
  {
   "cell_type": "code",
   "execution_count": 18,
   "id": "009f294a",
   "metadata": {},
   "outputs": [],
   "source": [
    "for i in range(5000):    \n",
    "    # generate random number for circle params\n",
    "    r = random.uniform(0, 160)\n",
    "    x = random.uniform(0 + r, 320 - r) \n",
    "    y = random.uniform(0 + r, 320 - r) \n",
    "    c1 = random.uniform(0, 255)\n",
    "    c2 = random.uniform(0, 255)\n",
    "    c3 = random.uniform(0, 255)    \n",
    "    \n",
    "    img = np.zeros((320, 320, 3), np.uint8) + 255\n",
    "\n",
    "    # Window name in which image is displayed\n",
    "    window_name = 'Image'\n",
    "\n",
    "    # Center coordinates\n",
    "    center_coordinates = (int(x), int(y))\n",
    "    \n",
    "    radius = int(r)\n",
    "\n",
    "    # Red color in BGR\n",
    "    color = (c1, c2, c3)\n",
    "    \n",
    "    \n",
    "    # Line thickness of -1 px\n",
    "    thickness = -1\n",
    "\n",
    "    # Using cv2.circle() method\n",
    "    # Draw a circle of red color of thickness -1 px\n",
    "    image = cv2.circle(img, center_coordinates, radius, color, thickness)\n",
    "\n",
    "    # Displaying the image\n",
    "    #cv2.imshow(window_name, image)\n",
    "    #cv2.waitKey(0)\n",
    "    #cv2.destroyAllWindows()\n",
    "    \n",
    "    # Saving the image\n",
    "    cv2.imwrite('../data/train/circle_'+str(i)+'.png', img)\n",
    "    data.append((0, x, y, r, r))"
   ]
  },
  {
   "cell_type": "code",
   "execution_count": 19,
   "id": "6e94e7af",
   "metadata": {},
   "outputs": [],
   "source": [
    "for i in range(5000):    \n",
    "    # generate random number for circle params\n",
    "    #r = random.uniform(0, 160)\n",
    "    x1 = random.uniform(0, 320) \n",
    "    y1 = random.uniform(0, 320) \n",
    "    x2 = random.uniform(0, 320) \n",
    "    y2 = random.uniform(0, 320) \n",
    "    c1 = random.uniform(0, 255)\n",
    "    c2 = random.uniform(0, 255)\n",
    "    c3 = random.uniform(0, 255)    \n",
    "    \n",
    "    img = np.zeros((320, 320, 3), np.uint8) + 255\n",
    "\n",
    "    # Window name in which image is displayed\n",
    "    window_name = 'Image'\n",
    "\n",
    "    # Center coordinates\n",
    "    start = (int(x1), int(y1))\n",
    "    end = (int(x2), int(y2))\n",
    "\n",
    "    #print(start)\n",
    "    #print(end)\n",
    "    # Red color in BGR\n",
    "    color = (c1, c2, c3)\n",
    "    \n",
    "    # Line thickness of -1 px\n",
    "    thickness = -1\n",
    "\n",
    "    # Using cv2.circle() method\n",
    "    # Draw a circle of red color of thickness -1 px\n",
    "    image = cv2.rectangle(img, start, end, color, thickness)\n",
    "\n",
    "    xc = (x1 + x2) / 2\n",
    "    yc = (y1 + y2) / 2\n",
    "    w = np.abs(x2 - x1)\n",
    "    h = np.abs(y1 - y2)\n",
    "    \n",
    "    #print(xc, yc, w, h)\n",
    "    \n",
    "    # Displaying the image\n",
    "    #cv2.imshow(window_name, image)\n",
    "    #cv2.waitKey(0)\n",
    "    #cv2.destroyAllWindows()\n",
    "    \n",
    "    data.append((1, xc, yc, w, h))\n",
    "    \n",
    "    # Saving the image\n",
    "    cv2.imwrite('../data/train/rectangle_'+str(i)+'.png', img)"
   ]
  },
  {
   "cell_type": "code",
   "execution_count": 20,
   "id": "062b023c",
   "metadata": {},
   "outputs": [],
   "source": [
    "df = pd.DataFrame(data)"
   ]
  },
  {
   "cell_type": "code",
   "execution_count": 22,
   "id": "29a20a31",
   "metadata": {},
   "outputs": [],
   "source": [
    "df.to_csv('labels.txt', header = False)"
   ]
  },
  {
   "cell_type": "code",
   "execution_count": null,
   "id": "c1b9eec2",
   "metadata": {},
   "outputs": [],
   "source": []
  }
 ],
 "metadata": {
  "kernelspec": {
   "display_name": "Python 3 (ipykernel)",
   "language": "python",
   "name": "python3"
  },
  "language_info": {
   "codemirror_mode": {
    "name": "ipython",
    "version": 3
   },
   "file_extension": ".py",
   "mimetype": "text/x-python",
   "name": "python",
   "nbconvert_exporter": "python",
   "pygments_lexer": "ipython3",
   "version": "3.10.10"
  }
 },
 "nbformat": 4,
 "nbformat_minor": 5
}
