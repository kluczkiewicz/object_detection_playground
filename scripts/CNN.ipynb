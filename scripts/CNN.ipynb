{
 "cells": [
  {
   "cell_type": "code",
   "execution_count": 8,
   "id": "d31c0b30",
   "metadata": {},
   "outputs": [],
   "source": [
    "import pandas as pd\n",
    "import numpy as np\n",
    "import matplotlib.pyplot as plt\n",
    "import tensorflow as tf\n",
    "import os, glob\n",
    "from natsort import natsorted\n",
    "from tensorflow.keras.preprocessing.image import load_img\n",
    "import cv2"
   ]
  },
  {
   "cell_type": "markdown",
   "id": "c375d5e6",
   "metadata": {},
   "source": [
    "## Load data"
   ]
  },
  {
   "cell_type": "code",
   "execution_count": 60,
   "id": "02821537",
   "metadata": {},
   "outputs": [],
   "source": [
    "files = glob.glob('../data/train/*')"
   ]
  },
  {
   "cell_type": "code",
   "execution_count": 61,
   "id": "e384cd62",
   "metadata": {},
   "outputs": [
    {
     "name": "stdout",
     "output_type": "stream",
     "text": [
      "Number of images:  10000\n"
     ]
    }
   ],
   "source": [
    "print('Number of images: ', len(files))"
   ]
  },
  {
   "cell_type": "code",
   "execution_count": 62,
   "id": "c37661f7",
   "metadata": {},
   "outputs": [],
   "source": [
    "labels = pd.read_csv('./labels.txt', header = None, names = ['id', 'class', 'x', 'y', 'w', 'h'])"
   ]
  },
  {
   "cell_type": "code",
   "execution_count": 63,
   "id": "7207fed0",
   "metadata": {},
   "outputs": [
    {
     "data": {
      "text/html": [
       "<div>\n",
       "<style scoped>\n",
       "    .dataframe tbody tr th:only-of-type {\n",
       "        vertical-align: middle;\n",
       "    }\n",
       "\n",
       "    .dataframe tbody tr th {\n",
       "        vertical-align: top;\n",
       "    }\n",
       "\n",
       "    .dataframe thead th {\n",
       "        text-align: right;\n",
       "    }\n",
       "</style>\n",
       "<table border=\"1\" class=\"dataframe\">\n",
       "  <thead>\n",
       "    <tr style=\"text-align: right;\">\n",
       "      <th></th>\n",
       "      <th>id</th>\n",
       "      <th>class</th>\n",
       "      <th>x</th>\n",
       "      <th>y</th>\n",
       "      <th>w</th>\n",
       "      <th>h</th>\n",
       "    </tr>\n",
       "  </thead>\n",
       "  <tbody>\n",
       "    <tr>\n",
       "      <th>0</th>\n",
       "      <td>0</td>\n",
       "      <td>0</td>\n",
       "      <td>158.293543</td>\n",
       "      <td>163.840423</td>\n",
       "      <td>291.767249</td>\n",
       "      <td>291.767249</td>\n",
       "    </tr>\n",
       "    <tr>\n",
       "      <th>1</th>\n",
       "      <td>1</td>\n",
       "      <td>0</td>\n",
       "      <td>174.976577</td>\n",
       "      <td>145.041054</td>\n",
       "      <td>285.589838</td>\n",
       "      <td>285.589838</td>\n",
       "    </tr>\n",
       "    <tr>\n",
       "      <th>2</th>\n",
       "      <td>2</td>\n",
       "      <td>0</td>\n",
       "      <td>176.162791</td>\n",
       "      <td>156.819932</td>\n",
       "      <td>268.717581</td>\n",
       "      <td>268.717581</td>\n",
       "    </tr>\n",
       "    <tr>\n",
       "      <th>3</th>\n",
       "      <td>3</td>\n",
       "      <td>0</td>\n",
       "      <td>257.477453</td>\n",
       "      <td>201.296374</td>\n",
       "      <td>84.595788</td>\n",
       "      <td>84.595788</td>\n",
       "    </tr>\n",
       "    <tr>\n",
       "      <th>4</th>\n",
       "      <td>4</td>\n",
       "      <td>0</td>\n",
       "      <td>71.470291</td>\n",
       "      <td>167.118748</td>\n",
       "      <td>133.755485</td>\n",
       "      <td>133.755485</td>\n",
       "    </tr>\n",
       "    <tr>\n",
       "      <th>...</th>\n",
       "      <td>...</td>\n",
       "      <td>...</td>\n",
       "      <td>...</td>\n",
       "      <td>...</td>\n",
       "      <td>...</td>\n",
       "      <td>...</td>\n",
       "    </tr>\n",
       "    <tr>\n",
       "      <th>9995</th>\n",
       "      <td>9995</td>\n",
       "      <td>1</td>\n",
       "      <td>163.227646</td>\n",
       "      <td>86.690061</td>\n",
       "      <td>209.817385</td>\n",
       "      <td>11.481389</td>\n",
       "    </tr>\n",
       "    <tr>\n",
       "      <th>9996</th>\n",
       "      <td>9996</td>\n",
       "      <td>1</td>\n",
       "      <td>149.334399</td>\n",
       "      <td>243.464501</td>\n",
       "      <td>157.174169</td>\n",
       "      <td>146.648070</td>\n",
       "    </tr>\n",
       "    <tr>\n",
       "      <th>9997</th>\n",
       "      <td>9997</td>\n",
       "      <td>1</td>\n",
       "      <td>141.026465</td>\n",
       "      <td>240.124885</td>\n",
       "      <td>5.825795</td>\n",
       "      <td>97.160807</td>\n",
       "    </tr>\n",
       "    <tr>\n",
       "      <th>9998</th>\n",
       "      <td>9998</td>\n",
       "      <td>1</td>\n",
       "      <td>63.400575</td>\n",
       "      <td>196.567790</td>\n",
       "      <td>125.709731</td>\n",
       "      <td>119.307785</td>\n",
       "    </tr>\n",
       "    <tr>\n",
       "      <th>9999</th>\n",
       "      <td>9999</td>\n",
       "      <td>1</td>\n",
       "      <td>92.907472</td>\n",
       "      <td>197.444069</td>\n",
       "      <td>67.910186</td>\n",
       "      <td>242.398313</td>\n",
       "    </tr>\n",
       "  </tbody>\n",
       "</table>\n",
       "<p>10000 rows × 6 columns</p>\n",
       "</div>"
      ],
      "text/plain": [
       "        id  class           x           y           w           h\n",
       "0        0      0  158.293543  163.840423  291.767249  291.767249\n",
       "1        1      0  174.976577  145.041054  285.589838  285.589838\n",
       "2        2      0  176.162791  156.819932  268.717581  268.717581\n",
       "3        3      0  257.477453  201.296374   84.595788   84.595788\n",
       "4        4      0   71.470291  167.118748  133.755485  133.755485\n",
       "...    ...    ...         ...         ...         ...         ...\n",
       "9995  9995      1  163.227646   86.690061  209.817385   11.481389\n",
       "9996  9996      1  149.334399  243.464501  157.174169  146.648070\n",
       "9997  9997      1  141.026465  240.124885    5.825795   97.160807\n",
       "9998  9998      1   63.400575  196.567790  125.709731  119.307785\n",
       "9999  9999      1   92.907472  197.444069   67.910186  242.398313\n",
       "\n",
       "[10000 rows x 6 columns]"
      ]
     },
     "execution_count": 63,
     "metadata": {},
     "output_type": "execute_result"
    }
   ],
   "source": [
    "labels"
   ]
  },
  {
   "cell_type": "code",
   "execution_count": 64,
   "id": "aebf2af6",
   "metadata": {},
   "outputs": [],
   "source": [
    "files = natsorted(files)"
   ]
  },
  {
   "cell_type": "markdown",
   "id": "a3d83f5e",
   "metadata": {},
   "source": [
    "Load images and lables into numpy arrays "
   ]
  },
  {
   "cell_type": "code",
   "execution_count": 65,
   "id": "6b43d1f2",
   "metadata": {},
   "outputs": [],
   "source": [
    "X = []\n",
    "for path in files:\n",
    "    img = load_img(path)\n",
    "    img_arr = np.asarray(img)\n",
    "    X.append(img_arr)\n",
    "    \n",
    "X = np.array(X)"
   ]
  },
  {
   "cell_type": "code",
   "execution_count": 66,
   "id": "ad2d50e5",
   "metadata": {},
   "outputs": [],
   "source": [
    "Y = labels['class']\n",
    "Y = np.array(Y)"
   ]
  },
  {
   "cell_type": "code",
   "execution_count": 67,
   "id": "30421b62",
   "metadata": {},
   "outputs": [
    {
     "name": "stdout",
     "output_type": "stream",
     "text": [
      "Shape of X array:  (10000, 320, 320, 3)\n",
      "Shape of Y array:  (10000,)\n",
      "Shape of single image:  (320, 320, 3)\n"
     ]
    }
   ],
   "source": [
    "print('Shape of X array: ', X.shape)\n",
    "print('Shape of Y array: ', Y.shape)\n",
    "print('Shape of single image: ', X[0].shape)"
   ]
  },
  {
   "cell_type": "markdown",
   "id": "6103cd8b",
   "metadata": {},
   "source": [
    "Normalize input values to 1"
   ]
  },
  {
   "cell_type": "code",
   "execution_count": 86,
   "id": "e1e42313",
   "metadata": {},
   "outputs": [],
   "source": [
    "X = X[:,:,:,0]\n",
    "X = X / X.max()"
   ]
  },
  {
   "cell_type": "code",
   "execution_count": 87,
   "id": "bf91fdfd",
   "metadata": {},
   "outputs": [
    {
     "data": {
      "text/plain": [
       "1.0"
      ]
     },
     "execution_count": 87,
     "metadata": {},
     "output_type": "execute_result"
    }
   ],
   "source": [
    "X.max()"
   ]
  },
  {
   "cell_type": "markdown",
   "id": "c5752adf",
   "metadata": {},
   "source": [
    "Custom function to draw bboxes"
   ]
  },
  {
   "cell_type": "code",
   "execution_count": 37,
   "id": "fb577e6a",
   "metadata": {},
   "outputs": [],
   "source": [
    "def draw_bbox(img, xc, yc, w, h):\n",
    "\n",
    "    start = (int(xc - w / 2), int(yc - h/ 2))\n",
    "    end = (int(xc + w /2), int(yc + h / 2))\n",
    "    \n",
    "    cv2.rectangle(img, start, end, (0,0,255))\n",
    "    cv2.imshow('bbox', img)\n",
    "    cv2.waitKey(0)\n",
    "    cv2.destroyAllWindows()"
   ]
  },
  {
   "cell_type": "code",
   "execution_count": 38,
   "id": "fdc8f151",
   "metadata": {},
   "outputs": [],
   "source": [
    "n = 6000\n",
    "draw_bbox(X[n], labels.loc[n][2], labels.loc[n][3], labels.loc[n][4], labels.loc[n][5])"
   ]
  },
  {
   "cell_type": "markdown",
   "id": "f7cf5979",
   "metadata": {},
   "source": [
    "### Model training"
   ]
  },
  {
   "cell_type": "code",
   "execution_count": 88,
   "id": "6cc679a3",
   "metadata": {},
   "outputs": [],
   "source": [
    "from sklearn.model_selection import train_test_split\n",
    "\n",
    "X_train, X_test, Y_train, Y_test = train_test_split(X, Y, test_size=0.3, random_state=42, shuffle = True)"
   ]
  },
  {
   "cell_type": "code",
   "execution_count": 89,
   "id": "b5f45314",
   "metadata": {
    "scrolled": true
   },
   "outputs": [
    {
     "name": "stdout",
     "output_type": "stream",
     "text": [
      "Original label encoding: 1 shape: (7000,)\n",
      "One hot label encoding for training data: tf.Tensor([0. 1.], shape=(2,), dtype=float32) shape: (7000, 2)\n",
      "One hot label encoding for test data: tf.Tensor([1. 0.], shape=(2,), dtype=float32) shape: (3000, 2)\n"
     ]
    }
   ],
   "source": [
    "print(\"Original label encoding:\",Y_train[0], \"shape:\", Y_train.shape)\n",
    "depth = 2\n",
    "\n",
    "Y_train = tf.one_hot(Y_train, depth)\n",
    "Y_test = tf.one_hot(Y_test, depth)\n",
    "\n",
    "print(\"One hot label encoding for training data:\", Y_train[10], \"shape:\", Y_train.shape)\n",
    "print(\"One hot label encoding for test data:\",Y_test[1], \"shape:\", Y_test.shape)"
   ]
  },
  {
   "cell_type": "markdown",
   "id": "1f80666b",
   "metadata": {},
   "source": [
    "Define some helpers"
   ]
  },
  {
   "cell_type": "code",
   "execution_count": 42,
   "id": "0f29f919",
   "metadata": {},
   "outputs": [],
   "source": [
    "from sklearn.metrics import classification_report, confusion_matrix, accuracy_score\n",
    "\n",
    "def printScores(model, X, Y):\n",
    "    print(\"Classification report:\")\n",
    "    model.predict(X)\n",
    "    print(classification_report(Y, np.argmax(model.predict(X), axis = 1)))\n",
    "    print(\"Confusion matrix:\")\n",
    "    print(confusion_matrix(Y, np.argmax(model.predict(X), axis = 1)))\n",
    "    print('Wrong predict:')\n",
    "    print(confusion_matrix(Y, np.argmax(model.predict(X), axis = 1)).sum() - confusion_matrix(Y, np.argmax(model.predict(X), axis = 1)).trace())\n",
    "    \n",
    "    \n",
    "def plotTrainingHistory(model):\n",
    "\n",
    "    fig, axes= plt.subplots(1,2,figsize=(10,5))\n",
    "    history = model.history\n",
    "    axes[0].plot(history['accuracy'])\n",
    "    axes[0].plot(history['val_accuracy'])\n",
    "    axes[0].set_ylabel('accuracy')\n",
    "    axes[0].set_xlabel('epoch')\n",
    "    axes[0].legend(['train', 'validation'], loc='upper left')\n",
    "\n",
    "    axes[1].plot(history['loss'])\n",
    "    axes[1].plot(history['val_loss'])\n",
    "    axes[1].set_ylabel('loss')\n",
    "    axes[1].set_xlabel('epoch')\n",
    "    axes[1].legend(['train', 'validation'], loc='upper left')"
   ]
  },
  {
   "cell_type": "markdown",
   "id": "0f812527",
   "metadata": {},
   "source": [
    "Define getModel function with defined CNN model inside - some of the parameters are not used in current version"
   ]
  },
  {
   "cell_type": "code",
   "execution_count": 46,
   "id": "ab9396c7",
   "metadata": {},
   "outputs": [],
   "source": [
    "def getModel(nFilters, kernel_size, pool_size, nNeurons, nHiddenLayers, dropout_rate, l2_lambda, inputShape, outputWidth):\n",
    "    inputs = tf.keras.Input(shape=inputShape)\n",
    "    x = inputs\n",
    "    for iHidden in range(nHiddenLayers):   \n",
    "        #kernel_regularizer=tf.keras.regularizers.l2(l2_lambda)  \n",
    "        #x = tf.keras.layers.RandomRotation((-0.05, 0.05))(x)\n",
    "        x = tf.keras.layers.Conv2D(nFilters, kernel_size=kernel_size)(x)\n",
    "        x = tf.keras.layers.MaxPooling2D(pool_size=pool_size)(x)\n",
    "        x = tf.keras.layers.Conv2D(nFilters, kernel_size=kernel_size)(x)\n",
    "        x = tf.keras.layers.MaxPooling2D(pool_size=pool_size)(x)\n",
    "        #x = tf.keras.layers.Dropout(dropout_rate)(x)\n",
    "        x = tf.keras.layers.Flatten()(x)\n",
    "        x = tf.keras.layers.Dense(nNeurons, activation=tf.nn.relu)(x)\n",
    "        x = tf.keras.layers.Dense(int(nNeurons / 2), activation=tf.nn.relu)(x)\n",
    "        x = tf.keras.layers.Dense(int(nNeurons / 2), activation=tf.nn.relu)(x)\n",
    "\n",
    "\n",
    "\n",
    "    outputs = tf.keras.layers.Dense(outputWidth, activation=tf.nn.softmax)(x)\n",
    "    model = tf.keras.Model(inputs=inputs, outputs=outputs)\n",
    "    model.compile(loss='categorical_crossentropy', optimizer='adam', metrics=['accuracy'])\n",
    "    return model"
   ]
  },
  {
   "cell_type": "markdown",
   "id": "1185c760",
   "metadata": {},
   "source": [
    "#### Train model, print test metrics and plot training history "
   ]
  },
  {
   "cell_type": "code",
   "execution_count": 59,
   "id": "b530f8f0",
   "metadata": {},
   "outputs": [
    {
     "name": "stdout",
     "output_type": "stream",
     "text": [
      "Epoch 1/15\n",
      "93/93 [==============================] - 5692s 62s/step - loss: 0.6447 - accuracy: 0.6108 - val_loss: 0.5914 - val_accuracy: 0.6800\n",
      "Epoch 2/15\n",
      "93/93 [==============================] - 101s 1s/step - loss: 0.5862 - accuracy: 0.6659 - val_loss: 0.5879 - val_accuracy: 0.6800\n",
      "Epoch 3/15\n",
      "93/93 [==============================] - 103s 1s/step - loss: 0.5585 - accuracy: 0.6945 - val_loss: 0.4674 - val_accuracy: 0.7829\n",
      "Epoch 4/15\n",
      "93/93 [==============================] - 103s 1s/step - loss: 0.4663 - accuracy: 0.7837 - val_loss: 0.4266 - val_accuracy: 0.7810\n",
      "Epoch 5/15\n",
      "93/93 [==============================] - 102s 1s/step - loss: 0.2626 - accuracy: 0.8847 - val_loss: 0.1802 - val_accuracy: 0.9324\n",
      "Epoch 6/15\n",
      "93/93 [==============================] - 102s 1s/step - loss: 0.1698 - accuracy: 0.9247 - val_loss: 0.1247 - val_accuracy: 0.9476\n",
      "Epoch 7/15\n",
      "93/93 [==============================] - 101s 1s/step - loss: 0.1580 - accuracy: 0.9229 - val_loss: 0.1083 - val_accuracy: 0.9629\n",
      "Epoch 8/15\n",
      "93/93 [==============================] - 105s 1s/step - loss: 0.2321 - accuracy: 0.9039 - val_loss: 0.2908 - val_accuracy: 0.8743\n",
      "Epoch 9/15\n",
      "93/93 [==============================] - 103s 1s/step - loss: 0.2502 - accuracy: 0.8973 - val_loss: 0.1526 - val_accuracy: 0.9343\n",
      "Epoch 10/15\n",
      "93/93 [==============================] - 107s 1s/step - loss: 0.1560 - accuracy: 0.9331 - val_loss: 0.1380 - val_accuracy: 0.9619\n",
      "Epoch 11/15\n",
      "93/93 [==============================] - 105s 1s/step - loss: 0.1069 - accuracy: 0.9519 - val_loss: 0.0824 - val_accuracy: 0.9686\n",
      "Epoch 12/15\n",
      "93/93 [==============================] - 104s 1s/step - loss: 0.0681 - accuracy: 0.9703 - val_loss: 0.0873 - val_accuracy: 0.9590\n",
      "Epoch 13/15\n",
      "93/93 [==============================] - 104s 1s/step - loss: 0.0788 - accuracy: 0.9642 - val_loss: 0.0858 - val_accuracy: 0.9771\n",
      "Epoch 14/15\n",
      "93/93 [==============================] - 108s 1s/step - loss: 0.0878 - accuracy: 0.9613 - val_loss: 0.2188 - val_accuracy: 0.9114\n",
      "Epoch 15/15\n",
      "93/93 [==============================] - 108s 1s/step - loss: 0.0975 - accuracy: 0.9573 - val_loss: 0.0747 - val_accuracy: 0.9629\n",
      "Classification report:\n",
      "94/94 [==============================] - 11s 116ms/step\n",
      "94/94 [==============================] - 11s 112ms/step\n",
      "              precision    recall  f1-score   support\n",
      "\n",
      "           0       0.99      0.92      0.95      1537\n",
      "           1       0.92      0.99      0.96      1463\n",
      "\n",
      "    accuracy                           0.95      3000\n",
      "   macro avg       0.96      0.96      0.95      3000\n",
      "weighted avg       0.96      0.95      0.95      3000\n",
      "\n",
      "Confusion matrix:\n",
      "94/94 [==============================] - 11s 117ms/step\n",
      "[[1418  119]\n",
      " [  16 1447]]\n",
      "Wrong predict:\n",
      "94/94 [==============================] - 11s 120ms/step\n",
      "94/94 [==============================] - 11s 117ms/step\n",
      "135\n",
      "CPU times: total: 3h 53min 25s\n",
      "Wall time: 2h 12s\n"
     ]
    },
    {
     "data": {
      "image/png": "[encoded data removed]",
      "text/plain": [
       "<Figure size 1000x500 with 2 Axes>"
      ]
     },
     "metadata": {},
     "output_type": "display_data"
    }
   ],
   "source": [
    "%%time \n",
    "\n",
    "dropout_rate = 0.2\n",
    "l2_lambda = 0.001\n",
    "batch_size = 64\n",
    "nFilters = 32\n",
    "kernel_size = 5\n",
    "pool_size = (5,5)\n",
    "nNeurons = 128 \n",
    "nHiddenLayers = 1 \n",
    "inputShape = (320, 320, 1)\n",
    "outputWidth = 2\n",
    "\n",
    "model = getModel(nFilters, kernel_size, pool_size, nNeurons, nHiddenLayers, dropout_rate, l2_lambda, inputShape, outputWidth)\n",
    "model_fit = model.fit(X_train, Y_train, epochs=15, batch_size=batch_size, validation_split = 0.15) \n",
    "plotTrainingHistory(model_fit)\n",
    "printScores(model, X_test, np.argmax(Y_test, axis=1))"
   ]
  }
 ],
 "metadata": {
  "kernelspec": {
   "display_name": "Python 3 (ipykernel)",
   "language": "python",
   "name": "python3"
  },
  "language_info": {
   "codemirror_mode": {
    "name": "ipython",
    "version": 3
   },
   "file_extension": ".py",
   "mimetype": "text/x-python",
   "name": "python",
   "nbconvert_exporter": "python",
   "pygments_lexer": "ipython3",
   "version": "3.10.10"
  }
 },
 "nbformat": 4,
 "nbformat_minor": 5
}
