{
 "cells": [
  {
   "cell_type": "code",
   "execution_count": 5,
   "id": "4d5f8b42",
   "metadata": {},
   "outputs": [],
   "source": [
    "import pandas as pd\n",
    "import numpy as np\n",
    "import matplotlib.pyplot as plt\n",
    "import matplotlib.patches as patches\n",
    "import tensorflow as tf\n",
    "import os, glob\n",
    "from natsort import natsorted\n",
    "from tensorflow.keras.preprocessing.image import load_img\n",
    "from tensorflow.keras.utils import image_dataset_from_directory\n",
    "import pathlib\n",
    "\n",
    "from tensorflow import keras\n",
    "from tensorflow.keras import layers"
   ]
  },
  {
   "cell_type": "markdown",
   "id": "a5f6f4f3",
   "metadata": {},
   "source": [
    "# Load data into generator"
   ]
  },
  {
   "cell_type": "code",
   "execution_count": 6,
   "id": "a56aa87d",
   "metadata": {},
   "outputs": [],
   "source": [
    "data_dir = '../data/train'\n",
    "data_dir = pathlib.Path(data_dir)\n",
    "\n",
    "data_val_dir = '../data/val'\n",
    "data_val_dir = pathlib.Path(data_val_dir)\n",
    "\n",
    "data_test_dir = '../data/test'\n",
    "data_test_dir = pathlib.Path(data_test_dir)"
   ]
  },
  {
   "cell_type": "markdown",
   "id": "9a766936",
   "metadata": {},
   "source": [
    "### Load labels"
   ]
  },
  {
   "cell_type": "code",
   "execution_count": 7,
   "id": "58f6ca59",
   "metadata": {},
   "outputs": [],
   "source": [
    "df_labels = pd.read_csv('../data/labels.txt', header = None, names = ['id', 'class', 'x', 'y', 'w', 'h'])\n",
    "df_val_labels = pd.read_csv('../data/val_labels.txt', header = None, names = ['id', 'class', 'x', 'y', 'w', 'h'])\n",
    "df_test_labels = pd.read_csv('../data/test_labels.txt', header = None, names = ['id', 'class', 'x', 'y', 'w', 'h'])"
   ]
  },
  {
   "cell_type": "code",
   "execution_count": 8,
   "id": "cb5005cd",
   "metadata": {},
   "outputs": [],
   "source": [
    "def generate_class_list(df):\n",
    "    class_labels_list = df[['class']].values.tolist()\n",
    "\n",
    "    y_list = []\n",
    "    for x in class_labels_list:\n",
    "        y_list.append(x[0])\n",
    "        \n",
    "    return y_list"
   ]
  },
  {
   "cell_type": "code",
   "execution_count": 9,
   "id": "53ac9f9d",
   "metadata": {},
   "outputs": [],
   "source": [
    "def generate_bbox_list(df):\n",
    "    return df[['x', 'y', 'w', 'h']].values.tolist()"
   ]
  },
  {
   "cell_type": "code",
   "execution_count": 10,
   "id": "03e55ad6",
   "metadata": {},
   "outputs": [],
   "source": [
    "def generate_labels_bbox_list(df):\n",
    "    return df[['class', 'x', 'y', 'w', 'h']].values.tolist()"
   ]
  },
  {
   "cell_type": "code",
   "execution_count": 11,
   "id": "d5b4b463",
   "metadata": {},
   "outputs": [
    {
     "name": "stdout",
     "output_type": "stream",
     "text": [
      "First 10 labels:  [0, 0, 0, 0, 0, 0, 0, 0, 0, 0]\n",
      "First 10 bboxes:  [[0, 0, 62, 62], [46, 5, 8, 8], [31, 7, 16, 16], [29, 9, 10, 10], [2, 2, 52, 52], [18, 23, 38, 38], [4, 3, 58, 58], [26, 18, 24, 24], [9, 11, 28, 28], [17, 19, 42, 42]]\n",
      "Number of labels:  2000\n"
     ]
    }
   ],
   "source": [
    "class_list = generate_class_list(df_labels)\n",
    "class_val_list = generate_class_list(df_val_labels)\n",
    "class_test_list = generate_class_list(df_test_labels)\n",
    "\n",
    "bbox_list = generate_bbox_list(df_labels)\n",
    "bbox_val_list = generate_bbox_list(df_val_labels)\n",
    "bbox_test_list = generate_bbox_list(df_test_labels)\n",
    "    \n",
    "print('First 10 labels: ', class_list[0:10])\n",
    "print('First 10 bboxes: ', bbox_list[0:10])\n",
    "print('Number of labels: ', len(class_list))"
   ]
  },
  {
   "cell_type": "code",
   "execution_count": 12,
   "id": "bdfeca83",
   "metadata": {},
   "outputs": [
    {
     "name": "stdout",
     "output_type": "stream",
     "text": [
      "First 5 labels:  [[0, 0, 0, 62, 62], [0, 46, 5, 8, 8], [0, 31, 7, 16, 16], [0, 29, 9, 10, 10], [0, 2, 2, 52, 52]]\n",
      "Number of labels:  2000\n"
     ]
    }
   ],
   "source": [
    "y_list = generate_labels_bbox_list(df_labels)\n",
    "y_val_list = generate_labels_bbox_list(df_val_labels)\n",
    "\n",
    "print('First 5 labels: ', y_list[0:5])\n",
    "print('Number of labels: ', len(class_list))"
   ]
  },
  {
   "cell_type": "markdown",
   "id": "782c48bf",
   "metadata": {},
   "source": [
    "## Test new generator"
   ]
  },
  {
   "cell_type": "code",
   "execution_count": 13,
   "id": "37f33c92",
   "metadata": {},
   "outputs": [],
   "source": [
    "def combine_labels_bbox(labels_list, bbox_list):\n",
    "    #y_list =[]\n",
    "    #for label, bbox in zip(labels_list, bbox_list):\n",
    "    #    y_list.append([[label], bbox])\n",
    "    \n",
    "    y_list = [labels_list, bbox_list]\n",
    "    return y_list"
   ]
  },
  {
   "cell_type": "code",
   "execution_count": 14,
   "id": "bf7cc320",
   "metadata": {},
   "outputs": [
    {
     "data": {
      "text/plain": [
       "2000"
      ]
     },
     "execution_count": 14,
     "metadata": {},
     "output_type": "execute_result"
    }
   ],
   "source": [
    "test_list = combine_labels_bbox(class_list, bbox_list)\n",
    "len(test_list[1])"
   ]
  },
  {
   "cell_type": "code",
   "execution_count": 301,
   "id": "66204e52",
   "metadata": {},
   "outputs": [],
   "source": [
    "class DataGenerator(keras.utils.Sequence):\n",
    "    'Generates data for Keras'\n",
    "    def __init__(self, list_IDs, labels1, labels2, batch_size=32, dim=(64,64,3), shuffle=True, grayscale = True):\n",
    "        'Initialization'\n",
    "        self.dim = dim\n",
    "        self.batch_size = batch_size\n",
    "        self.labels1 = labels1\n",
    "        self.labels2 = labels2\n",
    "        self.list_IDs = list_IDs\n",
    "        self.shuffle = shuffle\n",
    "        self.grayscale = grayscale\n",
    "        self.on_epoch_end()\n",
    "\n",
    "    def __len__(self):\n",
    "        'Denotes the number of batches per epoch'\n",
    "        return int(np.floor(len(self.list_IDs) / self.batch_size))\n",
    "\n",
    "    def __getitem__(self, index):\n",
    "        'Generate one batch of data'\n",
    "        # Generate indexes of the batch\n",
    "        indexes = self.indexes[index*self.batch_size:(index+1)*self.batch_size]\n",
    "\n",
    "        # Find list of IDs\n",
    "        list_IDs_temp = [self.list_IDs[k] for k in indexes]\n",
    "\n",
    "        # Generate data\n",
    "        X, y = self.__data_generation(list_IDs_temp)\n",
    "\n",
    "        return X, y\n",
    "\n",
    "    def on_epoch_end(self):\n",
    "        'Updates indexes after each epoch'\n",
    "        self.indexes = np.arange(len(self.list_IDs))\n",
    "        if self.shuffle == True:\n",
    "            np.random.shuffle(self.indexes)\n",
    "\n",
    "    def __data_generation(self, list_IDs_temp):\n",
    "        'Generates data containing batch_size samples' # X : (n_samples, *dim, n_channels)\n",
    "        # Initialization\n",
    "        X = np.empty((self.batch_size, *self.dim))\n",
    "        y1 = np.empty((self.batch_size), dtype=int)\n",
    "        y2 = np.empty((self.batch_size, 4), dtype=int)\n",
    "\n",
    "        # Generate data\n",
    "        for i, ID in enumerate(list_IDs_temp):\n",
    "            # Store sample\n",
    "            X[i,] = plt.imread(ID)\n",
    "            \n",
    "            img_class = ID[-17]\n",
    "            img_number = int(ID[-8:-4])\n",
    "            \n",
    "            if img_class == '0':\n",
    "                y1[i] = self.labels1[img_number]\n",
    "                y2[i,] = self.labels2[img_number]\n",
    "            else:\n",
    "                y1[i] = self.labels1[1000+img_number]\n",
    "                y2[i,] = self.labels2[1000+img_number]\n",
    "    \n",
    "        if self.grayscale:\n",
    "            X = X[:,:,:,0]\n",
    "\n",
    "        return X, [y1, y2]"
   ]
  },
  {
   "cell_type": "code",
   "execution_count": 302,
   "id": "91ac1b8e",
   "metadata": {},
   "outputs": [],
   "source": [
    "data = glob.glob('../data/train/*/*')"
   ]
  },
  {
   "cell_type": "code",
   "execution_count": 303,
   "id": "5ea85458",
   "metadata": {},
   "outputs": [
    {
     "data": {
      "text/plain": [
       "'0003'"
      ]
     },
     "execution_count": 303,
     "metadata": {},
     "output_type": "execute_result"
    }
   ],
   "source": [
    "data[1003][-8:-4]"
   ]
  },
  {
   "cell_type": "code",
   "execution_count": 304,
   "id": "e585d4d7",
   "metadata": {},
   "outputs": [],
   "source": [
    "train_dg = DataGenerator(data, class_list, bbox_list ,shuffle = True)"
   ]
  },
  {
   "cell_type": "code",
   "execution_count": 317,
   "id": "b3fecc81",
   "metadata": {},
   "outputs": [
    {
     "data": {
      "text/plain": [
       "array([ 7, 21, 29, 31])"
      ]
     },
     "execution_count": 317,
     "metadata": {},
     "output_type": "execute_result"
    }
   ],
   "source": [
    "test = train_dg.__getitem__(1)\n",
    "test[1][1][0]"
   ]
  },
  {
   "cell_type": "markdown",
   "id": "caa3ca48",
   "metadata": {},
   "source": [
    "### Load val data"
   ]
  },
  {
   "cell_type": "markdown",
   "id": "b3e85c46",
   "metadata": {},
   "source": [
    "### Visualize the data "
   ]
  },
  {
   "cell_type": "code",
   "execution_count": 306,
   "id": "815fa9f3",
   "metadata": {},
   "outputs": [
    {
     "data": {
      "text/plain": [
       "(64, 64)"
      ]
     },
     "execution_count": 306,
     "metadata": {},
     "output_type": "execute_result"
    }
   ],
   "source": [
    "sample_batch = train_dg.__getitem__(1)\n",
    "sample_batch[0][0].shape"
   ]
  },
  {
   "cell_type": "code",
   "execution_count": 320,
   "id": "73580a3a",
   "metadata": {},
   "outputs": [
    {
     "data": {
      "image/png": "[encoded data removed]",
      "text/plain": [
       "<Figure size 500x500 with 9 Axes>"
      ]
     },
     "metadata": {},
     "output_type": "display_data"
    }
   ],
   "source": [
    "import matplotlib.pyplot as plt\n",
    "import matplotlib.patches as patches\n",
    "\n",
    "sample_batch = train_dg.__getitem__(1)\n",
    "plt.figure(figsize=(5, 5))\n",
    "for i in range(9):\n",
    "    ax = plt.subplot(3, 3, i + 1)\n",
    "    plt.imshow(sample_batch[0][i].astype(\"uint8\"))\n",
    "    rect = patches.Rectangle((sample_batch[1][1][i][0], sample_batch[1][1][i][1]), sample_batch[1][1][i][2], sample_batch[1][1][i][3], linewidth=1, edgecolor='r', facecolor='none')\n",
    "    ax.add_patch(rect)\n",
    "    ax.set_title(sample_batch[1][0][i])\n",
    "    plt.axis(\"off\")"
   ]
  },
  {
   "cell_type": "markdown",
   "id": "725753ba",
   "metadata": {},
   "source": [
    "# Model definition and training"
   ]
  },
  {
   "cell_type": "markdown",
   "id": "8be22ea6",
   "metadata": {},
   "source": [
    "#### helpers"
   ]
  },
  {
   "cell_type": "code",
   "execution_count": 383,
   "id": "4335520c",
   "metadata": {},
   "outputs": [],
   "source": [
    "from sklearn.metrics import classification_report, confusion_matrix, accuracy_score\n",
    "    \n",
    "def printScores(y_pred, y_true):\n",
    "    print(\"Classification report:\")\n",
    "    print(classification_report(y_true, y_pred))\n",
    "    print(\"Confusion matrix:\")\n",
    "    print(confusion_matrix(y_true, y_pred))\n",
    "    \n",
    "def plotTrainingHistory(model):\n",
    "\n",
    "    fig, axes= plt.subplots(1,2,figsize=(10,5))\n",
    "    history = model.history\n",
    "    axes[0].plot(history['accuracy'])\n",
    "    axes[0].plot(history['val_accuracy'])\n",
    "    axes[0].set_ylabel('accuracy')\n",
    "    axes[0].set_xlabel('epoch')\n",
    "    axes[0].legend(['train', 'validation'], loc='upper left')\n",
    "\n",
    "    axes[1].plot(history['loss'])\n",
    "    axes[1].plot(history['val_loss'])\n",
    "    axes[1].set_ylabel('loss')\n",
    "    axes[1].set_xlabel('epoch')\n",
    "    axes[1].legend(['train', 'validation'], loc='upper left')\n",
    "    \n",
    "def calculate_iou(box1, box2):\n",
    "    x1, y1, w1, h1 = box1\n",
    "    x3, y3, w2, h2 = box2[0], box2[1], box2[2], box2[3]\n",
    "    \n",
    "    x2, y2 = x1 + w1, y1 + h1\n",
    "    x4, y4 = x1 + w1, y1 + h1\n",
    "    \n",
    "    x_inter1 = max(x1, x3)\n",
    "    y_inter1 = max(y1, y3)\n",
    "    x_inter2 = min(x2, x4)\n",
    "    y_inter2 = min(y2, y4)\n",
    "    width_inter = abs(x_inter2 - x_inter1)\n",
    "    height_inter = abs(y_inter2 - y_inter1)\n",
    "    area_inter = width_inter * height_inter\n",
    "    width_box1 = abs(x2 - x1)\n",
    "    height_box1 = abs(y2 - y1)\n",
    "    width_box2 = abs(x4 - x3)\n",
    "    height_box2 = abs(y4 - y3)\n",
    "    area_box1 = width_box1 * height_box1\n",
    "    area_box2 = width_box2 * height_box2\n",
    "    area_union = area_box1 + area_box2 - area_inter\n",
    "    iou = area_inter / area_union\n",
    "    if iou > 1:\n",
    "        iou = 0\n",
    "    return iou"
   ]
  },
  {
   "cell_type": "markdown",
   "id": "6268d816",
   "metadata": {},
   "source": [
    "### class-defined model"
   ]
  },
  {
   "cell_type": "code",
   "execution_count": 323,
   "id": "88825089",
   "metadata": {},
   "outputs": [],
   "source": [
    "def CNN_class(nFilters, kernel_size, pool_size, nNeurons, inputShape, class_outputWidth, bbox_outputWidth):\n",
    "    inputs = tf.keras.Input(shape=inputShape)\n",
    "    x = inputs\n",
    "    x = tf.keras.layers.Rescaling(1./255, input_shape=inputShape)(x)\n",
    "    x = tf.keras.layers.Conv2D(nFilters, kernel_size=kernel_size)(x)\n",
    "    x = tf.keras.layers.MaxPooling2D(pool_size=pool_size)(x)\n",
    "    x = tf.keras.layers.Conv2D(nFilters, kernel_size=kernel_size)(x)\n",
    "    x = tf.keras.layers.MaxPooling2D(pool_size=pool_size)(x)\n",
    "    x = tf.keras.layers.Flatten()(x)\n",
    "    x = tf.keras.layers.Dense(nNeurons, activation=tf.nn.relu)(x)\n",
    "    x = tf.keras.layers.Dense(int(nNeurons / 2), activation=tf.nn.relu)(x)\n",
    "    x = tf.keras.layers.Dense(int(nNeurons / 2), activation=tf.nn.relu)(x)\n",
    "    \n",
    "    output_class = tf.keras.layers.Dense(class_outputWidth, activation=tf.nn.softmax, name = 'class_output')(x)\n",
    "    output_bbox = tf.keras.layers.Dense(bbox_outputWidth, name = 'bbox_output')(x)\n",
    "    \n",
    "    model = tf.keras.Model(inputs=inputs, outputs=[output_class, output_bbox])\n",
    "    model.compile(optimizer='adam', loss={'class_output': tf.keras.losses.SparseCategoricalCrossentropy(from_logits=True), 'bbox_output': tf.keras.losses.mse},  metrics={'class_output': ['accuracy'], 'bbox_output': None})\n",
    "    \n",
    "    #model = tf.keras.Model(inputs=inputs, outputs=output_class)\n",
    "    #model.compile(optimizer='adam', loss=tf.keras.losses.SparseCategoricalCrossentropy(from_logits=True), metrics=['accuracy'])\n",
    "    return model"
   ]
  },
  {
   "cell_type": "markdown",
   "id": "2dca4692",
   "metadata": {},
   "source": [
    "### model training"
   ]
  },
  {
   "cell_type": "code",
   "execution_count": 326,
   "id": "e98f97f1",
   "metadata": {},
   "outputs": [
    {
     "name": "stdout",
     "output_type": "stream",
     "text": [
      "Epoch 1/30\n",
      "62/62 [==============================] - 2s 18ms/step - loss: 444.4471 - class_output_loss: 1.2096 - bbox_output_loss: 443.2376 - class_output_accuracy: 0.4728\n",
      "Epoch 2/30\n",
      "62/62 [==============================] - 1s 17ms/step - loss: 274.7957 - class_output_loss: 2.5734 - bbox_output_loss: 272.2223 - class_output_accuracy: 0.3810\n",
      "Epoch 3/30\n",
      "62/62 [==============================] - 1s 17ms/step - loss: 213.6638 - class_output_loss: 0.9601 - bbox_output_loss: 212.7038 - class_output_accuracy: 0.5756\n",
      "Epoch 4/30\n",
      "62/62 [==============================] - 1s 17ms/step - loss: 203.9461 - class_output_loss: 0.6823 - bbox_output_loss: 203.2637 - class_output_accuracy: 0.6497\n",
      "Epoch 5/30\n",
      "62/62 [==============================] - 1s 18ms/step - loss: 187.5284 - class_output_loss: 0.7012 - bbox_output_loss: 186.8272 - class_output_accuracy: 0.6285\n",
      "Epoch 6/30\n",
      "62/62 [==============================] - 1s 19ms/step - loss: 190.5240 - class_output_loss: 0.7014 - bbox_output_loss: 189.8227 - class_output_accuracy: 0.6411\n",
      "Epoch 7/30\n",
      "62/62 [==============================] - 1s 18ms/step - loss: 162.0741 - class_output_loss: 0.6982 - bbox_output_loss: 161.3759 - class_output_accuracy: 0.6850\n",
      "Epoch 8/30\n",
      "62/62 [==============================] - 1s 17ms/step - loss: 145.5573 - class_output_loss: 0.6896 - bbox_output_loss: 144.8677 - class_output_accuracy: 0.6815\n",
      "Epoch 9/30\n",
      "62/62 [==============================] - 1s 17ms/step - loss: 140.5587 - class_output_loss: 0.7089 - bbox_output_loss: 139.8498 - class_output_accuracy: 0.6764\n",
      "Epoch 10/30\n",
      "62/62 [==============================] - 1s 17ms/step - loss: 124.1055 - class_output_loss: 0.6766 - bbox_output_loss: 123.4289 - class_output_accuracy: 0.6749\n",
      "Epoch 11/30\n",
      "62/62 [==============================] - 1s 17ms/step - loss: 131.1871 - class_output_loss: 0.6884 - bbox_output_loss: 130.4987 - class_output_accuracy: 0.6678\n",
      "Epoch 12/30\n",
      "62/62 [==============================] - 1s 17ms/step - loss: 105.3156 - class_output_loss: 0.6679 - bbox_output_loss: 104.6476 - class_output_accuracy: 0.6870\n",
      "Epoch 13/30\n",
      "62/62 [==============================] - 1s 17ms/step - loss: 105.5040 - class_output_loss: 0.6434 - bbox_output_loss: 104.8606 - class_output_accuracy: 0.6850\n",
      "Epoch 14/30\n",
      "62/62 [==============================] - 1s 17ms/step - loss: 98.2841 - class_output_loss: 0.6305 - bbox_output_loss: 97.6536 - class_output_accuracy: 0.6986\n",
      "Epoch 15/30\n",
      "62/62 [==============================] - 1s 17ms/step - loss: 92.9706 - class_output_loss: 0.6537 - bbox_output_loss: 92.3169 - class_output_accuracy: 0.6925\n",
      "Epoch 16/30\n",
      "62/62 [==============================] - 1s 18ms/step - loss: 93.8917 - class_output_loss: 0.6418 - bbox_output_loss: 93.2498 - class_output_accuracy: 0.6991\n",
      "Epoch 17/30\n",
      "62/62 [==============================] - 1s 18ms/step - loss: 89.5662 - class_output_loss: 0.6370 - bbox_output_loss: 88.9291 - class_output_accuracy: 0.7036\n",
      "Epoch 18/30\n",
      "62/62 [==============================] - 1s 18ms/step - loss: 77.0238 - class_output_loss: 0.6276 - bbox_output_loss: 76.3962 - class_output_accuracy: 0.7097\n",
      "Epoch 19/30\n",
      "62/62 [==============================] - 1s 17ms/step - loss: 71.5327 - class_output_loss: 0.6086 - bbox_output_loss: 70.9241 - class_output_accuracy: 0.7157\n",
      "Epoch 20/30\n",
      "62/62 [==============================] - 1s 17ms/step - loss: 67.1472 - class_output_loss: 0.5920 - bbox_output_loss: 66.5553 - class_output_accuracy: 0.7056\n",
      "Epoch 21/30\n",
      "62/62 [==============================] - 1s 17ms/step - loss: 61.9700 - class_output_loss: 0.5719 - bbox_output_loss: 61.3981 - class_output_accuracy: 0.7293\n",
      "Epoch 22/30\n",
      "62/62 [==============================] - 1s 17ms/step - loss: 60.3524 - class_output_loss: 0.5830 - bbox_output_loss: 59.7694 - class_output_accuracy: 0.7182\n",
      "Epoch 23/30\n",
      "62/62 [==============================] - 1s 17ms/step - loss: 66.5045 - class_output_loss: 0.5928 - bbox_output_loss: 65.9117 - class_output_accuracy: 0.7177\n",
      "Epoch 24/30\n",
      "62/62 [==============================] - 1s 17ms/step - loss: 59.2665 - class_output_loss: 0.5719 - bbox_output_loss: 58.6945 - class_output_accuracy: 0.7319\n",
      "Epoch 25/30\n",
      "62/62 [==============================] - 1s 17ms/step - loss: 54.3039 - class_output_loss: 0.5645 - bbox_output_loss: 53.7394 - class_output_accuracy: 0.7203\n",
      "Epoch 26/30\n",
      "62/62 [==============================] - 1s 16ms/step - loss: 64.8000 - class_output_loss: 0.6275 - bbox_output_loss: 64.1725 - class_output_accuracy: 0.7082\n",
      "Epoch 27/30\n",
      "62/62 [==============================] - 1s 17ms/step - loss: 57.8265 - class_output_loss: 0.5650 - bbox_output_loss: 57.2615 - class_output_accuracy: 0.7334\n",
      "Epoch 28/30\n",
      "62/62 [==============================] - 1s 18ms/step - loss: 49.2401 - class_output_loss: 0.5478 - bbox_output_loss: 48.6923 - class_output_accuracy: 0.7288\n",
      "Epoch 29/30\n",
      "62/62 [==============================] - 1s 18ms/step - loss: 46.1036 - class_output_loss: 0.5385 - bbox_output_loss: 45.5651 - class_output_accuracy: 0.7429\n",
      "Epoch 30/30\n",
      "62/62 [==============================] - 1s 18ms/step - loss: 45.1219 - class_output_loss: 0.5269 - bbox_output_loss: 44.5949 - class_output_accuracy: 0.7495\n",
      "CPU times: total: 5min 48s\n",
      "Wall time: 33.8 s\n"
     ]
    },
    {
     "data": {
      "text/plain": [
       "<keras.callbacks.History at 0x1e90651e8c0>"
      ]
     },
     "execution_count": 326,
     "metadata": {},
     "output_type": "execute_result"
    }
   ],
   "source": [
    "%%time \n",
    "\n",
    "batch_size = 32\n",
    "nFilters = 32\n",
    "kernel_size = 3\n",
    "pool_size = (3,3)\n",
    "nNeurons = 128 \n",
    "nHiddenLayers = 1 \n",
    "inputShape = (64, 64, 1)\n",
    "class_outputWidth = 2\n",
    "bbox_outputWidth = 4\n",
    "\n",
    "epochs = 30\n",
    "\n",
    "model = CNN_class(nFilters, kernel_size, pool_size, nNeurons, inputShape, class_outputWidth, bbox_outputWidth)\n",
    "\n",
    "model.fit(train_dg, epochs = epochs)"
   ]
  },
  {
   "cell_type": "markdown",
   "id": "5d8e52b8",
   "metadata": {},
   "source": [
    "### testing on test dataset"
   ]
  },
  {
   "cell_type": "code",
   "execution_count": 328,
   "id": "844ecdf5",
   "metadata": {},
   "outputs": [],
   "source": [
    "import glob\n",
    "\n",
    "test = glob.glob('../data/test/*/*')\n",
    "test_labels = "
   ]
  },
  {
   "cell_type": "code",
   "execution_count": 373,
   "id": "c63f9020",
   "metadata": {},
   "outputs": [],
   "source": [
    "def test_predict(data_dir):\n",
    "    class_predictions = []\n",
    "    bbox_predictions = []\n",
    "    for path in data_dir:\n",
    "        img = tf.keras.utils.load_img(path, color_mode='grayscale')\n",
    "        img_array = tf.keras.utils.img_to_array(img)\n",
    "        img_array = tf.expand_dims(img_array, 0) # Create a batch\n",
    "        y = model.predict(img_array, verbose = 0)\n",
    "        class_predictions.append(np.argmax(y[0][0]))\n",
    "        bbox_predictions.append(y[1][0])\n",
    "                  \n",
    "    return class_predictions, bbox_predictions"
   ]
  },
  {
   "cell_type": "code",
   "execution_count": 374,
   "id": "04aa8774",
   "metadata": {},
   "outputs": [],
   "source": [
    "pred_class, pred_bbox  = test_predict(test)"
   ]
  },
  {
   "cell_type": "code",
   "execution_count": 375,
   "id": "142b2260",
   "metadata": {},
   "outputs": [
    {
     "name": "stdout",
     "output_type": "stream",
     "text": [
      "Classification report:\n",
      "              precision    recall  f1-score   support\n",
      "\n",
      "           0       0.73      0.71      0.72       300\n",
      "           1       0.72      0.73      0.73       300\n",
      "\n",
      "    accuracy                           0.72       600\n",
      "   macro avg       0.72      0.72      0.72       600\n",
      "weighted avg       0.72      0.72      0.72       600\n",
      "\n",
      "Confusion matrix:\n",
      "[[214  86]\n",
      " [ 80 220]]\n"
     ]
    }
   ],
   "source": [
    "printScores(pred_class, class_test_list)"
   ]
  },
  {
   "cell_type": "code",
   "execution_count": 389,
   "id": "d2688399",
   "metadata": {},
   "outputs": [
    {
     "data": {
      "text/plain": [
       "array([17.753033,  7.426487, 15.556524, 13.641514], dtype=float32)"
      ]
     },
     "execution_count": 389,
     "metadata": {},
     "output_type": "execute_result"
    }
   ],
   "source": [
    "pred_bbox[0]"
   ]
  },
  {
   "cell_type": "code",
   "execution_count": 390,
   "id": "54bea747",
   "metadata": {},
   "outputs": [],
   "source": [
    "iou = []\n",
    "for i in range(len(bbox_test_list)):\n",
    "    iou.append(calculate_iou(bbox_test_list[i], pred_bbox[i]))"
   ]
  },
  {
   "cell_type": "code",
   "execution_count": 391,
   "id": "3806297d",
   "metadata": {},
   "outputs": [
    {
     "name": "stdout",
     "output_type": "stream",
     "text": [
      "Mean IoU:  0.62\n",
      "Mean IoU without 0s:  0.64\n"
     ]
    }
   ],
   "source": [
    "print('Mean IoU: ', np.round(np.mean(iou), 2))\n",
    "print('Mean IoU without 0s: ', np.round(np.mean([i for i in iou if i != 0]), 2))"
   ]
  },
  {
   "cell_type": "code",
   "execution_count": 394,
   "id": "08b2b2e7",
   "metadata": {},
   "outputs": [
    {
     "name": "stdout",
     "output_type": "stream",
     "text": [
      "4 11 50 50\n",
      "3.1967247 12.407364 48.367348 48.772247\n"
     ]
    },
    {
     "data": {
      "image/png": "[encoded data removed]",
      "text/plain": [
       "<Figure size 500x500 with 1 Axes>"
      ]
     },
     "metadata": {},
     "output_type": "display_data"
    }
   ],
   "source": [
    "n = 120\n",
    "\n",
    "x1, y1, wt, ht = bbox_test_list[n]\n",
    "x2, y2, wp, hp = pred_bbox[n]\n",
    "print(x1, y1, wt, ht)\n",
    "print(x2, y2, wp, hp)\n",
    "\n",
    "fig = plt.figure(figsize = (5,5))\n",
    "img = tf.keras.utils.load_img(test[n], color_mode='grayscale')\n",
    "img_array = tf.keras.utils.img_to_array(img)\n",
    "plt.imshow(img_array.astype(\"uint8\"))\n",
    "rect_true = patches.Rectangle((x1, y1), wt, ht, linewidth=1, edgecolor='r', facecolor='none')\n",
    "rect_pred = patches.Rectangle((x2, y2), wp, hp, linewidth=1, edgecolor='b', facecolor='none')\n",
    "plt.gca().add_patch(rect_true)\n",
    "plt.gca().add_patch(rect_pred)\n",
    "plt.axis(\"off\")\n",
    "plt.show()"
   ]
  },
  {
   "cell_type": "code",
   "execution_count": null,
   "id": "ab1023bb",
   "metadata": {},
   "outputs": [],
   "source": []
  }
 ],
 "metadata": {
  "kernelspec": {
   "display_name": "Python 3 (ipykernel)",
   "language": "python",
   "name": "python3"
  },
  "language_info": {
   "codemirror_mode": {
    "name": "ipython",
    "version": 3
   },
   "file_extension": ".py",
   "mimetype": "text/x-python",
   "name": "python",
   "nbconvert_exporter": "python",
   "pygments_lexer": "ipython3",
   "version": "3.10.11"
  }
 },
 "nbformat": 4,
 "nbformat_minor": 5
}
