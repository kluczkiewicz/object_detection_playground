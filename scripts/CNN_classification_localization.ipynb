{
 "cells": [
  {
   "cell_type": "code",
   "execution_count": 5,
   "id": "4d5f8b42",
   "metadata": {},
   "outputs": [],
   "source": [
    "import pandas as pd\n",
    "import numpy as np\n",
    "import matplotlib.pyplot as plt\n",
    "import matplotlib.patches as patches\n",
    "import tensorflow as tf\n",
    "import os, glob\n",
    "from natsort import natsorted\n",
    "from tensorflow.keras.preprocessing.image import load_img\n",
    "from tensorflow.keras.utils import image_dataset_from_directory\n",
    "import pathlib\n",
    "\n",
    "from tensorflow import keras\n",
    "from tensorflow.keras import layers"
   ]
  },
  {
   "cell_type": "markdown",
   "id": "a5f6f4f3",
   "metadata": {},
   "source": [
    "# Load data into generator"
   ]
  },
  {
   "cell_type": "code",
   "execution_count": 6,
   "id": "a56aa87d",
   "metadata": {},
   "outputs": [],
   "source": [
    "data_dir = '../data/train'\n",
    "data_dir = pathlib.Path(data_dir)\n",
    "\n",
    "data_val_dir = '../data/val'\n",
    "data_val_dir = pathlib.Path(data_val_dir)\n",
    "\n",
    "data_test_dir = '../data/test'\n",
    "data_test_dir = pathlib.Path(data_test_dir)"
   ]
  },
  {
   "cell_type": "markdown",
   "id": "9a766936",
   "metadata": {},
   "source": [
    "### Load labels"
   ]
  },
  {
   "cell_type": "code",
   "execution_count": 7,
   "id": "58f6ca59",
   "metadata": {},
   "outputs": [],
   "source": [
    "df_labels = pd.read_csv('../data/labels.txt', header = None, names = ['id', 'class', 'x', 'y', 'w', 'h'])\n",
    "df_val_labels = pd.read_csv('../data/val_labels.txt', header = None, names = ['id', 'class', 'x', 'y', 'w', 'h'])\n",
    "df_test_labels = pd.read_csv('../data/test_labels.txt', header = None, names = ['id', 'class', 'x', 'y', 'w', 'h'])"
   ]
  },
  {
   "cell_type": "code",
   "execution_count": 8,
   "id": "cb5005cd",
   "metadata": {},
   "outputs": [],
   "source": [
    "def generate_class_list(df):\n",
    "    class_labels_list = df[['class']].values.tolist()\n",
    "\n",
    "    y_list = []\n",
    "    for x in class_labels_list:\n",
    "        y_list.append(x[0])\n",
    "        \n",
    "    return y_list"
   ]
  },
  {
   "cell_type": "code",
   "execution_count": 9,
   "id": "53ac9f9d",
   "metadata": {},
   "outputs": [],
   "source": [
    "def generate_bbox_list(df):\n",
    "    return df[['x', 'y', 'w', 'h']].values.tolist()"
   ]
  },
  {
   "cell_type": "code",
   "execution_count": 10,
   "id": "03e55ad6",
   "metadata": {},
   "outputs": [],
   "source": [
    "def generate_labels_bbox_list(df):\n",
    "    return df[['class', 'x', 'y', 'w', 'h']].values.tolist()"
   ]
  },
  {
   "cell_type": "code",
   "execution_count": 11,
   "id": "d5b4b463",
   "metadata": {},
   "outputs": [
    {
     "name": "stdout",
     "output_type": "stream",
     "text": [
      "First 10 labels:  [0, 0, 0, 0, 0, 0, 0, 0, 0, 0]\n",
      "First 10 bboxes:  [[0, 0, 62, 62], [46, 5, 8, 8], [31, 7, 16, 16], [29, 9, 10, 10], [2, 2, 52, 52], [18, 23, 38, 38], [4, 3, 58, 58], [26, 18, 24, 24], [9, 11, 28, 28], [17, 19, 42, 42]]\n",
      "Number of labels:  2000\n"
     ]
    }
   ],
   "source": [
    "class_list = generate_class_list(df_labels)\n",
    "class_val_list = generate_class_list(df_val_labels)\n",
    "class_test_list = generate_class_list(df_test_labels)\n",
    "\n",
    "bbox_list = generate_bbox_list(df_labels)\n",
    "bbox_val_list = generate_bbox_list(df_val_labels)\n",
    "bbox_test_list = generate_bbox_list(df_test_labels)\n",
    "    \n",
    "print('First 10 labels: ', class_list[0:10])\n",
    "print('First 10 bboxes: ', bbox_list[0:10])\n",
    "print('Number of labels: ', len(class_list))"
   ]
  },
  {
   "cell_type": "code",
   "execution_count": 12,
   "id": "bdfeca83",
   "metadata": {},
   "outputs": [
    {
     "name": "stdout",
     "output_type": "stream",
     "text": [
      "First 5 labels:  [[0, 0, 0, 62, 62], [0, 46, 5, 8, 8], [0, 31, 7, 16, 16], [0, 29, 9, 10, 10], [0, 2, 2, 52, 52]]\n",
      "Number of labels:  2000\n"
     ]
    }
   ],
   "source": [
    "y_list = generate_labels_bbox_list(df_labels)\n",
    "y_val_list = generate_labels_bbox_list(df_val_labels)\n",
    "\n",
    "print('First 5 labels: ', y_list[0:5])\n",
    "print('Number of labels: ', len(class_list))"
   ]
  },
  {
   "cell_type": "markdown",
   "id": "782c48bf",
   "metadata": {},
   "source": [
    "## Test new generator"
   ]
  },
  {
   "cell_type": "code",
   "execution_count": 13,
   "id": "37f33c92",
   "metadata": {},
   "outputs": [],
   "source": [
    "def combine_labels_bbox(labels_list, bbox_list):\n",
    "    #y_list =[]\n",
    "    #for label, bbox in zip(labels_list, bbox_list):\n",
    "    #    y_list.append([[label], bbox])\n",
    "    \n",
    "    y_list = [labels_list, bbox_list]\n",
    "    return y_list"
   ]
  },
  {
   "cell_type": "code",
   "execution_count": 14,
   "id": "bf7cc320",
   "metadata": {},
   "outputs": [
    {
     "data": {
      "text/plain": [
       "2000"
      ]
     },
     "execution_count": 14,
     "metadata": {},
     "output_type": "execute_result"
    }
   ],
   "source": [
    "test_list = combine_labels_bbox(class_list, bbox_list)\n",
    "len(test_list[1])"
   ]
  },
  {
   "cell_type": "code",
   "execution_count": 301,
   "id": "66204e52",
   "metadata": {},
   "outputs": [],
   "source": [
    "class DataGenerator(keras.utils.Sequence):\n",
    "    'Generates data for Keras'\n",
    "    def __init__(self, list_IDs, labels1, labels2, batch_size=32, dim=(64,64,3), shuffle=True, grayscale = True):\n",
    "        'Initialization'\n",
    "        self.dim = dim\n",
    "        self.batch_size = batch_size\n",
    "        self.labels1 = labels1\n",
    "        self.labels2 = labels2\n",
    "        self.list_IDs = list_IDs\n",
    "        self.shuffle = shuffle\n",
    "        self.grayscale = grayscale\n",
    "        self.on_epoch_end()\n",
    "\n",
    "    def __len__(self):\n",
    "        'Denotes the number of batches per epoch'\n",
    "        return int(np.floor(len(self.list_IDs) / self.batch_size))\n",
    "\n",
    "    def __getitem__(self, index):\n",
    "        'Generate one batch of data'\n",
    "        # Generate indexes of the batch\n",
    "        indexes = self.indexes[index*self.batch_size:(index+1)*self.batch_size]\n",
    "\n",
    "        # Find list of IDs\n",
    "        list_IDs_temp = [self.list_IDs[k] for k in indexes]\n",
    "\n",
    "        # Generate data\n",
    "        X, y = self.__data_generation(list_IDs_temp)\n",
    "\n",
    "        return X, y\n",
    "\n",
    "    def on_epoch_end(self):\n",
    "        'Updates indexes after each epoch'\n",
    "        self.indexes = np.arange(len(self.list_IDs))\n",
    "        if self.shuffle == True:\n",
    "            np.random.shuffle(self.indexes)\n",
    "\n",
    "    def __data_generation(self, list_IDs_temp):\n",
    "        'Generates data containing batch_size samples' # X : (n_samples, *dim, n_channels)\n",
    "        # Initialization\n",
    "        X = np.empty((self.batch_size, *self.dim))\n",
    "        y1 = np.empty((self.batch_size), dtype=int)\n",
    "        y2 = np.empty((self.batch_size, 4), dtype=int)\n",
    "\n",
    "        # Generate data\n",
    "        for i, ID in enumerate(list_IDs_temp):\n",
    "            # Store sample\n",
    "            X[i,] = plt.imread(ID)\n",
    "            \n",
    "            img_class = ID[-17]\n",
    "            img_number = int(ID[-8:-4])\n",
    "            \n",
    "            if img_class == '0':\n",
    "                y1[i] = self.labels1[img_number]\n",
    "                y2[i,] = self.labels2[img_number]\n",
    "            else:\n",
    "                y1[i] = self.labels1[1000+img_number]\n",
    "                y2[i,] = self.labels2[1000+img_number]\n",
    "    \n",
    "        if self.grayscale:\n",
    "            X = X[:,:,:,0]\n",
    "\n",
    "        return X, [y1, y2]"
   ]
  },
  {
   "cell_type": "code",
   "execution_count": 302,
   "id": "91ac1b8e",
   "metadata": {},
   "outputs": [],
   "source": [
    "data = glob.glob('../data/train/*/*')"
   ]
  },
  {
   "cell_type": "code",
   "execution_count": 303,
   "id": "5ea85458",
   "metadata": {},
   "outputs": [
    {
     "data": {
      "text/plain": [
       "'0003'"
      ]
     },
     "execution_count": 303,
     "metadata": {},
     "output_type": "execute_result"
    }
   ],
   "source": [
    "data[1003][-8:-4]"
   ]
  },
  {
   "cell_type": "code",
   "execution_count": 304,
   "id": "e585d4d7",
   "metadata": {},
   "outputs": [],
   "source": [
    "train_dg = DataGenerator(data, class_list, bbox_list ,shuffle = True)"
   ]
  },
  {
   "cell_type": "code",
   "execution_count": 317,
   "id": "b3fecc81",
   "metadata": {},
   "outputs": [
    {
     "data": {
      "text/plain": [
       "array([ 7, 21, 29, 31])"
      ]
     },
     "execution_count": 317,
     "metadata": {},
     "output_type": "execute_result"
    }
   ],
   "source": [
    "test = train_dg.__getitem__(1)\n",
    "test[1][1][0]"
   ]
  },
  {
   "cell_type": "markdown",
   "id": "caa3ca48",
   "metadata": {},
   "source": [
    "### Load test data"
   ]
  },
  {
   "cell_type": "markdown",
   "id": "b3e85c46",
   "metadata": {},
   "source": [
    "### Visualize the data "
   ]
  },
  {
   "cell_type": "code",
   "execution_count": 306,
   "id": "815fa9f3",
   "metadata": {},
   "outputs": [
    {
     "data": {
      "text/plain": [
       "(64, 64)"
      ]
     },
     "execution_count": 306,
     "metadata": {},
     "output_type": "execute_result"
    }
   ],
   "source": [
    "sample_batch = train_dg.__getitem__(1)\n",
    "sample_batch[0][0].shape"
   ]
  },
  {
   "cell_type": "code",
   "execution_count": 320,
   "id": "73580a3a",
   "metadata": {},
   "outputs": [
    {
     "data": {
      "image/png": "[encoded data removed]",
      "text/plain": [
       "<Figure size 500x500 with 9 Axes>"
      ]
     },
     "metadata": {},
     "output_type": "display_data"
    }
   ],
   "source": [
    "import matplotlib.pyplot as plt\n",
    "import matplotlib.patches as patches\n",
    "\n",
    "sample_batch = train_dg.__getitem__(1)\n",
    "plt.figure(figsize=(5, 5))\n",
    "for i in range(9):\n",
    "    ax = plt.subplot(3, 3, i + 1)\n",
    "    plt.imshow(sample_batch[0][i].astype(\"uint8\"))\n",
    "    rect = patches.Rectangle((sample_batch[1][1][i][0], sample_batch[1][1][i][1]), sample_batch[1][1][i][2], sample_batch[1][1][i][3], linewidth=1, edgecolor='r', facecolor='none')\n",
    "    ax.add_patch(rect)\n",
    "    ax.set_title(sample_batch[1][0][i])\n",
    "    plt.axis(\"off\")"
   ]
  },
  {
   "cell_type": "markdown",
   "id": "ea353df2",
   "metadata": {},
   "source": [
    "## Old generator (doesn't work with multiple output with different sizes)"
   ]
  },
  {
   "cell_type": "markdown",
   "id": "f25fc64a",
   "metadata": {},
   "source": [
    "### Load images into generator"
   ]
  },
  {
   "cell_type": "code",
   "execution_count": 121,
   "id": "342f09bc",
   "metadata": {},
   "outputs": [
    {
     "name": "stdout",
     "output_type": "stream",
     "text": [
      "Found 2000 files belonging to 2 classes.\n"
     ]
    },
    {
     "ename": "ValueError",
     "evalue": "Can't convert non-rectangular Python sequence to Tensor.",
     "output_type": "error",
     "traceback": [
      "\u001b[1;31m---------------------------------------------------------------------------\u001b[0m",
      "\u001b[1;31mTypeError\u001b[0m                                 Traceback (most recent call last)",
      "File \u001b[1;32mD:\\projekty\\mgr\\custom_nn\\mgr-env\\lib\\site-packages\\tensorflow\\python\\data\\util\\structure.py:104\u001b[0m, in \u001b[0;36mnormalize_element\u001b[1;34m(element, element_signature)\u001b[0m\n\u001b[0;32m    103\u001b[0m   \u001b[38;5;28;01mif\u001b[39;00m spec \u001b[38;5;129;01mis\u001b[39;00m \u001b[38;5;28;01mNone\u001b[39;00m:\n\u001b[1;32m--> 104\u001b[0m     spec \u001b[38;5;241m=\u001b[39m \u001b[43mtype_spec_from_value\u001b[49m\u001b[43m(\u001b[49m\u001b[43mt\u001b[49m\u001b[43m,\u001b[49m\u001b[43m \u001b[49m\u001b[43muse_fallback\u001b[49m\u001b[38;5;241;43m=\u001b[39;49m\u001b[38;5;28;43;01mFalse\u001b[39;49;00m\u001b[43m)\u001b[49m\n\u001b[0;32m    105\u001b[0m \u001b[38;5;28;01mexcept\u001b[39;00m \u001b[38;5;167;01mTypeError\u001b[39;00m:\n\u001b[0;32m    106\u001b[0m   \u001b[38;5;66;03m# TypeError indicates it was not possible to compute a `TypeSpec` for\u001b[39;00m\n\u001b[0;32m    107\u001b[0m   \u001b[38;5;66;03m# the value. As a fallback try converting the value to a tensor.\u001b[39;00m\n",
      "File \u001b[1;32mD:\\projekty\\mgr\\custom_nn\\mgr-env\\lib\\site-packages\\tensorflow\\python\\data\\util\\structure.py:491\u001b[0m, in \u001b[0;36mtype_spec_from_value\u001b[1;34m(element, use_fallback)\u001b[0m\n\u001b[0;32m    488\u001b[0m     logging\u001b[38;5;241m.\u001b[39mvlog(\n\u001b[0;32m    489\u001b[0m         \u001b[38;5;241m3\u001b[39m, \u001b[38;5;124m\"\u001b[39m\u001b[38;5;124mFailed to convert \u001b[39m\u001b[38;5;132;01m%r\u001b[39;00m\u001b[38;5;124m to tensor: \u001b[39m\u001b[38;5;132;01m%s\u001b[39;00m\u001b[38;5;124m\"\u001b[39m \u001b[38;5;241m%\u001b[39m (\u001b[38;5;28mtype\u001b[39m(element)\u001b[38;5;241m.\u001b[39m\u001b[38;5;18m__name__\u001b[39m, e))\n\u001b[1;32m--> 491\u001b[0m \u001b[38;5;28;01mraise\u001b[39;00m \u001b[38;5;167;01mTypeError\u001b[39;00m(\u001b[38;5;124m\"\u001b[39m\u001b[38;5;124mCould not build a `TypeSpec` for \u001b[39m\u001b[38;5;132;01m{}\u001b[39;00m\u001b[38;5;124m with type \u001b[39m\u001b[38;5;132;01m{}\u001b[39;00m\u001b[38;5;124m\"\u001b[39m\u001b[38;5;241m.\u001b[39mformat(\n\u001b[0;32m    492\u001b[0m     element,\n\u001b[0;32m    493\u001b[0m     \u001b[38;5;28mtype\u001b[39m(element)\u001b[38;5;241m.\u001b[39m\u001b[38;5;18m__name__\u001b[39m))\n",
      "\u001b[1;31mTypeError\u001b[0m: Could not build a `TypeSpec` for [[[0], [0, 0, 62, 62]], [[0], [46, 5, 8, 8]], [[0], [31, 7, 16, 16]], [[0], [29, 9, 10, 10]], [[0], [2, 2, 52, 52]], [[0], [18, 23, 38, 38]], [[0], [4, 3, 58, 58]], [[0], [26, 18, 24, 24]], [[0], [9, 11, 28, 28]], [[0], [17, 19, 42, 42]], [[0], [4, 3, 58, 58]], [[0], [6, 3, 42, 42]], [[0], [0, 0, 62, 62]], [[0], [5, 1, 58, 58]], [[0], [1, 0, 62, 62]], [[0], [15, 28, 30, 30]], [[0], [12, 3, 16, 16]], [[0], [8, 18, 44, 44]], [[0], [5, 2, 54, 54]], [[0], [3, 0, 54, 54]], [[0], [16, 13, 44, 44]], [[0], [41, 32, 16, 16]], [[0], [2, 1, 60, 60]], [[0], [27, 5, 4, 4]], [[0], [1, 1, 62, 62]], [[0], [50, 54, 4, 4]], [[0], [21, 27, 6, 6]], [[0], [18, 26, 26, 26]], [[0], [49, 22, 10, 10]], [[0], [22, 3, 38, 38]], [[0], [30, 2, 24, 24]], [[0], [18, 25, 30, 30]], [[0], [7, 3, 52, 52]], [[0], [40, 0, 22, 22]], [[0], [7, 14, 36, 36]], [[0], [3, 2, 58, 58]], [[0], [27, 5, 24, 24]], [[0], [12, 29, 28, 28]], [[0], [8, 41, 22, 22]], [[0], [8, 23, 40, 40]], [[0], [6, 9, 48, 48]], [[0], [8, 25, 24, 24]], [[0], [40, 0, 6, 6]], [[0], [7, 11, 42, 42]], [[0], [47, 5, 12, 12]], [[0], [1, 1, 58, 58]], [[0], [0, 1, 62, 62]], [[0], [23, 20, 34, 34]], [[0], [57, 3, 6, 6]], [[0], [2, 12, 4, 4]], [[0], [19, 35, 24, 24]], [[0], [11, 13, 50, 50]], [[0], [18, 2, 16, 16]], [[0], [6, 3, 42, 42]], [[0], [56, 3, 6, 6]], [[0], [32, 36, 24, 24]], [[0], [11, 10, 24, 24]], [[0], [25, 33, 28, 28]], [[0], [24, 25, 10, 10]], [[0], [10, 7, 48, 48]], [[0], [2, 6, 54, 54]], [[0], [5, 9, 50, 50]], [[0], [3, 4, 54, 54]], [[0], [12, 16, 44, 44]], [[0], [9, 11, 42, 42]], [[0], [18, 6, 36, 36]], [[0], [15, 21, 22, 22]], [[0], [15, 9, 48, 48]], [[0], [22, 34, 6, 6]], [[0], [28, 38, 24, 24]], [[0], [32, 39, 20, 20]], [[0], [6, 14, 28, 28]], [[0], [15, 43, 12, 12]], [[0], [32, 31, 26, 26]], [[0], [28, 23, 14, 14]], [[0], [47, 50, 10, 10]], [[0], [23, 27, 24, 24]], [[0], [12, 18, 42, 42]], [[0], [1, 4, 56, 56]], [[0], [16, 16, 38, 38]], [[0], [22, 24, 38, 38]], [[0], [36, 15, 24, 24]], [[0], [28, 44, 18, 18]], [[0], [38, 21, 16, 16]], [[0], [15, 1, 30, 30]], [[0], [13, 25, 36, 36]], [[0], [6, 17, 44, 44]], [[0], [12, 10, 50, 50]], [[0], [10, 3, 48, 48]], [[0], [0, 20, 20, 20]], [[0], [12, 33, 22, 22]], [[0], [0, 1, 62, 62]], [[0], [27, 29, 28, 28]], [[0], [9, 3, 48, 48]], [[0], [15, 12, 48, 48]], [[0], [17, 17, 38, 38]], [[0], [32, 38, 22, 22]], [[0], [32, 23, 18, 18]], [[0], [38, 11, 2, 2]], [[0], [8, 11, 46, 46]], [[0], [1, 19, 32, 32]], [[0], [39, 23, 16, 16]], [[0], [40, 36, 6, 6]], [[0], [29, 9, 32, 32]], [[0], [17, 28, 32, 32]], [[0], [4, 1, 38, 38]], [[0], [23, 1, 36, 36]], [[0], [2, 15, 40, 40]], [[0], [12, 16, 26, 26]], [[0], [50, 55, 8, 8]], [[0], [28, 15, 34, 34]], [[0], [24, 3, 38, 38]], [[0], [21, 4, 18, 18]], [[0], [52, 4, 8, 8]], [[0], [5, 1, 56, 56]], [[0], [10, 5, 36, 36]], [[0], [30, 19, 24, 24]], [[0], [0, 10, 38, 38]], [[0], [9, 36, 14, 14]], [[0], [2, 17, 42, 42]], [[0], [6, 9, 54, 54]], [[0], [0, 3, 54, 54]], [[0], [15, 4, 48, 48]], [[0], [0, 5, 58, 58]], [[0], [1, 3, 60, 60]], [[0], [0, 3, 58, 58]], [[0], [9, 1, 48, 48]], [[0], [34, 8, 22, 22]], [[0], [20, 25, 26, 26]], [[0], [11, 23, 32, 32]], [[0], [5, 26, 8, 8]], [[0], [4, 7, 2, 2]], [[0], [0, 0, 60, 60]], [[0], [22, 11, 38, 38]], [[0], [13, 2, 30, 30]], [[0], [3, 1, 60, 60]], [[0], [32, 7, 30, 30]], [[0], [2, 9, 38, 38]], [[0], [25, 2, 38, 38]], [[0], [1, 1, 56, 56]], [[0], [10, 8, 46, 46]], [[0], [5, 17, 6, 6]], [[0], [1, 2, 58, 58]], [[0], [11, 8, 50, 50]], [[0], [12, 1, 36, 36]], [[0], [31, 19, 8, 8]], [[0], [12, 2, 46, 46]], [[0], [16, 7, 36, 36]], [[0], [20, 19, 22, 22]], [[0], [7, 1, 28, 28]], [[0], [11, 4, 44, 44]], [[0], [6, 32, 10, 10]], [[0], [9, 3, 52, 52]], [[0], [0, 1, 60, 60]], [[0], [17, 20, 42, 42]], [[0], [26, 19, 36, 36]], [[0], [5, 11, 44, 44]], [[0], [2, 11, 50, 50]], [[0], [4, 4, 56, 56]], [[0], [37, 4, 8, 8]], [[0], [43, 23, 20, 20]], [[0], [12, 22, 40, 40]], [[0], [49, 9, 14, 14]], [[0], [15, 8, 34, 34]], [[0], [7, 17, 22, 22]], [[0], [18, 21, 42, 42]], [[0], [30, 16, 10, 10]], [[0], [45, 1, 14, 14]], [[0], [16, 49, 4, 4]], [[0], [4, 5, 48, 48]], [[0], [11, 50, 12, 12]], [[0], [24, 25, 22, 22]], [[0], [19, 35, 10, 10]], [[0], [4, 0, 54, 54]], [[0], [11, 8, 36, 36]], [[0], [1, 0, 62, 62]], [[0], [58, 37, 4, 4]], [[0], [1, 0, 62, 62]], [[0], [25, 38, 24, 24]], [[0], [14, 6, 46, 46]], [[0], [9, 18, 12, 12]], [[0], [0, 4, 58, 58]], [[0], [0, 33, 20, 20]], [[0], [38, 28, 24, 24]], [[0], [5, 2, 56, 56]], [[0], [48, 28, 8, 8]], [[0], [33, 14, 12, 12]], [[0], [7, 12, 48, 48]], [[0], [0, 0, 60, 60]], [[0], [37, 34, 14, 14]], [[0], [39, 12, 20, 20]], [[0], [3, 2, 46, 46]], [[0], [38, 51, 12, 12]], [[0], [5, 29, 20, 20]], [[0], [21, 0, 40, 40]], [[0], [27, 39, 16, 16]], [[0], [4, 4, 58, 58]], [[0], [4, 21, 18, 18]], [[0], [16, 41, 20, 20]], [[0], [23, 16, 40, 40]], [[0], [5, 1, 30, 30]], [[0], [4, 35, 16, 16]], [[0], [17, 22, 16, 16]], [[0], [15, 8, 6, 6]], [[0], [1, 0, 60, 60]], [[0], [42, 33, 12, 12]], [[0], [0, 2, 24, 24]], [[0], [5, 9, 46, 46]], [[0], [15, 14, 12, 12]], [[0], [6, 23, 38, 38]], [[0], [19, 24, 22, 22]], [[0], [20, 5, 18, 18]], [[0], [58, 17, 2, 2]], [[0], [4, 4, 54, 54]], [[0], [14, 1, 18, 18]], [[0], [29, 3, 22, 22]], [[0], [21, 29, 22, 22]], [[0], [5, 11, 50, 50]], [[0], [21, 28, 34, 34]], [[0], [10, 7, 48, 48]], [[0], [48, 22, 14, 14]], [[0], [1, 1, 48, 48]], [[0], [2, 6, 38, 38]], [[0], [16, 11, 14, 14]], [[0], [9, 32, 26, 26]], [[0], [10, 3, 12, 12]], [[0], [29, 10, 28, 28]], [[0], [9, 7, 50, 50]], [[0], [51, 11, 12, 12]], [[0], [22, 11, 34, 34]], [[0], [10, 12, 48, 48]], [[0], [14, 15, 46, 46]], [[0], [38, 38, 22, 22]], [[0], [48, 44, 10, 10]], [[0], [52, 54, 2, 2]], [[0], [5, 17, 4, 4]], [[0], [16, 16, 30, 30]], [[0], [6, 5, 54, 54]], [[0], [4, 7, 48, 48]], [[0], [4, 3, 58, 58]], [[0], [39, 5, 8, 8]], [[0], [9, 14, 48, 48]], [[0], [53, 31, 4, 4]], [[0], [34, 32, 2, 2]], [[0], [9, 2, 42, 42]], [[0], [14, 13, 12, 12]], [[0], [13, 2, 34, 34]], [[0], [24, 11, 20, 20]], [[0], [30, 35, 14, 14]], [[0], [14, 2, 28, 28]], [[0], [40, 43, 4, 4]], [[0], [10, 27, 28, 28]], [[0], [11, 1, 34, 34]], [[0], [2, 30, 28, 28]], [[0], [9, 24, 8, 8]], [[0], [6, 11, 52, 52]], [[0], [2, 3, 60, 60]], [[0], [22, 0, 36, 36]], [[0], [23, 48, 10, 10]], [[0], [4, 5, 32, 32]], [[0], [29, 3, 20, 20]], [[0], [6, 4, 52, 52]], [[0], [44, 4, 18, 18]], [[0], [16, 16, 10, 10]], [[0], [3, 1, 60, 60]], [[0], [2, 0, 58, 58]], [[0], [10, 13, 42, 42]], [[0], [3, 2, 58, 58]], [[0], [26, 25, 4, 4]], [[0], [30, 3, 6, 6]], [[0], [30, 32, 12, 12]], [[0], [1, 0, 54, 54]], [[0], [15, 22, 36, 36]], [[0], [27, 28, 24, 24]], [[0], [1, 3, 52, 52]], [[0], [0, 51, 8, 8]], [[0], [6, 3, 52, 52]], [[0], [51, 9, 12, 12]], [[0], [14, 24, 38, 38]], [[0], [0, 0, 62, 62]], [[0], [13, 31, 18, 18]], [[0], [39, 34, 22, 22]], [[0], [53, 13, 4, 4]], [[0], [9, 26, 34, 34]], [[0], [14, 6, 36, 36]], [[0], [6, 19, 40, 40]], [[0], [0, 1, 60, 60]], [[0], [18, 15, 22, 22]], [[0], [2, 2, 58, 58]], [[0], [39, 51, 8, 8]], [[0], [2, 22, 40, 40]], [[0], [33, 19, 18, 18]], [[0], [10, 13, 50, 50]], [[0], [52, 12, 8, 8]], [[0], [2, 3, 50, 50]], [[0], [17, 6, 4, 4]], [[0], [43, 17, 18, 18]], [[0], [10, 5, 52, 52]], [[0], [11, 11, 52, 52]], [[0], [36, 39, 12, 12]], [[0], [29, 12, 32, 32]], [[0], [15, 43, 4, 4]], [[0], [14, 8, 48, 48]], [[0], [5, 6, 54, 54]], [[0], [5, 38, 18, 18]], [[0], [21, 35, 6, 6]], [[0], [24, 0, 28, 28]], [[0], [7, 3, 18, 18]], [[0], [1, 21, 16, 16]], [[0], [13, 1, 48, 48]], [[0], [19, 3, 40, 40]], [[0], [19, 13, 38, 38]], [[0], [2, 6, 54, 54]], [[0], [10, 6, 46, 46]], [[0], [1, 4, 54, 54]], [[0], [12, 7, 34, 34]], [[0], [14, 7, 48, 48]], [[0], [20, 4, 40, 40]], [[0], [3, 1, 50, 50]], [[0], [7, 6, 56, 56]], [[0], [27, 14, 20, 20]], [[0], [10, 5, 36, 36]], [[0], [21, 22, 6, 6]], [[0], [47, 43, 6, 6]], [[0], [0, 31, 22, 22]], [[0], [57, 54, 4, 4]], [[0], [22, 29, 4, 4]], [[0], [2, 33, 8, 8]], [[0], [13, 33, 22, 22]], [[0], [52, 18, 4, 4]], [[0], [52, 51, 6, 6]], [[0], [26, 15, 2, 2]], [[0], [16, 3, 44, 44]], [[0], [16, 21, 38, 38]], [[0], [8, 11, 46, 46]], [[0], [36, 2, 8, 8]], [[0], [13, 26, 10, 10]], [[0], [23, 24, 32, 32]], [[0], [14, 14, 44, 44]], [[0], [18, 3, 18, 18]], [[0], [29, 4, 32, 32]], [[0], [22, 12, 40, 40]], [[0], [15, 6, 44, 44]], [[0], [5, 31, 4, 4]], [[0], [5, 6, 24, 24]], [[0], [15, 24, 36, 36]], [[0], [0, 0, 60, 60]], [[0], [49, 26, 4, 4]], [[0], [8, 20, 28, 28]], [[0], [3, 1, 60, 60]], [[0], [13, 2, 14, 14]], [[0], [10, 13, 24, 24]], [[0], [6, 42, 12, 12]], [[0], [9, 14, 44, 44]], [[0], [41, 16, 22, 22]], [[0], [1, 10, 50, 50]], [[0], [6, 6, 50, 50]], [[0], [6, 1, 18, 18]], [[0], [7, 19, 30, 30]], [[0], [9, 20, 8, 8]], [[0], [37, 45, 8, 8]], [[0], [2, 4, 58, 58]], [[0], [21, 28, 24, 24]], [[0], [13, 19, 42, 42]], [[0], [4, 5, 44, 44]], [[0], [4, 17, 38, 38]], [[0], [22, 25, 36, 36]], [[0], [14, 52, 4, 4]], [[0], [3, 12, 46, 46]], [[0], [3, 3, 36, 36]], [[0], [24, 8, 34, 34]], [[0], [5, 3, 38, 38]], [[0], [3, 0, 30, 30]], [[0], [3, 38, 18, 18]], [[0], [6, 5, 54, 54]], [[0], [10, 8, 50, 50]], [[0], [10, 3, 2, 2]], [[0], [16, 14, 44, 44]], [[0], [20, 6, 16, 16]], [[0], [5, 2, 56, 56]], [[0], [22, 23, 28, 28]], [[0], [40, 37, 8, 8]], [[0], [0, 6, 52, 52]], [[0], [7, 8, 52, 52]], [[0], [12, 23, 40, 40]], [[0], [20, 20, 36, 36]], [[0], [41, 38, 22, 22]], [[0], [13, 10, 48, 48]], [[0], [14, 2, 26, 26]], [[0], [24, 9, 36, 36]], [[0], [39, 9, 6, 6]], [[0], [14, 1, 48, 48]], [[0], [25, 20, 30, 30]], [[0], [27, 14, 34, 34]], [[0], [46, 11, 16, 16]], [[0], [29, 11, 24, 24]], [[0], [41, 47, 6, 6]], [[0], [1, 1, 62, 62]], [[0], [18, 16, 34, 34]], [[0], [27, 7, 32, 32]], [[0], [5, 22, 24, 24]], [[0], [22, 3, 4, 4]], [[0], [4, 3, 40, 40]], [[0], [2, 9, 54, 54]], [[0], [1, 9, 54, 54]], [[0], [3, 2, 38, 38]], [[0], [19, 12, 30, 30]], [[0], [1, 6, 40, 40]], [[0], [28, 0, 14, 14]], [[0], [19, 12, 36, 36]], [[0], [13, 13, 48, 48]], [[0], [4, 6, 38, 38]], [[0], [2, 0, 58, 58]], [[0], [51, 43, 6, 6]], [[0], [32, 10, 16, 16]], [[0], [26, 36, 14, 14]], [[0], [1, 5, 16, 16]], [[0], [6, 14, 44, 44]], [[0], [2, 24, 22, 22]], [[0], [36, 22, 26, 26]], [[0], [8, 13, 30, 30]], [[0], [3, 6, 38, 38]], [[0], [6, 38, 6, 6]], [[0], [5, 4, 40, 40]], [[0], [9, 26, 4, 4]], [[0], [24, 4, 28, 28]], [[0], [19, 12, 30, 30]], [[0], [26, 17, 30, 30]], [[0], [8, 3, 54, 54]], [[0], [4, 5, 56, 56]], [[0], [6, 8, 46, 46]], [[0], [0, 24, 4, 4]], [[0], [36, 14, 24, 24]], [[0], [48, 21, 10, 10]], [[0], [12, 13, 50, 50]], [[0], [28, 1, 14, 14]], [[0], [31, 35, 20, 20]], [[0], [22, 4, 2, 2]], [[0], [3, 13, 50, 50]], [[0], [37, 25, 22, 22]], [[0], [22, 6, 36, 36]], [[0], [18, 2, 26, 26]], [[0], [27, 5, 4, 4]], [[0], [21, 18, 26, 26]], [[0], [54, 24, 8, 8]], [[0], [3, 10, 40, 40]], [[0], [8, 19, 40, 40]], [[0], [5, 6, 4, 4]], [[0], [1, 7, 32, 32]], [[0], [1, 0, 62, 62]], [[0], [22, 12, 38, 38]], [[0], [3, 4, 58, 58]], [[0], [16, 7, 38, 38]], [[0], [17, 8, 16, 16]], [[0], [44, 12, 14, 14]], [[0], [13, 39, 14, 14]], [[0], [9, 11, 50, 50]], [[0], [29, 37, 10, 10]], [[0], [8, 18, 32, 32]], [[0], [17, 29, 32, 32]], [[0], [27, 2, 22, 22]], [[0], [5, 36, 6, 6]], [[0], [16, 1, 4, 4]], [[0], [24, 5, 2, 2]], [[0], [34, 43, 8, 8]], [[0], [13, 15, 48, 48]], [[0], [14, 40, 18, 18]], [[0], [13, 8, 28, 28]], [[0], [61, 31, 2, 2]], [[0], [8, 12, 24, 24]], [[0], [3, 10, 40, 40]], [[0], [8, 5, 54, 54]], [[0], [4, 24, 14, 14]], [[0], [38, 39, 14, 14]], [[0], [12, 6, 10, 10]], [[0], [15, 47, 16, 16]], [[0], [22, 24, 38, 38]], [[0], [33, 35, 26, 26]], [[0], [7, 0, 48, 48]], [[0], [49, 17, 10, 10]], [[0], [1, 0, 62, 62]], [[0], [0, 0, 56, 56]], [[0], [13, 22, 14, 14]], [[0], [2, 6, 52, 52]], [[0], [12, 4, 44, 44]], [[0], [5, 7, 56, 56]], [[0], [43, 18, 4, 4]], [[0], [10, 3, 34, 34]], [[0], [3, 3, 60, 60]], [[0], [35, 36, 18, 18]], [[0], [37, 12, 20, 20]], [[0], [15, 27, 12, 12]], [[0], [2, 0, 60, 60]], [[0], [30, 11, 28, 28]], [[0], [27, 20, 12, 12]], [[0], [30, 19, 16, 16]], [[0], [1, 20, 36, 36]], [[0], [9, 33, 30, 30]], [[0], [36, 5, 24, 24]], [[0], [27, 6, 36, 36]], [[0], [14, 35, 26, 26]], [[0], [5, 0, 58, 58]], [[0], [47, 16, 16, 16]], [[0], [26, 30, 22, 22]], [[0], [17, 26, 36, 36]], [[0], [1, 7, 56, 56]], [[0], [7, 24, 6, 6]], [[0], [2, 0, 60, 60]], [[0], [4, 6, 54, 54]], [[0], [12, 7, 18, 18]], [[0], [41, 21, 8, 8]], [[0], [32, 22, 16, 16]], [[0], [8, 22, 34, 34]], [[0], [30, 48, 6, 6]], [[0], [25, 28, 24, 24]], [[0], [41, 24, 22, 22]], [[0], [20, 15, 2, 2]], [[0], [17, 9, 8, 8]], [[0], [16, 5, 46, 46]], [[0], [14, 8, 38, 38]], [[0], [7, 7, 50, 50]], [[0], [29, 4, 20, 20]], [[0], [25, 32, 20, 20]], [[0], [12, 13, 48, 48]], [[0], [23, 24, 16, 16]], [[0], [0, 33, 4, 4]], [[0], [45, 26, 8, 8]], [[0], [12, 1, 38, 38]], [[0], [25, 9, 4, 4]], [[0], [8, 5, 40, 40]], [[0], [17, 16, 40, 40]], [[0], [0, 0, 42, 42]], [[0], [34, 22, 16, 16]], [[0], [14, 8, 30, 30]], [[0], [14, 5, 46, 46]], [[0], [3, 32, 22, 22]], [[0], [0, 22, 36, 36]], [[0], [9, 10, 50, 50]], [[0], [31, 13, 10, 10]], [[0], [11, 23, 36, 36]], [[0], [29, 33, 24, 24]], [[0], [26, 25, 36, 36]], [[0], [5, 12, 30, 30]], [[0], [21, 24, 30, 30]], [[0], [17, 18, 38, 38]], [[0], [35, 19, 22, 22]], [[0], [4, 7, 12, 12]], [[0], [26, 19, 28, 28]], [[0], [13, 29, 2, 2]], [[0], [17, 12, 22, 22]], [[0], [9, 1, 10, 10]], [[0], [43, 17, 2, 2]], [[0], [9, 27, 36, 36]], [[0], [49, 7, 6, 6]], [[0], [3, 0, 60, 60]], [[0], [24, 23, 30, 30]], [[0], [58, 55, 4, 4]], [[0], [6, 17, 46, 46]], [[0], [9, 57, 2, 2]], [[0], [16, 7, 18, 18]], [[0], [4, 6, 38, 38]], [[0], [25, 17, 36, 36]], [[0], [43, 35, 14, 14]], [[0], [10, 34, 24, 24]], [[0], [47, 8, 12, 12]], [[0], [2, 9, 36, 36]], [[0], [10, 20, 34, 34]], [[0], [35, 38, 8, 8]], [[0], [5, 40, 22, 22]], [[0], [54, 1, 6, 6]], [[0], [16, 11, 44, 44]], [[0], [10, 6, 48, 48]], [[0], [27, 18, 32, 32]], [[0], [1, 1, 62, 62]], [[0], [18, 15, 32, 32]], [[0], [7, 11, 16, 16]], [[0], [0, 2, 26, 26]], [[0], [11, 33, 18, 18]], [[0], [25, 20, 28, 28]], [[0], [31, 25, 6, 6]], [[0], [6, 20, 40, 40]], [[0], [5, 31, 32, 32]], [[0], [6, 2, 56, 56]], [[0], [3, 37, 26, 26]], [[0], [19, 37, 2, 2]], [[0], [18, 16, 34, 34]], [[0], [7, 12, 50, 50]], [[0], [10, 18, 34, 34]], [[0], [6, 26, 28, 28]], [[0], [47, 7, 10, 10]], [[0], [35, 11, 4, 4]], [[0], [1, 45, 8, 8]], [[0], [37, 14, 2, 2]], [[0], [22, 0, 40, 40]], [[0], [2, 1, 44, 44]], [[0], [2, 10, 44, 44]], [[0], [0, 23, 36, 36]], [[0], [7, 10, 48, 48]], [[0], [15, 27, 18, 18]], [[0], [14, 10, 38, 38]], [[0], [47, 47, 10, 10]], [[0], [24, 5, 16, 16]], [[0], [11, 10, 34, 34]], [[0], [10, 15, 40, 40]], [[0], [11, 32, 16, 16]], [[0], [6, 31, 16, 16]], [[0], [19, 0, 24, 24]], [[0], [38, 44, 6, 6]], [[0], [14, 5, 40, 40]], [[0], [34, 4, 20, 20]], [[0], [11, 9, 48, 48]], [[0], [5, 5, 52, 52]], [[0], [15, 38, 16, 16]], [[0], [38, 27, 24, 24]], [[0], [2, 2, 22, 22]], [[0], [10, 14, 2, 2]], [[0], [36, 20, 26, 26]], [[0], [6, 5, 54, 54]], [[0], [37, 16, 26, 26]], [[0], [12, 14, 42, 42]], [[0], [33, 12, 30, 30]], [[0], [1, 1, 62, 62]], [[0], [8, 2, 48, 48]], [[0], [28, 40, 18, 18]], [[0], [6, 11, 50, 50]], [[0], [1, 3, 60, 60]], [[0], [16, 9, 24, 24]], [[0], [4, 5, 58, 58]], [[0], [10, 0, 38, 38]], [[0], [43, 44, 12, 12]], [[0], [2, 2, 56, 56]], [[0], [6, 5, 52, 52]], [[0], [10, 1, 26, 26]], [[0], [16, 3, 30, 30]], [[0], [0, 0, 62, 62]], [[0], [27, 17, 4, 4]], [[0], [29, 9, 14, 14]], [[0], [13, 26, 30, 30]], [[0], [22, 19, 36, 36]], [[0], [12, 8, 42, 42]], [[0], [0, 0, 56, 56]], [[0], [15, 15, 38, 38]], [[0], [20, 43, 6, 6]], [[0], [5, 1, 50, 50]], [[0], [8, 42, 18, 18]], [[0], [10, 0, 42, 42]], [[0], [24, 7, 4, 4]], [[0], [18, 27, 30, 30]], [[0], [20, 13, 6, 6]], [[0], [8, 15, 42, 42]], [[0], [0, 3, 54, 54]], [[0], [1, 0, 62, 62]], [[0], [12, 29, 8, 8]], [[0], [5, 3, 58, 58]], [[0], [13, 28, 18, 18]], [[0], [3, 3, 60, 60]], [[0], [40, 15, 12, 12]], [[0], [28, 33, 12, 12]], [[0], [9, 7, 40, 40]], [[0], [11, 24, 30, 30]], [[0], [14, 18, 34, 34]], [[0], [0, 0, 62, 62]], [[0], [2, 9, 44, 44]], [[0], [1, 0, 62, 62]], [[0], [15, 18, 40, 40]], [[0], [8, 3, 52, 52]], [[0], [15, 18, 32, 32]], [[0], [5, 13, 36, 36]], [[0], [9, 5, 16, 16]], [[0], [15, 0, 44, 44]], [[0], [5, 0, 58, 58]], [[0], [0, 5, 50, 50]], [[0], [33, 3, 14, 14]], [[0], [12, 11, 22, 22]], [[0], [13, 46, 12, 12]], [[0], [43, 6, 2, 2]], [[0], [35, 4, 26, 26]], [[0], [7, 6, 52, 52]], [[0], [0, 33, 14, 14]], [[0], [3, 21, 32, 32]], [[0], [1, 5, 58, 58]], [[0], [4, 3, 58, 58]], [[0], [17, 24, 14, 14]], [[0], [16, 35, 28, 28]], [[0], [14, 41, 4, 4]], [[0], [38, 37, 8, 8]], [[0], [25, 25, 14, 14]], [[0], [41, 36, 16, 16]], [[0], [48, 25, 8, 8]], [[0], [47, 17, 12, 12]], [[0], [20, 11, 12, 12]], [[0], [7, 31, 4, 4]], [[0], [47, 14, 4, 4]], [[0], [28, 13, 18, 18]], [[0], [32, 28, 4, 4]], [[0], [23, 32, 20, 20]], [[0], [18, 14, 44, 44]], [[0], [6, 19, 36, 36]], [[0], [11, 6, 46, 46]], [[0], [12, 33, 4, 4]], [[0], [14, 6, 40, 40]], [[0], [12, 10, 46, 46]], [[0], [10, 7, 52, 52]], [[0], [8, 11, 46, 46]], [[0], [16, 6, 46, 46]], [[0], [14, 1, 44, 44]], [[0], [17, 21, 34, 34]], [[0], [22, 36, 20, 20]], [[0], [3, 0, 48, 48]], [[0], [9, 26, 30, 30]], [[0], [0, 4, 50, 50]], [[0], [10, 0, 50, 50]], [[0], [37, 3, 22, 22]], [[0], [14, 18, 42, 42]], [[0], [60, 53, 2, 2]], [[0], [10, 17, 26, 26]], [[0], [0, 1, 62, 62]], [[0], [4, 2, 54, 54]], [[0], [1, 11, 32, 32]], [[0], [2, 18, 44, 44]], [[0], [15, 6, 46, 46]], [[0], [19, 10, 14, 14]], [[0], [1, 2, 52, 52]], [[0], [41, 34, 12, 12]], [[0], [38, 9, 16, 16]], [[0], [25, 10, 2, 2]], [[0], [2, 8, 48, 48]], [[0], [1, 1, 62, 62]], [[0], [13, 1, 38, 38]], [[0], [7, 6, 56, 56]], [[0], [26, 40, 16, 16]], [[0], [19, 22, 30, 30]], [[0], [22, 14, 34, 34]], [[0], [28, 3, 4, 4]], [[0], [25, 9, 10, 10]], [[0], [21, 16, 36, 36]], [[0], [14, 36, 4, 4]], [[0], [20, 31, 12, 12]], [[0], [13, 32, 26, 26]], [[0], [10, 10, 52, 52]], [[0], [7, 3, 40, 40]], [[0], [3, 2, 2, 2]], [[0], [8, 9, 12, 12]], [[0], [1, 14, 48, 48]], [[0], [28, 26, 18, 18]], [[0], [7, 4, 52, 52]], [[0], [17, 22, 34, 34]], [[0], [23, 11, 36, 36]], [[0], [9, 19, 42, 42]], [[0], [10, 7, 40, 40]], [[0], [15, 16, 26, 26]], [[0], [1, 7, 56, 56]], [[0], [4, 16, 46, 46]], [[0], [1, 10, 36, 36]], [[0], [1, 31, 16, 16]], [[0], [9, 23, 40, 40]], [[0], [13, 6, 46, 46]], [[0], [58, 17, 2, 2]], [[0], [28, 2, 16, 16]], [[0], [3, 14, 28, 28]], [[0], [0, 0, 56, 56]], [[0], [33, 37, 26, 26]], [[0], [32, 51, 10, 10]], [[0], [0, 0, 62, 62]], [[0], [8, 12, 22, 22]], [[0], [21, 27, 24, 24]], [[0], [28, 15, 14, 14]], [[0], [30, 36, 14, 14]], [[0], [6, 16, 46, 46]], [[0], [18, 37, 14, 14]], [[0], [7, 8, 42, 42]], [[0], [3, 9, 48, 48]], [[0], [53, 55, 8, 8]], [[0], [3, 0, 58, 58]], [[0], [15, 5, 18, 18]], [[0], [5, 0, 56, 56]], [[0], [6, 3, 40, 40]], [[0], [34, 39, 20, 20]], [[0], [20, 17, 38, 38]], [[0], [1, 0, 36, 36]], [[0], [6, 8, 48, 48]], [[0], [13, 15, 6, 6]], [[0], [15, 23, 40, 40]], [[0], [3, 13, 38, 38]], [[0], [12, 10, 42, 42]], [[0], [25, 33, 20, 20]], [[0], [4, 16, 34, 34]], [[0], [7, 4, 44, 44]], [[0], [11, 18, 44, 44]], [[0], [25, 20, 26, 26]], [[0], [4, 7, 42, 42]], [[0], [4, 24, 30, 30]], [[0], [9, 27, 36, 36]], [[0], [37, 12, 14, 14]], [[0], [12, 0, 50, 50]], [[0], [3, 1, 42, 42]], [[0], [2, 8, 50, 50]], [[0], [7, 9, 28, 28]], [[0], [25, 35, 28, 28]], [[0], [5, 5, 56, 56]], [[0], [32, 24, 10, 10]], [[0], [33, 16, 14, 14]], [[0], [30, 13, 28, 28]], [[0], [0, 7, 50, 50]], [[0], [45, 24, 10, 10]], [[0], [6, 6, 56, 56]], [[0], [0, 7, 36, 36]], [[0], [10, 17, 46, 46]], [[0], [16, 18, 30, 30]], [[0], [20, 19, 40, 40]], [[0], [22, 2, 36, 36]], [[0], [4, 9, 52, 52]], [[0], [21, 8, 34, 34]], [[0], [28, 18, 20, 20]], [[0], [11, 0, 34, 34]], [[0], [25, 17, 34, 34]], [[0], [6, 6, 52, 52]], [[0], [1, 0, 62, 62]], [[0], [4, 14, 14, 14]], [[0], [10, 13, 26, 26]], [[0], [17, 24, 14, 14]], [[0], [21, 50, 10, 10]], [[0], [37, 12, 2, 2]], [[0], [11, 20, 20, 20]], [[0], [6, 33, 4, 4]], [[0], [7, 36, 14, 14]], [[0], [35, 44, 12, 12]], [[0], [3, 3, 58, 58]], [[0], [4, 3, 56, 56]], [[0], [55, 47, 2, 2]], [[0], [1, 3, 60, 60]], [[0], [4, 1, 56, 56]], [[0], [8, 23, 20, 20]], [[0], [2, 2, 60, 60]], [[0], [14, 36, 20, 20]], [[0], [0, 7, 56, 56]], [[0], [0, 0, 56, 56]], [[0], [34, 4, 16, 16]], [[0], [5, 5, 38, 38]], [[0], [15, 8, 38, 38]], [[0], [6, 2, 50, 50]], [[0], [2, 1, 60, 60]], [[0], [19, 52, 4, 4]], [[0], [2, 3, 60, 60]], [[0], [50, 51, 8, 8]], [[0], [9, 32, 20, 20]], [[0], [24, 19, 30, 30]], [[0], [32, 20, 24, 24]], [[0], [4, 9, 48, 48]], [[0], [57, 42, 6, 6]], [[0], [2, 2, 60, 60]], [[0], [10, 29, 8, 8]], [[0], [1, 4, 58, 58]], [[0], [36, 6, 20, 20]], [[0], [8, 32, 24, 24]], [[0], [18, 30, 14, 14]], [[0], [17, 23, 10, 10]], [[0], [9, 0, 54, 54]], [[0], [17, 15, 44, 44]], [[0], [12, 17, 40, 40]], [[0], [15, 39, 18, 18]], [[0], [8, 11, 46, 46]], [[0], [38, 18, 22, 22]], [[0], [6, 8, 38, 38]], [[0], [1, 15, 34, 34]], [[0], [1, 1, 62, 62]], [[0], [13, 0, 46, 46]], [[0], [0, 36, 14, 14]], [[0], [11, 0, 52, 52]], [[0], [10, 49, 4, 4]], [[0], [37, 35, 24, 24]], [[0], [7, 17, 40, 40]], [[0], [15, 3, 36, 36]], [[0], [21, 1, 32, 32]], [[0], [27, 19, 26, 26]], [[0], [43, 4, 18, 18]], [[0], [38, 7, 12, 12]], [[0], [7, 4, 52, 52]], [[0], [2, 0, 60, 60]], [[0], [2, 14, 36, 36]], [[0], [23, 2, 32, 32]], [[0], [48, 33, 12, 12]], [[0], [1, 0, 60, 60]], [[0], [2, 8, 48, 48]], [[0], [39, 39, 16, 16]], [[0], [4, 23, 28, 28]], [[0], [9, 26, 36, 36]], [[0], [20, 18, 42, 42]], [[0], [6, 4, 56, 56]], [[0], [16, 14, 22, 22]], [[0], [1, 8, 54, 54]], [[0], [12, 11, 14, 14]], [[0], [13, 6, 14, 14]], [[0], [18, 41, 18, 18]], [[0], [5, 9, 46, 46]], [[0], [9, 7, 52, 52]], [[0], [12, 10, 44, 44]], [[0], [3, 56, 2, 2]], [[0], [21, 33, 10, 10]], [[0], [8, 16, 42, 42]], [[0], [7, 11, 18, 18]], [[0], [31, 14, 6, 6]], [[0], [11, 19, 40, 40]], [[0], [9, 34, 4, 4]], [[0], [0, 0, 60, 60]], [[0], [4, 0, 34, 34]], [[0], [10, 11, 30, 30]], [[0], [2, 8, 54, 54]], [[0], [26, 17, 32, 32]], [[0], [28, 7, 32, 32]], [[0], [2, 6, 4, 4]], [[0], [21, 24, 34, 34]], [[0], [45, 5, 12, 12]], [[0], [1, 5, 56, 56]], [[0], [17, 12, 44, 44]], [[0], [56, 4, 2, 2]], [[0], [33, 17, 4, 4]], [[0], [6, 13, 50, 50]], [[0], [10, 44, 2, 2]], [[0], [6, 40, 22, 22]], [[0], [2, 3, 60, 60]], [[0], [12, 16, 46, 46]], [[0], [10, 29, 30, 30]], [[0], [54, 28, 2, 2]], [[0], [10, 27, 26, 26]], [[0], [10, 19, 34, 34]], [[0], [9, 12, 48, 48]], [[0], [20, 28, 32, 32]], [[0], [31, 5, 22, 22]], [[0], [0, 8, 24, 24]], [[0], [12, 0, 26, 26]], [[0], [2, 11, 30, 30]], [[0], [49, 39, 14, 14]], [[0], [1, 1, 62, 62]], [[0], [17, 23, 40, 40]], [[0], [9, 18, 38, 38]], [[0], [40, 54, 6, 6]], [[0], [1, 0, 62, 62]], [[0], [1, 0, 60, 60]], [[0], [6, 15, 32, 32]], [[0], [5, 3, 54, 54]], [[0], [3, 26, 16, 16]], [[0], [16, 22, 2, 2]], [[0], [9, 2, 6, 6]], [[0], [0, 1, 62, 62]], [[0], [1, 3, 60, 60]], [[0], [3, 16, 26, 26]], [[0], [4, 7, 56, 56]], [[0], [37, 23, 18, 18]], [[0], [19, 12, 38, 38]], [[0], [30, 53, 8, 8]], [[0], [3, 24, 24, 24]], [[0], [6, 2, 54, 54]], [[0], [24, 35, 16, 16]], [[0], [45, 28, 14, 14]], [[0], [2, 6, 30, 30]], [[0], [6, 9, 52, 52]], [[0], [13, 16, 38, 38]], [[0], [3, 4, 52, 52]], [[0], [0, 18, 30, 30]], [[0], [11, 14, 30, 30]], [[0], [2, 43, 18, 18]], [[0], [5, 29, 24, 24]], [[0], [14, 36, 10, 10]], [[0], [14, 25, 36, 36]], [[0], [9, 4, 50, 50]], [[0], [33, 34, 26, 26]], [[0], [11, 4, 46, 46]], [[0], [49, 29, 8, 8]], [[0], [16, 9, 32, 32]], [[0], [3, 8, 48, 48]], [[0], [22, 10, 40, 40]], [[0], [17, 15, 34, 34]], [[0], [29, 18, 30, 30]], [[0], [10, 2, 26, 26]], [[0], [2, 3, 54, 54]], [[0], [21, 11, 42, 42]], [[0], [1, 0, 62, 62]], [[0], [4, 23, 40, 40]], [[0], [35, 3, 28, 28]], [[0], [28, 14, 18, 18]], [[0], [6, 8, 52, 52]], [[0], [0, 10, 30, 30]], [[0], [3, 3, 60, 60]], [[0], [40, 39, 10, 10]], [[0], [25, 29, 10, 10]], [[0], [40, 24, 16, 16]], [[0], [5, 3, 56, 56]], [[0], [19, 25, 32, 32]], [[0], [10, 13, 40, 40]], [[0], [43, 28, 14, 14]], [[0], [23, 20, 32, 32]], [[0], [28, 52, 6, 6]], [[0], [2, 0, 60, 60]], [[0], [28, 23, 22, 22]], [[0], [38, 28, 2, 2]], [[0], [1, 8, 36, 36]], [[0], [1, 0, 62, 62]], [[0], [4, 29, 24, 24]], [[0], [8, 30, 28, 28]], [[1], [19, 37, 30, 24]], [[1], [20, 55, 28, 3]], [[1], [19, 11, 5, 40]], [[1], [5, 22, 24, 20]], [[1], [50, 2, 14, 21]], [[1], [40, 15, 13, 32]], [[1], [53, 36, 6, 22]], [[1], [13, 39, 37, 22]], [[1], [56, 13, 7, 13]], [[1], [34, 44, 4, 8]], [[1], [39, 40, 2, 24]], [[1], [22, 53, 33, 8]], [[1], [59, 2, 4, 44]], [[1], [17, 36, 8, 19]], [[1], [10, 49, 3, 1]], [[1], [39, 48, 12, 15]], [[1], [61, 3, 2, 40]], [[1], [41, 63, 19, 1]], [[1], [50, 39, 2, 13]], [[1], [26, 2, 27, 2]], [[1], [37, 46, 9, 11]], [[1], [8, 44, 38, 18]], [[1], [39, 27, 8, 9]], [[1], [59, 30, 2, 31]], [[1], [54, 22, 8, 9]], [[1], [59, 31, 3, 17]], [[1], [57, 13, 4, 20]], [[1], [26, 30, 9, 2]], [[1], [14, 43, 42, 13]], [[1], [43, 21, 12, 41]], [[1], [42, 52, 10, 7]], [[1], [52, 30, 3, 12]], [[1], [61, 23, 3, 15]], [[1], [28, 37, 12, 18]], [[1], [53, 53, 9, 8]], [[1], [26, 35, 20, 1]], [[1], [56, 17, 2, 1]], [[1], [61, 20, 3, 32]], [[1], [45, 51, 5, 5]], [[1], [23, 25, 14, 35]], [[1], [9, 22, 40, 35]], [[1], [24, 33, 21, 30]], [[1], [25, 47, 13, 10]], [[1], [4, 53, 34, 2]], [[1], [42, 51, 13, 1]], [[1], [46, 7, 3, 18]], [[1], [15, 27, 8, 32]], [[1], [6, 26, 33, 10]], [[1], [61, 10, 3, 53]], [[1], [52, 13, 4, 49]], [[1], [5, 24, 44, 29]], [[1], [13, 61, 17, 2]], [[1], [42, 58, 12, 3]], [[1], [0, 61, 37, 2]], [[1], [15, 42, 26, 13]], [[1], [51, 12, 11, 14]], [[1], [26, 17, 3, 10]], [[1], [56, 42, 7, 10]], [[1], [44, 46, 5, 14]], [[1], [51, 6, 2, 10]], [[1], [34, 48, 25, 8]], [[1], [45, 63, 9, 1]], [[1], [31, 14, 27, 49]], [[1], [21, 47, 21, 6]], [[1], [4, 29, 25, 29]], [[1], [39, 60, 1, 1]], [[1], [20, 21, 40, 14]], [[1], [12, 34, 28, 26]], [[1], [31, 62, 25, 2]], [[1], [49, 18, 2, 20]], [[1], [26, 49, 1, 9]], [[1], [9, 46, 3, 6]], [[1], [59, 40, 3, 14]], [[1], [20, 11, 21, 13]], [[1], [30, 10, 19, 42]], [[1], [40, 24, 13, 37]], [[1], [3, 56, 42, 6]], [[1], [28, 24, 19, 18]], [[1], [19, 5, 32, 47]], [[1], [23, 24, 10, 7]], [[1], [39, 42, 14, 20]], [[1], [29, 8, 16, 22]], [[1], [29, 48, 6, 6]], [[1], [58, 62, 6, 2]], [[1], [41, 36, 5, 10]], [[1], [6, 23, 49, 39]], [[1], [7, 52, 3, 2]], [[1], [21, 25, 40, 11]], [[1], [22, 56, 14, 1]], [[1], [9, 35, 47, 24]], [[1], [0, 3, 57, 14]], [[1], [17, 20, 31, 39]], [[1], [21, 38, 43, 11]], [[1], [3, 63, 37, 1]], [[1], [19, 48, 4, 12]], [[1], [49, 23, 15, 19]], [[1], [33, 63, 21, 1]], [[1], [2, 62, 30, 1]], [[1], [44, 21, 14, 26]], [[1], [38, 18, 2, 12]], [[1], [5, 50, 9, 6]], [[1], [34, 40, 23, 21]], [[1], [52, 11, 9, 25]], [[1], [46, 51, 2, 1]], [[1], [40, 53, 15, 1]], [[1], [16, 11, 14, 52]], [[1], [29, 12, 26, 15]], [[1], [43, 34, 12, 20]], [[1], [51, 14, 1, 42]], [[1], [47, 38, 9, 16]], [[1], [40, 46, 17, 6]], [[1], [42, 9, 20, 33]], [[1], [15, 3, 41, 7]], [[1], [28, 35, 12, 14]], [[1], [15, 47, 39, 3]], [[1], [25, 23, 30, 25]], [[1], [38, 3, 7, 18]], [[1], [19, 21, 15, 2]], [[1], [29, 3, 21, 27]], [[1], [41, 15, 18, 45]], [[1], [58, 41, 6, 17]], [[1], [54, 56, 3, 8]], [[1], [53, 9, 10, 49]], [[1], [15, 47, 22, 17]], [[1], [19, 16, 20, 13]], [[1], [13, 53, 31, 6]], [[1], [40, 1, 19, 19]], [[1], [21, 40, 16, 21]], [[1], [17, 59, 43, 3]], [[1], [54, 62, 6, 2]], [[1], [29, 40, 25, 22]], [[1], [5, 38, 17, 15]], [[1], [7, 28, 48, 24]], [[1], [23, 61, 37, 3]], [[1], [51, 37, 5, 19]], [[1], [29, 5, 10, 32]], [[1], [28, 34, 16, 14]], [[1], [60, 34, 3, 13]], [[1], [46, 32, 1, 31]], [[1], [50, 26, 14, 21]], [[1], [45, 57, 11, 4]], [[1], [17, 54, 35, 6]], [[1], [3, 4, 12, 13]], [[1], [58, 50, 2, 4]], [[1], [21, 18, 18, 43]], [[1], [25, 15, 34, 1]], [[1], [9, 16, 6, 17]], [[1], [53, 20, 5, 31]], [[1], [58, 41, 2, 7]], [[1], [43, 26, 18, 7]], [[1], [18, 63, 2, 1]], [[1], [29, 45, 28, 16]], [[1], [48, 2, 4, 28]], [[1], [30, 54, 19, 6]], [[1], [8, 53, 1, 1]], [[1], [29, 47, 19, 10]], [[1], [32, 16, 16, 48]], [[1], [57, 11, 4, 16]], [[1], [37, 60, 23, 1]], [[1], [56, 42, 3, 20]], [[1], [54, 48, 8, 15]], [[1], [37, 42, 22, 20]], [[1], [49, 63, 15, 1]], [[1], [34, 22, 25, 10]], [[1], [2, 15, 9, 9]], [[1], [15, 62, 17, 1]], [[1], [50, 56, 11, 3]], [[1], [1, 17, 27, 35]], [[1], [62, 9, 2, 26]], [[1], [56, 17, 5, 30]], [[1], [63, 5, 1, 30]], [[1], [16, 50, 20, 14]], [[1], [63, 47, 1, 15]], [[1], [62, 54, 2, 6]], [[1], [16, 53, 20, 6]], [[1], [60, 25, 2, 8]], [[1], [41, 34, 4, 24]], [[1], [29, 24, 15, 22]], [[1], [37, 6, 1, 38]], [[1], [51, 61, 7, 2]], [[1], [28, 48, 13, 5]], [[1], [46, 41, 15, 4]], [[1], [17, 33, 12, 9]], [[1], [27, 55, 9, 4]], [[1], [55, 37, 1, 22]], [[1], [31, 50, 25, 2]], [[1], [31, 46, 4, 17]], [[1], [13, 61, 37, 2]], [[1], [25, 3, 5, 51]], [[1], [20, 56, 17, 4]], [[1], [40, 58, 1, 2]], [[1], [12, 48, 43, 12]], [[1], [9, 21, 33, 35]], [[1], [6, 23, 33, 22]], [[1], [23, 28, 11, 34]], [[1], [3, 4, 39, 49]], [[1], [51, 23, 7, 6]], [[1], [44, 1, 12, 62]], [[1], [14, 40, 48, 23]], [[1], [35, 3, 7, 36]], [[1], [58, 10, 5, 31]], [[1], [54, 37, 2, 19]], [[1], [5, 56, 16, 3]], [[1], [45, 30, 13, 12]], [[1], [1, 41, 57, 5]], [[1], [12, 54, 41, 8]], [[1], [57, 60, 6, 4]], [[1], [37, 25, 25, 34]], [[1], [58, 23, 2, 28]], [[1], [21, 28, 27, 20]], [[1], [38, 20, 6, 10]], [[1], [10, 31, 6, 33]], [[1], [11, 16, 39, 46]], [[1], [57, 19, 3, 26]], [[1], [44, 2, 19, 35]], [[1], [7, 39, 29, 7]], [[1], [21, 54, 27, 6]], [[1], [57, 21, 1, 7]], [[1], [49, 11, 8, 14]], [[1], [55, 14, 4, 2]], [[1], [11, 14, 8, 6]], [[1], [35, 6, 15, 8]], [[1], [15, 62, 35, 1]], [[1], [18, 35, 8, 20]], [[1], [52, 3, 11, 6]], [[1], [10, 34, 17, 16]], [[1], [38, 42, 1, 1]], [[1], [44, 52, 11, 4]], [[1], [62, 40, 1, 5]], [[1], [53, 60, 11, 2]], [[1], [12, 55, 19, 4]], [[1], [34, 54, 15, 8]], [[1], [48, 6, 4, 23]], [[1], [9, 48, 44, 3]], [[1], [50, 63, 8, 1]], [[1], [5, 7, 12, 40]], [[1], [55, 43, 5, 4]], [[1], [16, 53, 14, 8]], [[1], [53, 5, 1, 2]], [[1], [25, 13, 32, 31]], [[1], [35, 54, 11, 5]], [[1], [22, 16, 31, 43]], [[1], [26, 29, 9, 9]], [[1], [6, 27, 22, 32]], [[1], [36, 41, 11, 15]], [[1], [51, 60, 11, 3]], [[1], [7, 28, 28, 1]], [[1], [63, 33, 1, 30]], [[1], [42, 28, 1, 10]], [[1], [60, 44, 4, 17]], [[1], [39, 58, 18, 2]], [[1], [6, 12, 19, 39]], [[1], [17, 61, 7, 2]], [[1], [14, 2, 12, 52]], [[1], [25, 29, 8, 1]], [[1], [30, 22, 16, 15]], [[1], [39, 56, 16, 1]], [[1], [56, 38, 6, 16]], [[1], [20, 62, 14, 1]], [[1], [42, 24, 17, 33]], [[1], [32, 9, 11, 35]], [[1], [42, 58, 18, 1]], [[1], [41, 30, 14, 26]], [[1], [5, 12, 56, 1]], [[1], [3, 54, 45, 3]], [[1], [8, 49, 22, 15]], [[1], [23, 35, 16, 8]], [[1], [18, 32, 40, 4]], [[1], [8, 61, 10, 1]], [[1], [52, 4, 4, 7]], [[1], [1, 9, 24, 52]], [[1], [27, 22, 17, 32]], [[1], [62, 40, 2, 4]], [[1], [33, 61, 16, 1]], [[1], [7, 3, 55, 9]], [[1], [29, 12, 24, 32]], [[1], [53, 47, 1, 16]], [[1], [7, 15, 10, 11]], [[1], [41, 28, 22, 11]], [[1], [52, 37, 5, 18]], [[1], [38, 34, 16, 30]], [[1], [10, 42, 40, 5]], [[1], [20, 61, 5, 1]], [[1], [54, 2, 2, 10]], [[1], [12, 47, 36, 15]], [[1], [13, 44, 24, 19]], [[1], [35, 8, 25, 51]], [[1], [44, 39, 18, 5]], [[1], [5, 53, 3, 3]], [[1], [59, 43, 4, 20]], [[1], [3, 32, 26, 21]], [[1], [22, 36, 16, 18]], [[1], [31, 53, 22, 9]], [[1], [49, 36, 15, 27]], [[1], [8, 7, 54, 29]], [[1], [59, 4, 1, 52]], [[1], [39, 43, 16, 21]], [[1], [8, 17, 54, 11]], [[1], [7, 17, 4, 30]], [[1], [28, 11, 18, 30]], [[1], [27, 26, 29, 25]], [[1], [59, 21, 4, 15]], [[1], [6, 37, 51, 5]], [[1], [58, 12, 4, 52]], [[1], [8, 38, 49, 26]], [[1], [42, 19, 7, 25]], [[1], [6, 13, 38, 50]], [[1], [51, 32, 2, 26]], [[1], [36, 18, 9, 45]], [[1], [7, 44, 40, 3]], [[1], [7, 48, 17, 13]], [[1], [46, 29, 6, 10]], [[1], [16, 43, 42, 1]], [[1], [24, 15, 21, 42]], [[1], [44, 30, 10, 18]], [[1], [43, 11, 15, 22]], [[1], [58, 39, 6, 11]], [[1], [19, 39, 22, 11]], [[1], [8, 50, 47, 13]], [[1], [58, 31, 5, 5]], [[1], [25, 47, 28, 16]], [[1], [7, 10, 53, 28]], [[1], [6, 47, 18, 14]], [[1], [8, 60, 7, 3]], [[1], [25, 33, 36, 18]], [[1], [33, 16, 20, 33]], [[1], [47, 22, 9, 17]], [[1], [25, 50, 1, 6]], [[1], [2, 14, 21, 9]], [[1], [13, 23, 18, 27]], [[1], [0, 48, 14, 15]], [[1], [29, 61, 17, 2]], [[1], [56, 30, 6, 31]], [[1], [6, 60, 36, 4]], [[1], [16, 38, 25, 26]], [[1], [45, 61, 6, 2]], [[1], [6, 59, 22, 5]], [[1], [15, 40, 3, 7]], [[1], [14, 26, 20, 37]], [[1], [53, 56, 8, 6]], [[1], [48, 39, 3, 10]], [[1], [63, 56, 1, 6]], [[1], [25, 5, 26, 6]], [[1], [0, 10, 29, 13]], [[1], [44, 61, 15, 2]], [[1], [51, 7, 12, 19]], [[1], [57, 50, 1, 6]], [[1], [35, 20, 5, 13]], [[1], [25, 32, 28, 6]], [[1], [32, 27, 21, 28]], [[1], [61, 54, 1, 7]], [[1], [17, 51, 4, 5]], [[1], [9, 0, 15, 60]], [[1], [43, 7, 20, 38]], [[1], [3, 20, 41, 8]], [[1], [15, 35, 32, 5]], [[1], [50, 5, 11, 14]], [[1], [49, 30, 14, 9]], [[1], [25, 21, 22, 40]], [[1], [58, 33, 2, 17]], [[1], [58, 9, 6, 14]], [[1], [9, 51, 14, 12]], [[1], [3, 57, 10, 1]], [[1], [50, 57, 5, 2]], [[1], [16, 23, 45, 26]], [[1], [51, 15, 12, 47]], [[1], [56, 20, 5, 5]], [[1], [48, 30, 12, 26]], [[1], [6, 4, 45, 31]], [[1], [28, 34, 17, 10]], [[1], [10, 46, 16, 2]], [[1], [11, 4, 7, 40]], [[1], [55, 19, 6, 5]], [[1], [0, 23, 23, 1]], [[1], [4, 2, 21, 57]], [[1], [3, 4, 57, 40]], [[1], [21, 6, 18, 40]], [[1], [20, 33, 24, 8]], [[1], [57, 20, 6, 28]], [[1], [27, 17, 4, 7]], [[1], [59, 49, 1, 7]], [[1], [19, 14, 9, 35]], [[1], [57, 42, 4, 21]], [[1], [13, 6, 42, 43]], [[1], [20, 5, 34, 36]], [[1], [8, 25, 12, 5]], [[1], [60, 21, 2, 30]], [[1], [19, 54, 18, 8]], [[1], [28, 9, 9, 15]], [[1], [33, 36, 5, 21]], [[1], [3, 47, 61, 16]], [[1], [41, 38, 6, 16]], [[1], [48, 43, 1, 1]], [[1], [38, 13, 6, 40]], [[1], [26, 45, 14, 6]], [[1], [29, 39, 5, 14]], [[1], [39, 43, 24, 4]], [[1], [57, 18, 4, 36]], [[1], [4, 34, 51, 21]], [[1], [32, 25, 1, 39]], [[1], [22, 57, 33, 3]], [[1], [1, 62, 62, 1]], [[1], [18, 13, 36, 8]], [[1], [35, 11, 27, 42]], [[1], [5, 23, 30, 13]], [[1], [19, 25, 41, 23]], [[1], [37, 11, 19, 48]], [[1], [47, 39, 16, 20]], [[1], [34, 14, 30, 35]], [[1], [52, 34, 11, 28]], [[1], [50, 32, 11, 19]], [[1], [2, 17, 20, 7]], [[1], [16, 45, 21, 8]], [[1], [44, 46, 15, 4]], [[1], [44, 18, 8, 5]], [[1], [15, 17, 39, 38]], [[1], [34, 45, 25, 11]], [[1], [62, 18, 2, 14]], [[1], [34, 35, 7, 18]], [[1], [55, 35, 4, 25]], [[1], [33, 1, 5, 39]], [[1], [44, 46, 17, 2]], [[1], [42, 30, 19, 31]], [[1], [47, 62, 14, 2]], [[1], [60, 36, 2, 22]], [[1], [62, 40, 2, 11]], [[1], [42, 8, 6, 43]], [[1], [4, 4, 19, 51]], [[1], [30, 58, 21, 6]], [[1], [45, 15, 17, 5]], [[1], [44, 31, 10, 19]], [[1], [21, 7, 9, 10]], [[1], [3, 51, 37, 11]], [[1], [43, 29, 20, 26]], [[1], [10, 29, 13, 28]], [[1], [52, 50, 8, 14]], [[1], [16, 47, 24, 2]], [[1], [3, 30, 23, 1]], [[1], [4, 39, 2, 2]], [[1], [38, 8, 15, 32]], [[1], [42, 1, 16, 8]], [[1], [60, 13, 4, 5]], [[1], [24, 26, 20, 32]], [[1], [51, 10, 13, 17]], [[1], [44, 2, 13, 23]], [[1], [56, 11, 1, 26]], [[1], [62, 56, 2, 1]], [[1], [42, 21, 2, 18]], [[1], [14, 57, 8, 2]], [[1], [47, 50, 3, 9]], [[1], [48, 51, 16, 11]], [[1], [42, 19, 1, 15]], [[1], [3, 27, 10, 35]], [[1], [3, 60, 17, 3]], [[1], [2, 5, 37, 16]], [[1], [21, 32, 35, 24]], [[1], [63, 54, 1, 8]], [[1], [7, 28, 14, 33]], [[1], [1, 52, 46, 5]], [[1], [50, 17, 4, 47]], [[1], [55, 13, 9, 46]], [[1], [16, 62, 1, 2]], [[1], [44, 34, 19, 20]], [[1], [49, 15, 8, 38]], [[1], [46, 61, 2, 3]], [[1], [1, 15, 51, 4]], [[1], [32, 25, 19, 10]], [[1], [19, 19, 10, 35]], [[1], [13, 2, 24, 55]], [[1], [51, 62, 3, 1]], [[1], [47, 56, 6, 3]], [[1], [13, 51, 8, 11]], [[1], [58, 55, 2, 9]], [[1], [0, 46, 46, 7]], [[1], [15, 31, 23, 1]], [[1], [1, 29, 6, 26]], [[1], [27, 43, 4, 14]], [[1], [33, 54, 17, 3]], [[1], [27, 21, 20, 38]], [[1], [24, 38, 16, 3]], [[1], [24, 39, 39, 24]], [[1], [9, 41, 40, 23]], [[1], [14, 32, 49, 18]], [[1], [28, 59, 3, 3]], [[1], [36, 62, 23, 1]], [[1], [24, 20, 14, 30]], [[1], [25, 23, 24, 2]], [[1], [46, 56, 9, 3]], [[1], [56, 18, 7, 44]], [[1], [37, 56, 27, 2]], [[1], [45, 8, 9, 24]], [[1], [26, 48, 36, 8]], [[1], [24, 46, 26, 3]], [[1], [32, 27, 29, 24]], [[1], [58, 0, 3, 11]], [[1], [53, 23, 10, 14]], [[1], [40, 47, 13, 16]], [[1], [51, 19, 11, 26]], [[1], [50, 38, 2, 14]], [[1], [30, 39, 24, 15]], [[1], [45, 12, 2, 22]], [[1], [50, 22, 10, 14]], [[1], [40, 37, 8, 27]], [[1], [11, 59, 9, 3]], [[1], [15, 59, 19, 5]], [[1], [63, 20, 1, 12]], [[1], [46, 13, 2, 8]], [[1], [2, 59, 12, 4]], [[1], [21, 13, 7, 46]], [[1], [57, 60, 2, 4]], [[1], [28, 32, 9, 25]], [[1], [53, 42, 8, 6]], [[1], [14, 42, 3, 11]], [[1], [49, 13, 5, 7]], [[1], [42, 46, 9, 6]], [[1], [15, 48, 32, 1]], [[1], [8, 52, 26, 12]], [[1], [18, 45, 7, 13]], [[1], [13, 41, 27, 8]], [[1], [26, 57, 8, 7]], [[1], [49, 43, 2, 4]], [[1], [6, 24, 34, 12]], [[1], [58, 34, 2, 2]], [[1], [35, 63, 28, 1]], [[1], [7, 51, 19, 2]], [[1], [2, 38, 45, 17]], [[1], [23, 15, 15, 9]], [[1], [40, 27, 17, 25]], [[1], [42, 49, 10, 9]], [[1], [37, 46, 21, 7]], [[1], [4, 52, 5, 10]], [[1], [3, 47, 57, 10]], [[1], [60, 41, 2, 10]], [[1], [21, 16, 31, 13]], [[1], [25, 31, 26, 1]], [[1], [48, 2, 9, 7]], [[1], [12, 59, 28, 1]], [[1], [58, 23, 1, 39]], [[1], [40, 19, 9, 9]], [[1], [23, 24, 12, 23]], [[1], [23, 11, 6, 47]], [[1], [40, 45, 2, 18]], [[1], [12, 37, 14, 24]], [[1], [45, 41, 2, 7]], [[1], [13, 50, 43, 8]], [[1], [9, 56, 7, 1]], [[1], [15, 15, 4, 19]], [[1], [56, 14, 1, 14]], [[1], [38, 9, 2, 10]], [[1], [9, 0, 6, 44]], [[1], [22, 3, 39, 25]], [[1], [11, 21, 53, 28]], [[1], [53, 13, 9, 33]], [[1], [16, 31, 4, 14]], [[1], [32, 29, 4, 16]], [[1], [33, 33, 1, 6]], [[1], [50, 1, 8, 12]], [[1], [52, 63, 5, 1]], [[1], [11, 34, 3, 25]], [[1], [35, 57, 11, 2]], [[1], [0, 48, 50, 2]], [[1], [59, 7, 2, 30]], [[1], [38, 17, 22, 36]], [[1], [46, 60, 7, 4]], [[1], [38, 42, 5, 21]], [[1], [1, 43, 53, 9]], [[1], [32, 3, 2, 34]], [[1], [44, 62, 4, 1]], [[1], [54, 54, 10, 5]], [[1], [30, 5, 25, 43]], [[1], [14, 16, 2, 35]], [[1], [30, 47, 30, 10]], [[1], [48, 13, 3, 3]], [[1], [54, 39, 1, 3]], [[1], [59, 20, 4, 13]], [[1], [5, 4, 39, 3]], [[1], [49, 3, 12, 6]], [[1], [44, 20, 9, 43]], [[1], [41, 59, 10, 1]], [[1], [23, 52, 5, 12]], [[1], [17, 39, 5, 10]], [[1], [49, 61, 14, 2]], [[1], [23, 46, 36, 16]], [[1], [23, 39, 37, 11]], [[1], [4, 57, 21, 5]], [[1], [53, 0, 8, 22]], [[1], [2, 56, 32, 5]], [[1], [17, 61, 1, 2]], [[1], [19, 30, 44, 10]], [[1], [40, 13, 13, 7]], [[1], [29, 59, 10, 2]], [[1], [60, 3, 3, 26]], [[1], [47, 16, 5, 45]], [[1], [29, 13, 6, 47]], [[1], [58, 5, 2, 31]], [[1], [24, 63, 40, 1]], [[1], [33, 36, 24, 20]], [[1], [33, 43, 5, 8]], [[1], [13, 7, 36, 11]], [[1], [46, 19, 9, 24]], [[1], [47, 44, 2, 18]], [[1], [15, 37, 34, 9]], [[1], [38, 23, 17, 5]], [[1], [29, 22, 34, 32]], [[1], [46, 28, 18, 36]], [[1], [14, 60, 9, 1]], [[1], [20, 33, 13, 2]], [[1], [41, 2, 14, 32]], [[1], [55, 30, 9, 12]], [[1], [57, 9, 3, 7]], [[1], [62, 62, 1, 1]], [[1], [61, 24, 2, 33]], [[1], [5, 37, 50, 11]], [[1], [61, 1, 3, 45]], [[1], [44, 58, 20, 3]], [[1], [8, 53, 50, 6]], [[1], [57, 56, 4, 2]], [[1], [3, 27, 16, 10]], [[1], [44, 29, 13, 5]], [[1], [27, 1, 8, 25]], [[1], [8, 8, 43, 17]], [[1], [0, 20, 34, 5]], [[1], [40, 17, 13, 28]], [[1], [28, 11, 6, 6]], [[1], [18, 36, 38, 26]], [[1], [5, 45, 50, 5]], [[1], [53, 40, 11, 15]], [[1], [32, 19, 10, 7]], [[1], [36, 52, 6, 3]], [[1], [52, 43, 11, 9]], [[1], [8, 52, 17, 6]], [[1], [9, 33, 9, 30]], [[1], [39, 53, 14, 10]], [[1], [57, 1, 4, 23]], [[1], [18, 8, 10, 11]], [[1], [58, 43, 1, 15]], [[1], [43, 1, 18, 44]], [[1], [36, 11, 15, 37]], [[1], [49, 23, 9, 1]], [[1], [25, 11, 33, 4]], [[1], [50, 44, 5, 17]], [[1], [3, 47, 5, 17]], [[1], [59, 10, 2, 37]], [[1], [24, 42, 18, 10]], [[1], [55, 3, 1, 17]], [[1], [55, 0, 1, 33]], [[1], [38, 56, 2, 6]], [[1], [1, 3, 1, 10]], [[1], [10, 14, 51, 48]], [[1], [48, 4, 3, 13]], [[1], [22, 15, 22, 27]], [[1], [31, 41, 25, 7]], [[1], [8, 39, 24, 2]], [[1], [0, 57, 52, 2]], [[1], [31, 6, 3, 47]], [[1], [53, 39, 5, 6]], [[1], [32, 9, 15, 6]], [[1], [57, 50, 3, 5]], [[1], [30, 55, 28, 5]], [[1], [59, 53, 3, 11]], [[1], [35, 52, 20, 4]], [[1], [34, 29, 21, 26]], [[1], [37, 52, 5, 11]], [[1], [14, 42, 24, 12]], [[1], [52, 10, 10, 18]], [[1], [4, 49, 48, 14]], [[1], [35, 43, 18, 11]], [[1], [24, 13, 13, 10]], [[1], [38, 60, 9, 2]], [[1], [8, 59, 1, 3]], [[1], [36, 4, 8, 20]], [[1], [6, 3, 53, 52]], [[1], [0, 53, 15, 3]], [[1], [54, 11, 6, 36]], [[1], [61, 10, 2, 26]], [[1], [50, 42, 6, 20]], [[1], [49, 59, 6, 5]], [[1], [15, 3, 13, 3]], [[1], [24, 60, 4, 4]], [[1], [51, 46, 13, 18]], [[1], [46, 33, 15, 9]], [[1], [17, 4, 1, 53]], [[1], [52, 19, 1, 43]], [[1], [9, 38, 27, 24]], [[1], [53, 41, 11, 12]], [[1], [24, 55, 30, 4]], [[1], [51, 30, 4, 17]], [[1], [19, 57, 31, 1]], [[1], [53, 62, 6, 1]], [[1], [47, 60, 10, 3]], [[1], [0, 45, 61, 17]], [[1], [53, 59, 11, 4]], [[1], [22, 40, 10, 8]], [[1], [21, 56, 32, 2]], [[1], [7, 21, 29, 31]], [[1], [17, 63, 26, 1]], [[1], [14, 60, 30, 3]], [[1], [30, 62, 1, 1]], [[1], [19, 1, 41, 51]], [[1], [39, 15, 8, 47]], [[1], [36, 19, 15, 12]], [[1], [39, 43, 11, 21]], [[1], [45, 39, 2, 8]], [[1], [7, 50, 53, 6]], [[1], [54, 23, 7, 24]], [[1], [8, 54, 51, 2]], [[1], [0, 36, 6, 11]], [[1], [23, 25, 28, 35]], [[1], [45, 19, 9, 44]], [[1], [60, 4, 2, 3]], [[1], [54, 58, 3, 1]], [[1], [19, 31, 5, 6]], [[1], [58, 7, 4, 45]], [[1], [11, 59, 2, 4]], [[1], [13, 14, 10, 4]], [[1], [4, 10, 35, 53]], [[1], [8, 55, 37, 7]], [[1], [25, 62, 6, 1]], [[1], [28, 5, 26, 29]], [[1], [52, 26, 12, 16]], [[1], [25, 38, 31, 15]], [[1], [13, 21, 26, 10]], [[1], [52, 45, 7, 4]], [[1], [13, 61, 7, 1]], [[1], [28, 52, 10, 10]], [[1], [3, 54, 28, 7]], [[1], [33, 39, 2, 4]], [[1], [49, 14, 8, 20]], [[1], [20, 9, 8, 22]], [[1], [15, 28, 25, 5]], [[1], [15, 56, 12, 5]], [[1], [36, 42, 26, 16]], [[1], [44, 61, 16, 3]], [[1], [31, 45, 4, 14]], [[1], [27, 32, 3, 2]], [[1], [32, 38, 21, 9]], [[1], [41, 28, 3, 28]], [[1], [25, 4, 14, 42]], [[1], [40, 15, 1, 6]], [[1], [21, 51, 28, 5]], [[1], [29, 40, 27, 2]], [[1], [31, 63, 18, 1]], [[1], [44, 24, 10, 34]], [[1], [59, 14, 3, 14]], [[1], [14, 48, 26, 4]], [[1], [48, 16, 3, 5]], [[1], [53, 38, 7, 11]], [[1], [56, 39, 4, 22]], [[1], [0, 49, 17, 7]], [[1], [29, 19, 3, 6]], [[1], [43, 45, 4, 5]], [[1], [11, 60, 36, 4]], [[1], [7, 44, 28, 4]], [[1], [56, 57, 1, 6]], [[1], [42, 35, 20, 25]], [[1], [2, 55, 27, 8]], [[1], [42, 11, 16, 41]], [[1], [10, 11, 52, 45]], [[1], [53, 14, 9, 16]], [[1], [15, 38, 17, 16]], [[1], [23, 1, 19, 5]], [[1], [56, 5, 2, 4]], [[1], [25, 22, 10, 6]], [[1], [14, 31, 32, 4]], [[1], [31, 10, 14, 43]], [[1], [52, 19, 10, 10]], [[1], [1, 61, 50, 2]], [[1], [41, 41, 18, 11]], [[1], [3, 27, 21, 19]], [[1], [22, 34, 38, 18]], [[1], [0, 55, 37, 9]], [[1], [38, 2, 25, 29]], [[1], [27, 48, 6, 16]], [[1], [56, 44, 7, 4]], [[1], [21, 5, 21, 5]], [[1], [61, 30, 2, 28]], [[1], [56, 5, 2, 21]], [[1], [1, 39, 20, 5]], [[1], [36, 48, 2, 4]], [[1], [36, 4, 14, 47]], [[1], [8, 39, 23, 24]], [[1], [20, 16, 26, 47]], [[1], [43, 1, 17, 9]], [[1], [12, 14, 5, 43]], [[1], [45, 22, 4, 33]], [[1], [15, 0, 18, 19]], [[1], [58, 9, 1, 36]], [[1], [22, 20, 25, 6]], [[1], [7, 14, 44, 18]], [[1], [4, 17, 43, 21]], [[1], [20, 38, 11, 9]], [[1], [59, 63, 1, 1]], [[1], [40, 19, 13, 36]], [[1], [46, 5, 16, 55]], [[1], [17, 16, 16, 18]], [[1], [29, 28, 21, 25]], [[1], [59, 19, 2, 17]], [[1], [58, 2, 3, 6]], [[1], [11, 42, 50, 3]], [[1], [23, 53, 1, 7]], [[1], [34, 18, 26, 19]], [[1], [22, 31, 19, 20]], [[1], [62, 12, 1, 33]], [[1], [25, 19, 39, 10]], [[1], [3, 29, 24, 27]], [[1], [17, 27, 23, 6]], [[1], [23, 62, 40, 2]], [[1], [31, 49, 33, 1]], [[1], [56, 60, 5, 4]], [[1], [46, 17, 18, 18]], [[1], [2, 34, 37, 28]], [[1], [13, 30, 4, 12]], [[1], [19, 23, 7, 22]], [[1], [51, 34, 5, 25]], [[1], [17, 9, 2, 6]], [[1], [33, 62, 12, 2]], [[1], [8, 9, 22, 52]], [[1], [52, 31, 11, 32]], [[1], [53, 27, 2, 14]], [[1], [22, 41, 28, 5]], [[1], [37, 0, 2, 49]], [[1], [8, 11, 36, 33]], [[1], [23, 23, 23, 33]], [[1], [25, 43, 36, 3]], [[1], [39, 48, 14, 12]], [[1], [48, 10, 4, 47]], [[1], [22, 59, 13, 4]], [[1], [40, 53, 3, 10]], [[1], [46, 3, 8, 47]], [[1], [49, 10, 13, 8]], [[1], [15, 61, 29, 1]], [[1], [22, 57, 8, 4]], [[1], [15, 60, 42, 4]], [[1], [39, 8, 19, 29]], [[1], [18, 18, 14, 43]], [[1], [47, 46, 17, 13]], [[1], [10, 31, 19, 2]], [[1], [60, 23, 3, 4]], [[1], [40, 36, 5, 20]], [[1], [15, 2, 39, 57]], [[1], [7, 5, 33, 1]], [[1], [58, 25, 6, 11]], [[1], [9, 43, 36, 11]], [[1], [10, 23, 27, 25]], [[1], [4, 4, 57, 13]], [[1], [61, 28, 3, 9]], [[1], [48, 58, 5, 4]], [[1], [2, 59, 8, 3]], [[1], [26, 32, 5, 20]], [[1], [15, 63, 12, 1]], [[1], [63, 13, 1, 16]], [[1], [52, 29, 7, 29]], [[1], [17, 5, 25, 59]], [[1], [62, 33, 2, 17]], [[1], [24, 59, 3, 2]], [[1], [41, 1, 11, 31]], [[1], [24, 59, 33, 5]], [[1], [10, 40, 25, 19]], [[1], [63, 15, 1, 43]], [[1], [37, 62, 20, 2]], [[1], [60, 25, 4, 8]], [[1], [10, 18, 5, 10]], [[1], [41, 37, 23, 12]], [[1], [37, 19, 27, 36]], [[1], [10, 57, 19, 3]], [[1], [49, 54, 7, 2]], [[1], [4, 31, 49, 30]], [[1], [46, 44, 6, 12]], [[1], [52, 19, 10, 13]], [[1], [0, 54, 21, 5]], [[1], [18, 9, 23, 17]], [[1], [0, 16, 49, 4]], [[1], [34, 29, 15, 6]], [[1], [41, 20, 3, 32]], [[1], [30, 13, 1, 43]], [[1], [61, 48, 2, 10]], [[1], [49, 21, 9, 15]], [[1], [13, 25, 21, 38]], [[1], [13, 53, 47, 2]], [[1], [61, 46, 2, 15]], [[1], [10, 24, 25, 6]], [[1], [63, 37, 1, 13]], [[1], [13, 48, 28, 1]], [[1], [49, 37, 2, 17]], [[1], [43, 10, 11, 52]], [[1], [59, 61, 1, 2]], [[1], [49, 7, 10, 11]], [[1], [14, 54, 21, 6]], [[1], [26, 29, 15, 18]], [[1], [18, 9, 23, 40]], [[1], [10, 15, 30, 33]], [[1], [4, 29, 4, 21]], [[1], [33, 42, 4, 7]], [[1], [62, 35, 1, 10]], [[1], [41, 51, 17, 4]], [[1], [5, 62, 3, 2]], [[1], [41, 40, 11, 16]], [[1], [47, 30, 11, 31]], [[1], [42, 26, 10, 16]], [[1], [38, 50, 13, 11]], [[1], [13, 60, 49, 1]], [[1], [63, 62, 1, 1]], [[1], [13, 35, 44, 15]], [[1], [12, 9, 43, 47]], [[1], [1, 49, 10, 2]], [[1], [61, 4, 2, 42]], [[1], [50, 49, 14, 14]], [[1], [61, 43, 1, 15]], [[1], [54, 50, 4, 13]], [[1], [29, 11, 21, 13]], [[1], [40, 49, 10, 5]], [[1], [45, 7, 12, 46]], [[1], [47, 50, 4, 8]], [[1], [2, 25, 38, 5]], [[1], [1, 32, 18, 26]], [[1], [36, 46, 3, 3]], [[1], [60, 62, 1, 2]], [[1], [24, 15, 24, 41]], [[1], [56, 17, 8, 44]], [[1], [51, 62, 6, 1]], [[1], [7, 44, 50, 11]], [[1], [59, 55, 4, 4]], [[1], [21, 15, 28, 34]], [[1], [53, 51, 11, 10]], [[1], [58, 19, 2, 4]], [[1], [9, 7, 39, 3]], [[1], [41, 19, 3, 18]], [[1], [15, 29, 42, 1]], [[1], [46, 56, 7, 7]], [[1], [53, 1, 3, 5]], [[1], [41, 13, 8, 38]], [[1], [3, 39, 2, 16]], [[1], [39, 34, 11, 11]], [[1], [63, 40, 1, 11]], [[1], [8, 10, 47, 24]], [[1], [28, 13, 33, 34]], [[1], [54, 9, 9, 15]], [[1], [60, 63, 2, 1]], [[1], [3, 8, 49, 10]], [[1], [59, 12, 5, 39]], [[1], [57, 23, 6, 1]], [[1], [17, 63, 6, 1]], [[1], [37, 40, 17, 15]], [[1], [40, 11, 20, 6]], [[1], [14, 6, 39, 11]], [[1], [63, 5, 1, 17]], [[1], [3, 52, 6, 6]], [[1], [2, 13, 44, 9]], [[1], [42, 53, 14, 9]], [[1], [0, 12, 39, 45]], [[1], [13, 34, 40, 25]], [[1], [36, 12, 7, 33]], [[1], [6, 57, 51, 4]], [[1], [40, 26, 5, 27]], [[1], [11, 44, 8, 6]], [[1], [13, 45, 5, 7]], [[1], [51, 31, 8, 3]], [[1], [44, 48, 11, 5]], [[1], [3, 18, 30, 26]], [[1], [39, 34, 22, 30]], [[1], [0, 1, 1, 9]], [[1], [13, 23, 12, 22]], [[1], [5, 11, 37, 9]], [[1], [40, 24, 12, 29]], [[1], [55, 22, 5, 23]], [[1], [50, 40, 10, 10]], [[1], [53, 53, 7, 4]], [[1], [4, 14, 59, 25]], [[1], [13, 8, 17, 37]], [[1], [41, 27, 2, 5]], [[1], [51, 40, 1, 19]], [[1], [63, 0, 1, 61]], [[1], [14, 39, 27, 4]], [[1], [62, 50, 2, 7]], [[1], [24, 44, 8, 18]], [[1], [20, 18, 40, 20]], [[1], [41, 45, 18, 16]], [[1], [51, 13, 3, 50]], [[1], [13, 31, 23, 3]], [[1], [42, 15, 6, 21]], [[1], [51, 33, 6, 11]], [[1], [16, 26, 45, 31]], [[1], [39, 24, 20, 1]], [[1], [12, 58, 15, 3]], [[1], [38, 13, 7, 35]], [[1], [57, 24, 6, 1]], [[1], [37, 56, 22, 3]], [[1], [29, 56, 28, 3]], [[1], [48, 23, 10, 27]], [[1], [55, 58, 1, 5]], [[1], [1, 15, 50, 2]], [[1], [24, 37, 13, 16]], [[1], [58, 13, 2, 23]], [[1], [31, 8, 28, 52]], [[1], [17, 1, 5, 53]], [[1], [49, 51, 2, 10]], [[1], [57, 45, 3, 11]], [[1], [58, 33, 6, 28]], [[1], [44, 26, 5, 13]], [[1], [28, 1, 36, 18]]] with type list",
      "\nDuring handling of the above exception, another exception occurred:\n",
      "\u001b[1;31mValueError\u001b[0m                                Traceback (most recent call last)",
      "Cell \u001b[1;32mIn[121], line 11\u001b[0m\n\u001b[0;32m      8\u001b[0m label_mode \u001b[38;5;241m=\u001b[39m \u001b[38;5;124m'\u001b[39m\u001b[38;5;124mint\u001b[39m\u001b[38;5;124m'\u001b[39m\n\u001b[0;32m      9\u001b[0m shuffle \u001b[38;5;241m=\u001b[39m \u001b[38;5;28;01mFalse\u001b[39;00m\n\u001b[1;32m---> 11\u001b[0m train_ds \u001b[38;5;241m=\u001b[39m \u001b[43mtf\u001b[49m\u001b[38;5;241;43m.\u001b[39;49m\u001b[43mkeras\u001b[49m\u001b[38;5;241;43m.\u001b[39;49m\u001b[43mutils\u001b[49m\u001b[38;5;241;43m.\u001b[39;49m\u001b[43mimage_dataset_from_directory\u001b[49m\u001b[43m(\u001b[49m\n\u001b[0;32m     12\u001b[0m \u001b[43m    \u001b[49m\u001b[43mdata_dir\u001b[49m\u001b[43m,\u001b[49m\n\u001b[0;32m     13\u001b[0m \u001b[43m    \u001b[49m\u001b[43mlabels\u001b[49m\u001b[43m \u001b[49m\u001b[38;5;241;43m=\u001b[39;49m\u001b[43m \u001b[49m\u001b[43mlabels\u001b[49m\u001b[43m,\u001b[49m\n\u001b[0;32m     14\u001b[0m \u001b[43m    \u001b[49m\u001b[43mlabel_mode\u001b[49m\u001b[43m \u001b[49m\u001b[38;5;241;43m=\u001b[39;49m\u001b[43m \u001b[49m\u001b[43mlabel_mode\u001b[49m\u001b[43m,\u001b[49m\n\u001b[0;32m     15\u001b[0m \u001b[43m    \u001b[49m\u001b[43mcolor_mode\u001b[49m\u001b[43m \u001b[49m\u001b[38;5;241;43m=\u001b[39;49m\u001b[43m \u001b[49m\u001b[38;5;124;43m'\u001b[39;49m\u001b[38;5;124;43mgrayscale\u001b[39;49m\u001b[38;5;124;43m'\u001b[39;49m\u001b[43m,\u001b[49m\n\u001b[0;32m     16\u001b[0m \u001b[43m    \u001b[49m\u001b[43mshuffle\u001b[49m\u001b[43m \u001b[49m\u001b[38;5;241;43m=\u001b[39;49m\u001b[43m \u001b[49m\u001b[43mshuffle\u001b[49m\u001b[43m,\u001b[49m\n\u001b[0;32m     17\u001b[0m \u001b[43m    \u001b[49m\u001b[43mseed\u001b[49m\u001b[38;5;241;43m=\u001b[39;49m\u001b[38;5;241;43m123\u001b[39;49m\u001b[43m,\u001b[49m\n\u001b[0;32m     18\u001b[0m \u001b[43m    \u001b[49m\u001b[43mimage_size\u001b[49m\u001b[38;5;241;43m=\u001b[39;49m\u001b[43m(\u001b[49m\u001b[43mimg_height\u001b[49m\u001b[43m,\u001b[49m\u001b[43m \u001b[49m\u001b[43mimg_width\u001b[49m\u001b[43m)\u001b[49m\u001b[43m,\u001b[49m\n\u001b[0;32m     19\u001b[0m \u001b[43m    \u001b[49m\u001b[43mbatch_size\u001b[49m\u001b[38;5;241;43m=\u001b[39;49m\u001b[43mbatch_size\u001b[49m\u001b[43m)\u001b[49m\n\u001b[0;32m     21\u001b[0m val_ds \u001b[38;5;241m=\u001b[39m tf\u001b[38;5;241m.\u001b[39mkeras\u001b[38;5;241m.\u001b[39mutils\u001b[38;5;241m.\u001b[39mimage_dataset_from_directory(\n\u001b[0;32m     22\u001b[0m     data_val_dir,\n\u001b[0;32m     23\u001b[0m     labels \u001b[38;5;241m=\u001b[39m val_labels,\n\u001b[1;32m   (...)\u001b[0m\n\u001b[0;32m     28\u001b[0m     image_size\u001b[38;5;241m=\u001b[39m(img_height, img_width),\n\u001b[0;32m     29\u001b[0m     batch_size\u001b[38;5;241m=\u001b[39mbatch_size)\n",
      "File \u001b[1;32mD:\\projekty\\mgr\\custom_nn\\mgr-env\\lib\\site-packages\\keras\\utils\\image_dataset.py:299\u001b[0m, in \u001b[0;36mimage_dataset_from_directory\u001b[1;34m(directory, labels, label_mode, class_names, color_mode, batch_size, image_size, shuffle, seed, validation_split, subset, interpolation, follow_links, crop_to_aspect_ratio, **kwargs)\u001b[0m\n\u001b[0;32m    293\u001b[0m \u001b[38;5;28;01mif\u001b[39;00m \u001b[38;5;129;01mnot\u001b[39;00m image_paths:\n\u001b[0;32m    294\u001b[0m     \u001b[38;5;28;01mraise\u001b[39;00m \u001b[38;5;167;01mValueError\u001b[39;00m(\n\u001b[0;32m    295\u001b[0m         \u001b[38;5;124mf\u001b[39m\u001b[38;5;124m\"\u001b[39m\u001b[38;5;124mNo images found in directory \u001b[39m\u001b[38;5;132;01m{\u001b[39;00mdirectory\u001b[38;5;132;01m}\u001b[39;00m\u001b[38;5;124m. \u001b[39m\u001b[38;5;124m\"\u001b[39m\n\u001b[0;32m    296\u001b[0m         \u001b[38;5;124mf\u001b[39m\u001b[38;5;124m\"\u001b[39m\u001b[38;5;124mAllowed formats: \u001b[39m\u001b[38;5;132;01m{\u001b[39;00mALLOWLIST_FORMATS\u001b[38;5;132;01m}\u001b[39;00m\u001b[38;5;124m\"\u001b[39m\n\u001b[0;32m    297\u001b[0m     )\n\u001b[1;32m--> 299\u001b[0m dataset \u001b[38;5;241m=\u001b[39m \u001b[43mpaths_and_labels_to_dataset\u001b[49m\u001b[43m(\u001b[49m\n\u001b[0;32m    300\u001b[0m \u001b[43m    \u001b[49m\u001b[43mimage_paths\u001b[49m\u001b[38;5;241;43m=\u001b[39;49m\u001b[43mimage_paths\u001b[49m\u001b[43m,\u001b[49m\n\u001b[0;32m    301\u001b[0m \u001b[43m    \u001b[49m\u001b[43mimage_size\u001b[49m\u001b[38;5;241;43m=\u001b[39;49m\u001b[43mimage_size\u001b[49m\u001b[43m,\u001b[49m\n\u001b[0;32m    302\u001b[0m \u001b[43m    \u001b[49m\u001b[43mnum_channels\u001b[49m\u001b[38;5;241;43m=\u001b[39;49m\u001b[43mnum_channels\u001b[49m\u001b[43m,\u001b[49m\n\u001b[0;32m    303\u001b[0m \u001b[43m    \u001b[49m\u001b[43mlabels\u001b[49m\u001b[38;5;241;43m=\u001b[39;49m\u001b[43mlabels\u001b[49m\u001b[43m,\u001b[49m\n\u001b[0;32m    304\u001b[0m \u001b[43m    \u001b[49m\u001b[43mlabel_mode\u001b[49m\u001b[38;5;241;43m=\u001b[39;49m\u001b[43mlabel_mode\u001b[49m\u001b[43m,\u001b[49m\n\u001b[0;32m    305\u001b[0m \u001b[43m    \u001b[49m\u001b[43mnum_classes\u001b[49m\u001b[38;5;241;43m=\u001b[39;49m\u001b[38;5;28;43mlen\u001b[39;49m\u001b[43m(\u001b[49m\u001b[43mclass_names\u001b[49m\u001b[43m)\u001b[49m\u001b[43m,\u001b[49m\n\u001b[0;32m    306\u001b[0m \u001b[43m    \u001b[49m\u001b[43minterpolation\u001b[49m\u001b[38;5;241;43m=\u001b[39;49m\u001b[43minterpolation\u001b[49m\u001b[43m,\u001b[49m\n\u001b[0;32m    307\u001b[0m \u001b[43m    \u001b[49m\u001b[43mcrop_to_aspect_ratio\u001b[49m\u001b[38;5;241;43m=\u001b[39;49m\u001b[43mcrop_to_aspect_ratio\u001b[49m\u001b[43m,\u001b[49m\n\u001b[0;32m    308\u001b[0m \u001b[43m\u001b[49m\u001b[43m)\u001b[49m\n\u001b[0;32m    309\u001b[0m dataset \u001b[38;5;241m=\u001b[39m dataset\u001b[38;5;241m.\u001b[39mprefetch(tf\u001b[38;5;241m.\u001b[39mdata\u001b[38;5;241m.\u001b[39mAUTOTUNE)\n\u001b[0;32m    310\u001b[0m \u001b[38;5;28;01mif\u001b[39;00m batch_size \u001b[38;5;129;01mis\u001b[39;00m \u001b[38;5;129;01mnot\u001b[39;00m \u001b[38;5;28;01mNone\u001b[39;00m:\n",
      "File \u001b[1;32mD:\\projekty\\mgr\\custom_nn\\mgr-env\\lib\\site-packages\\keras\\utils\\image_dataset.py:344\u001b[0m, in \u001b[0;36mpaths_and_labels_to_dataset\u001b[1;34m(image_paths, image_size, num_channels, labels, label_mode, num_classes, interpolation, crop_to_aspect_ratio)\u001b[0m\n\u001b[0;32m    340\u001b[0m img_ds \u001b[38;5;241m=\u001b[39m path_ds\u001b[38;5;241m.\u001b[39mmap(\n\u001b[0;32m    341\u001b[0m     \u001b[38;5;28;01mlambda\u001b[39;00m x: load_image(x, \u001b[38;5;241m*\u001b[39margs), num_parallel_calls\u001b[38;5;241m=\u001b[39mtf\u001b[38;5;241m.\u001b[39mdata\u001b[38;5;241m.\u001b[39mAUTOTUNE\n\u001b[0;32m    342\u001b[0m )\n\u001b[0;32m    343\u001b[0m \u001b[38;5;28;01mif\u001b[39;00m label_mode:\n\u001b[1;32m--> 344\u001b[0m     label_ds \u001b[38;5;241m=\u001b[39m \u001b[43mdataset_utils\u001b[49m\u001b[38;5;241;43m.\u001b[39;49m\u001b[43mlabels_to_dataset\u001b[49m\u001b[43m(\u001b[49m\n\u001b[0;32m    345\u001b[0m \u001b[43m        \u001b[49m\u001b[43mlabels\u001b[49m\u001b[43m,\u001b[49m\u001b[43m \u001b[49m\u001b[43mlabel_mode\u001b[49m\u001b[43m,\u001b[49m\u001b[43m \u001b[49m\u001b[43mnum_classes\u001b[49m\n\u001b[0;32m    346\u001b[0m \u001b[43m    \u001b[49m\u001b[43m)\u001b[49m\n\u001b[0;32m    347\u001b[0m     img_ds \u001b[38;5;241m=\u001b[39m tf\u001b[38;5;241m.\u001b[39mdata\u001b[38;5;241m.\u001b[39mDataset\u001b[38;5;241m.\u001b[39mzip((img_ds, label_ds))\n\u001b[0;32m    348\u001b[0m \u001b[38;5;28;01mreturn\u001b[39;00m img_ds\n",
      "File \u001b[1;32mD:\\projekty\\mgr\\custom_nn\\mgr-env\\lib\\site-packages\\keras\\utils\\dataset_utils.py:694\u001b[0m, in \u001b[0;36mlabels_to_dataset\u001b[1;34m(labels, label_mode, num_classes)\u001b[0m\n\u001b[0;32m    679\u001b[0m \u001b[38;5;28;01mdef\u001b[39;00m \u001b[38;5;21mlabels_to_dataset\u001b[39m(labels, label_mode, num_classes):\n\u001b[0;32m    680\u001b[0m \u001b[38;5;250m    \u001b[39m\u001b[38;5;124;03m\"\"\"Create a tf.data.Dataset from the list/tuple of labels.\u001b[39;00m\n\u001b[0;32m    681\u001b[0m \n\u001b[0;32m    682\u001b[0m \u001b[38;5;124;03m    Args:\u001b[39;00m\n\u001b[1;32m   (...)\u001b[0m\n\u001b[0;32m    692\u001b[0m \u001b[38;5;124;03m      A `Dataset` instance.\u001b[39;00m\n\u001b[0;32m    693\u001b[0m \u001b[38;5;124;03m    \"\"\"\u001b[39;00m\n\u001b[1;32m--> 694\u001b[0m     label_ds \u001b[38;5;241m=\u001b[39m \u001b[43mtf\u001b[49m\u001b[38;5;241;43m.\u001b[39;49m\u001b[43mdata\u001b[49m\u001b[38;5;241;43m.\u001b[39;49m\u001b[43mDataset\u001b[49m\u001b[38;5;241;43m.\u001b[39;49m\u001b[43mfrom_tensor_slices\u001b[49m\u001b[43m(\u001b[49m\u001b[43mlabels\u001b[49m\u001b[43m)\u001b[49m\n\u001b[0;32m    695\u001b[0m     \u001b[38;5;28;01mif\u001b[39;00m label_mode \u001b[38;5;241m==\u001b[39m \u001b[38;5;124m\"\u001b[39m\u001b[38;5;124mbinary\u001b[39m\u001b[38;5;124m\"\u001b[39m:\n\u001b[0;32m    696\u001b[0m         label_ds \u001b[38;5;241m=\u001b[39m label_ds\u001b[38;5;241m.\u001b[39mmap(\n\u001b[0;32m    697\u001b[0m             \u001b[38;5;28;01mlambda\u001b[39;00m x: tf\u001b[38;5;241m.\u001b[39mexpand_dims(tf\u001b[38;5;241m.\u001b[39mcast(x, \u001b[38;5;124m\"\u001b[39m\u001b[38;5;124mfloat32\u001b[39m\u001b[38;5;124m\"\u001b[39m), axis\u001b[38;5;241m=\u001b[39m\u001b[38;5;241m-\u001b[39m\u001b[38;5;241m1\u001b[39m),\n\u001b[0;32m    698\u001b[0m             num_parallel_calls\u001b[38;5;241m=\u001b[39mtf\u001b[38;5;241m.\u001b[39mdata\u001b[38;5;241m.\u001b[39mAUTOTUNE,\n\u001b[0;32m    699\u001b[0m         )\n",
      "File \u001b[1;32mD:\\projekty\\mgr\\custom_nn\\mgr-env\\lib\\site-packages\\tensorflow\\python\\data\\ops\\dataset_ops.py:818\u001b[0m, in \u001b[0;36mDatasetV2.from_tensor_slices\u001b[1;34m(tensors, name)\u001b[0m\n\u001b[0;32m    815\u001b[0m \u001b[38;5;66;03m# Loaded lazily due to a circular dependency (dataset_ops ->\u001b[39;00m\n\u001b[0;32m    816\u001b[0m \u001b[38;5;66;03m# from_tensor_slices_op -> dataset_ops).\u001b[39;00m\n\u001b[0;32m    817\u001b[0m \u001b[38;5;28;01mfrom\u001b[39;00m \u001b[38;5;21;01mtensorflow\u001b[39;00m\u001b[38;5;21;01m.\u001b[39;00m\u001b[38;5;21;01mpython\u001b[39;00m\u001b[38;5;21;01m.\u001b[39;00m\u001b[38;5;21;01mdata\u001b[39;00m\u001b[38;5;21;01m.\u001b[39;00m\u001b[38;5;21;01mops\u001b[39;00m \u001b[38;5;28;01mimport\u001b[39;00m from_tensor_slices_op  \u001b[38;5;66;03m# pylint: disable=g-import-not-at-top\u001b[39;00m\n\u001b[1;32m--> 818\u001b[0m \u001b[38;5;28;01mreturn\u001b[39;00m \u001b[43mfrom_tensor_slices_op\u001b[49m\u001b[38;5;241;43m.\u001b[39;49m\u001b[43mfrom_tensor_slices\u001b[49m\u001b[43m(\u001b[49m\u001b[43mtensors\u001b[49m\u001b[43m,\u001b[49m\u001b[43m \u001b[49m\u001b[43mname\u001b[49m\u001b[43m)\u001b[49m\n",
      "File \u001b[1;32mD:\\projekty\\mgr\\custom_nn\\mgr-env\\lib\\site-packages\\tensorflow\\python\\data\\ops\\from_tensor_slices_op.py:25\u001b[0m, in \u001b[0;36mfrom_tensor_slices\u001b[1;34m(tensors, name)\u001b[0m\n\u001b[0;32m     24\u001b[0m \u001b[38;5;28;01mdef\u001b[39;00m \u001b[38;5;21mfrom_tensor_slices\u001b[39m(tensors, name\u001b[38;5;241m=\u001b[39m\u001b[38;5;28;01mNone\u001b[39;00m):\n\u001b[1;32m---> 25\u001b[0m   \u001b[38;5;28;01mreturn\u001b[39;00m \u001b[43mTensorSliceDataset\u001b[49m\u001b[43m(\u001b[49m\u001b[43mtensors\u001b[49m\u001b[43m,\u001b[49m\u001b[43m \u001b[49m\u001b[43mname\u001b[49m\u001b[38;5;241;43m=\u001b[39;49m\u001b[43mname\u001b[49m\u001b[43m)\u001b[49m\n",
      "File \u001b[1;32mD:\\projekty\\mgr\\custom_nn\\mgr-env\\lib\\site-packages\\tensorflow\\python\\data\\ops\\from_tensor_slices_op.py:33\u001b[0m, in \u001b[0;36mTensorSliceDataset.__init__\u001b[1;34m(self, element, is_files, name)\u001b[0m\n\u001b[0;32m     31\u001b[0m \u001b[38;5;28;01mdef\u001b[39;00m \u001b[38;5;21m__init__\u001b[39m(\u001b[38;5;28mself\u001b[39m, element, is_files\u001b[38;5;241m=\u001b[39m\u001b[38;5;28;01mFalse\u001b[39;00m, name\u001b[38;5;241m=\u001b[39m\u001b[38;5;28;01mNone\u001b[39;00m):\n\u001b[0;32m     32\u001b[0m \u001b[38;5;250m  \u001b[39m\u001b[38;5;124;03m\"\"\"See `Dataset.from_tensor_slices` for details.\"\"\"\u001b[39;00m\n\u001b[1;32m---> 33\u001b[0m   element \u001b[38;5;241m=\u001b[39m \u001b[43mstructure\u001b[49m\u001b[38;5;241;43m.\u001b[39;49m\u001b[43mnormalize_element\u001b[49m\u001b[43m(\u001b[49m\u001b[43melement\u001b[49m\u001b[43m)\u001b[49m\n\u001b[0;32m     34\u001b[0m   batched_spec \u001b[38;5;241m=\u001b[39m structure\u001b[38;5;241m.\u001b[39mtype_spec_from_value(element)\n\u001b[0;32m     35\u001b[0m   \u001b[38;5;28mself\u001b[39m\u001b[38;5;241m.\u001b[39m_tensors \u001b[38;5;241m=\u001b[39m structure\u001b[38;5;241m.\u001b[39mto_batched_tensor_list(batched_spec, element)\n",
      "File \u001b[1;32mD:\\projekty\\mgr\\custom_nn\\mgr-env\\lib\\site-packages\\tensorflow\\python\\data\\util\\structure.py:109\u001b[0m, in \u001b[0;36mnormalize_element\u001b[1;34m(element, element_signature)\u001b[0m\n\u001b[0;32m    104\u001b[0m     spec \u001b[38;5;241m=\u001b[39m type_spec_from_value(t, use_fallback\u001b[38;5;241m=\u001b[39m\u001b[38;5;28;01mFalse\u001b[39;00m)\n\u001b[0;32m    105\u001b[0m \u001b[38;5;28;01mexcept\u001b[39;00m \u001b[38;5;167;01mTypeError\u001b[39;00m:\n\u001b[0;32m    106\u001b[0m   \u001b[38;5;66;03m# TypeError indicates it was not possible to compute a `TypeSpec` for\u001b[39;00m\n\u001b[0;32m    107\u001b[0m   \u001b[38;5;66;03m# the value. As a fallback try converting the value to a tensor.\u001b[39;00m\n\u001b[0;32m    108\u001b[0m   normalized_components\u001b[38;5;241m.\u001b[39mappend(\n\u001b[1;32m--> 109\u001b[0m       \u001b[43mops\u001b[49m\u001b[38;5;241;43m.\u001b[39;49m\u001b[43mconvert_to_tensor\u001b[49m\u001b[43m(\u001b[49m\u001b[43mt\u001b[49m\u001b[43m,\u001b[49m\u001b[43m \u001b[49m\u001b[43mname\u001b[49m\u001b[38;5;241;43m=\u001b[39;49m\u001b[38;5;124;43m\"\u001b[39;49m\u001b[38;5;124;43mcomponent_\u001b[39;49m\u001b[38;5;132;43;01m%d\u001b[39;49;00m\u001b[38;5;124;43m\"\u001b[39;49m\u001b[43m \u001b[49m\u001b[38;5;241;43m%\u001b[39;49m\u001b[43m \u001b[49m\u001b[43mi\u001b[49m\u001b[43m)\u001b[49m)\n\u001b[0;32m    110\u001b[0m \u001b[38;5;28;01melse\u001b[39;00m:\n\u001b[0;32m    111\u001b[0m   \u001b[38;5;28;01mif\u001b[39;00m \u001b[38;5;28misinstance\u001b[39m(spec, sparse_tensor\u001b[38;5;241m.\u001b[39mSparseTensorSpec):\n",
      "File \u001b[1;32mD:\\projekty\\mgr\\custom_nn\\mgr-env\\lib\\site-packages\\tensorflow\\python\\profiler\\trace.py:183\u001b[0m, in \u001b[0;36mtrace_wrapper.<locals>.inner_wrapper.<locals>.wrapped\u001b[1;34m(*args, **kwargs)\u001b[0m\n\u001b[0;32m    181\u001b[0m   \u001b[38;5;28;01mwith\u001b[39;00m Trace(trace_name, \u001b[38;5;241m*\u001b[39m\u001b[38;5;241m*\u001b[39mtrace_kwargs):\n\u001b[0;32m    182\u001b[0m     \u001b[38;5;28;01mreturn\u001b[39;00m func(\u001b[38;5;241m*\u001b[39margs, \u001b[38;5;241m*\u001b[39m\u001b[38;5;241m*\u001b[39mkwargs)\n\u001b[1;32m--> 183\u001b[0m \u001b[38;5;28;01mreturn\u001b[39;00m func(\u001b[38;5;241m*\u001b[39margs, \u001b[38;5;241m*\u001b[39m\u001b[38;5;241m*\u001b[39mkwargs)\n",
      "File \u001b[1;32mD:\\projekty\\mgr\\custom_nn\\mgr-env\\lib\\site-packages\\tensorflow\\python\\framework\\ops.py:1636\u001b[0m, in \u001b[0;36mconvert_to_tensor\u001b[1;34m(value, dtype, name, as_ref, preferred_dtype, dtype_hint, ctx, accepted_result_types)\u001b[0m\n\u001b[0;32m   1627\u001b[0m       \u001b[38;5;28;01mraise\u001b[39;00m \u001b[38;5;167;01mRuntimeError\u001b[39;00m(\n\u001b[0;32m   1628\u001b[0m           _add_error_prefix(\n\u001b[0;32m   1629\u001b[0m               \u001b[38;5;124mf\u001b[39m\u001b[38;5;124m\"\u001b[39m\u001b[38;5;124mConversion function \u001b[39m\u001b[38;5;132;01m{\u001b[39;00mconversion_func\u001b[38;5;132;01m!r}\u001b[39;00m\u001b[38;5;124m for type \u001b[39m\u001b[38;5;124m\"\u001b[39m\n\u001b[1;32m   (...)\u001b[0m\n\u001b[0;32m   1632\u001b[0m               \u001b[38;5;124mf\u001b[39m\u001b[38;5;124m\"\u001b[39m\u001b[38;5;124mactual = \u001b[39m\u001b[38;5;132;01m{\u001b[39;00mret\u001b[38;5;241m.\u001b[39mdtype\u001b[38;5;241m.\u001b[39mbase_dtype\u001b[38;5;241m.\u001b[39mname\u001b[38;5;132;01m}\u001b[39;00m\u001b[38;5;124m\"\u001b[39m,\n\u001b[0;32m   1633\u001b[0m               name\u001b[38;5;241m=\u001b[39mname))\n\u001b[0;32m   1635\u001b[0m \u001b[38;5;28;01mif\u001b[39;00m ret \u001b[38;5;129;01mis\u001b[39;00m \u001b[38;5;28;01mNone\u001b[39;00m:\n\u001b[1;32m-> 1636\u001b[0m   ret \u001b[38;5;241m=\u001b[39m \u001b[43mconversion_func\u001b[49m\u001b[43m(\u001b[49m\u001b[43mvalue\u001b[49m\u001b[43m,\u001b[49m\u001b[43m \u001b[49m\u001b[43mdtype\u001b[49m\u001b[38;5;241;43m=\u001b[39;49m\u001b[43mdtype\u001b[49m\u001b[43m,\u001b[49m\u001b[43m \u001b[49m\u001b[43mname\u001b[49m\u001b[38;5;241;43m=\u001b[39;49m\u001b[43mname\u001b[49m\u001b[43m,\u001b[49m\u001b[43m \u001b[49m\u001b[43mas_ref\u001b[49m\u001b[38;5;241;43m=\u001b[39;49m\u001b[43mas_ref\u001b[49m\u001b[43m)\u001b[49m\n\u001b[0;32m   1638\u001b[0m \u001b[38;5;28;01mif\u001b[39;00m ret \u001b[38;5;129;01mis\u001b[39;00m \u001b[38;5;28mNotImplemented\u001b[39m:\n\u001b[0;32m   1639\u001b[0m   \u001b[38;5;28;01mcontinue\u001b[39;00m\n",
      "File \u001b[1;32mD:\\projekty\\mgr\\custom_nn\\mgr-env\\lib\\site-packages\\tensorflow\\python\\framework\\constant_op.py:343\u001b[0m, in \u001b[0;36m_constant_tensor_conversion_function\u001b[1;34m(v, dtype, name, as_ref)\u001b[0m\n\u001b[0;32m    340\u001b[0m \u001b[38;5;28;01mdef\u001b[39;00m \u001b[38;5;21m_constant_tensor_conversion_function\u001b[39m(v, dtype\u001b[38;5;241m=\u001b[39m\u001b[38;5;28;01mNone\u001b[39;00m, name\u001b[38;5;241m=\u001b[39m\u001b[38;5;28;01mNone\u001b[39;00m,\n\u001b[0;32m    341\u001b[0m                                          as_ref\u001b[38;5;241m=\u001b[39m\u001b[38;5;28;01mFalse\u001b[39;00m):\n\u001b[0;32m    342\u001b[0m   _ \u001b[38;5;241m=\u001b[39m as_ref\n\u001b[1;32m--> 343\u001b[0m   \u001b[38;5;28;01mreturn\u001b[39;00m \u001b[43mconstant\u001b[49m\u001b[43m(\u001b[49m\u001b[43mv\u001b[49m\u001b[43m,\u001b[49m\u001b[43m \u001b[49m\u001b[43mdtype\u001b[49m\u001b[38;5;241;43m=\u001b[39;49m\u001b[43mdtype\u001b[49m\u001b[43m,\u001b[49m\u001b[43m \u001b[49m\u001b[43mname\u001b[49m\u001b[38;5;241;43m=\u001b[39;49m\u001b[43mname\u001b[49m\u001b[43m)\u001b[49m\n",
      "File \u001b[1;32mD:\\projekty\\mgr\\custom_nn\\mgr-env\\lib\\site-packages\\tensorflow\\python\\framework\\constant_op.py:267\u001b[0m, in \u001b[0;36mconstant\u001b[1;34m(value, dtype, shape, name)\u001b[0m\n\u001b[0;32m    170\u001b[0m \u001b[38;5;129m@tf_export\u001b[39m(\u001b[38;5;124m\"\u001b[39m\u001b[38;5;124mconstant\u001b[39m\u001b[38;5;124m\"\u001b[39m, v1\u001b[38;5;241m=\u001b[39m[])\n\u001b[0;32m    171\u001b[0m \u001b[38;5;28;01mdef\u001b[39;00m \u001b[38;5;21mconstant\u001b[39m(value, dtype\u001b[38;5;241m=\u001b[39m\u001b[38;5;28;01mNone\u001b[39;00m, shape\u001b[38;5;241m=\u001b[39m\u001b[38;5;28;01mNone\u001b[39;00m, name\u001b[38;5;241m=\u001b[39m\u001b[38;5;124m\"\u001b[39m\u001b[38;5;124mConst\u001b[39m\u001b[38;5;124m\"\u001b[39m):\n\u001b[0;32m    172\u001b[0m \u001b[38;5;250m  \u001b[39m\u001b[38;5;124;03m\"\"\"Creates a constant tensor from a tensor-like object.\u001b[39;00m\n\u001b[0;32m    173\u001b[0m \n\u001b[0;32m    174\u001b[0m \u001b[38;5;124;03m  Note: All eager `tf.Tensor` values are immutable (in contrast to\u001b[39;00m\n\u001b[1;32m   (...)\u001b[0m\n\u001b[0;32m    265\u001b[0m \u001b[38;5;124;03m    ValueError: if called on a symbolic tensor.\u001b[39;00m\n\u001b[0;32m    266\u001b[0m \u001b[38;5;124;03m  \"\"\"\u001b[39;00m\n\u001b[1;32m--> 267\u001b[0m   \u001b[38;5;28;01mreturn\u001b[39;00m \u001b[43m_constant_impl\u001b[49m\u001b[43m(\u001b[49m\u001b[43mvalue\u001b[49m\u001b[43m,\u001b[49m\u001b[43m \u001b[49m\u001b[43mdtype\u001b[49m\u001b[43m,\u001b[49m\u001b[43m \u001b[49m\u001b[43mshape\u001b[49m\u001b[43m,\u001b[49m\u001b[43m \u001b[49m\u001b[43mname\u001b[49m\u001b[43m,\u001b[49m\u001b[43m \u001b[49m\u001b[43mverify_shape\u001b[49m\u001b[38;5;241;43m=\u001b[39;49m\u001b[38;5;28;43;01mFalse\u001b[39;49;00m\u001b[43m,\u001b[49m\n\u001b[0;32m    268\u001b[0m \u001b[43m                        \u001b[49m\u001b[43mallow_broadcast\u001b[49m\u001b[38;5;241;43m=\u001b[39;49m\u001b[38;5;28;43;01mTrue\u001b[39;49;00m\u001b[43m)\u001b[49m\n",
      "File \u001b[1;32mD:\\projekty\\mgr\\custom_nn\\mgr-env\\lib\\site-packages\\tensorflow\\python\\framework\\constant_op.py:279\u001b[0m, in \u001b[0;36m_constant_impl\u001b[1;34m(value, dtype, shape, name, verify_shape, allow_broadcast)\u001b[0m\n\u001b[0;32m    277\u001b[0m     \u001b[38;5;28;01mwith\u001b[39;00m trace\u001b[38;5;241m.\u001b[39mTrace(\u001b[38;5;124m\"\u001b[39m\u001b[38;5;124mtf.constant\u001b[39m\u001b[38;5;124m\"\u001b[39m):\n\u001b[0;32m    278\u001b[0m       \u001b[38;5;28;01mreturn\u001b[39;00m _constant_eager_impl(ctx, value, dtype, shape, verify_shape)\n\u001b[1;32m--> 279\u001b[0m   \u001b[38;5;28;01mreturn\u001b[39;00m \u001b[43m_constant_eager_impl\u001b[49m\u001b[43m(\u001b[49m\u001b[43mctx\u001b[49m\u001b[43m,\u001b[49m\u001b[43m \u001b[49m\u001b[43mvalue\u001b[49m\u001b[43m,\u001b[49m\u001b[43m \u001b[49m\u001b[43mdtype\u001b[49m\u001b[43m,\u001b[49m\u001b[43m \u001b[49m\u001b[43mshape\u001b[49m\u001b[43m,\u001b[49m\u001b[43m \u001b[49m\u001b[43mverify_shape\u001b[49m\u001b[43m)\u001b[49m\n\u001b[0;32m    281\u001b[0m g \u001b[38;5;241m=\u001b[39m ops\u001b[38;5;241m.\u001b[39mget_default_graph()\n\u001b[0;32m    282\u001b[0m tensor_value \u001b[38;5;241m=\u001b[39m attr_value_pb2\u001b[38;5;241m.\u001b[39mAttrValue()\n",
      "File \u001b[1;32mD:\\projekty\\mgr\\custom_nn\\mgr-env\\lib\\site-packages\\tensorflow\\python\\framework\\constant_op.py:304\u001b[0m, in \u001b[0;36m_constant_eager_impl\u001b[1;34m(ctx, value, dtype, shape, verify_shape)\u001b[0m\n\u001b[0;32m    302\u001b[0m \u001b[38;5;28;01mdef\u001b[39;00m \u001b[38;5;21m_constant_eager_impl\u001b[39m(ctx, value, dtype, shape, verify_shape):\n\u001b[0;32m    303\u001b[0m \u001b[38;5;250m  \u001b[39m\u001b[38;5;124;03m\"\"\"Creates a constant on the current device.\"\"\"\u001b[39;00m\n\u001b[1;32m--> 304\u001b[0m   t \u001b[38;5;241m=\u001b[39m \u001b[43mconvert_to_eager_tensor\u001b[49m\u001b[43m(\u001b[49m\u001b[43mvalue\u001b[49m\u001b[43m,\u001b[49m\u001b[43m \u001b[49m\u001b[43mctx\u001b[49m\u001b[43m,\u001b[49m\u001b[43m \u001b[49m\u001b[43mdtype\u001b[49m\u001b[43m)\u001b[49m\n\u001b[0;32m    305\u001b[0m   \u001b[38;5;28;01mif\u001b[39;00m shape \u001b[38;5;129;01mis\u001b[39;00m \u001b[38;5;28;01mNone\u001b[39;00m:\n\u001b[0;32m    306\u001b[0m     \u001b[38;5;28;01mreturn\u001b[39;00m t\n",
      "File \u001b[1;32mD:\\projekty\\mgr\\custom_nn\\mgr-env\\lib\\site-packages\\tensorflow\\python\\framework\\constant_op.py:102\u001b[0m, in \u001b[0;36mconvert_to_eager_tensor\u001b[1;34m(value, ctx, dtype)\u001b[0m\n\u001b[0;32m    100\u001b[0m     dtype \u001b[38;5;241m=\u001b[39m dtypes\u001b[38;5;241m.\u001b[39mas_dtype(dtype)\u001b[38;5;241m.\u001b[39mas_datatype_enum\n\u001b[0;32m    101\u001b[0m ctx\u001b[38;5;241m.\u001b[39mensure_initialized()\n\u001b[1;32m--> 102\u001b[0m \u001b[38;5;28;01mreturn\u001b[39;00m \u001b[43mops\u001b[49m\u001b[38;5;241;43m.\u001b[39;49m\u001b[43mEagerTensor\u001b[49m\u001b[43m(\u001b[49m\u001b[43mvalue\u001b[49m\u001b[43m,\u001b[49m\u001b[43m \u001b[49m\u001b[43mctx\u001b[49m\u001b[38;5;241;43m.\u001b[39;49m\u001b[43mdevice_name\u001b[49m\u001b[43m,\u001b[49m\u001b[43m \u001b[49m\u001b[43mdtype\u001b[49m\u001b[43m)\u001b[49m\n",
      "\u001b[1;31mValueError\u001b[0m: Can't convert non-rectangular Python sequence to Tensor."
     ]
    }
   ],
   "source": [
    "batch_size = 32\n",
    "img_height = 64\n",
    "img_width = 64\n",
    "\n",
    "labels = test_list\n",
    "val_labels = y_val_list\n",
    "\n",
    "label_mode = 'int'\n",
    "shuffle = False\n",
    "\n",
    "train_ds = tf.keras.utils.image_dataset_from_directory(\n",
    "    data_dir,\n",
    "    labels = labels,\n",
    "    label_mode = label_mode,\n",
    "    color_mode = 'grayscale',\n",
    "    shuffle = shuffle,\n",
    "    seed=123,\n",
    "    image_size=(img_height, img_width),\n",
    "    batch_size=batch_size)\n",
    "\n",
    "val_ds = tf.keras.utils.image_dataset_from_directory(\n",
    "    data_val_dir,\n",
    "    labels = val_labels,\n",
    "    label_mode = label_mode,\n",
    "    color_mode = 'grayscale',\n",
    "    shuffle = shuffle,\n",
    "    seed=123,\n",
    "    image_size=(img_height, img_width),\n",
    "    batch_size=batch_size)"
   ]
  },
  {
   "cell_type": "code",
   "execution_count": 100,
   "id": "2b9399a4",
   "metadata": {},
   "outputs": [
    {
     "data": {
      "text/plain": [
       "<BatchDataset element_spec=(TensorSpec(shape=(None, 64, 64, 1), dtype=tf.float32, name=None), TensorSpec(shape=(None, 5), dtype=tf.int32, name=None))>"
      ]
     },
     "execution_count": 100,
     "metadata": {},
     "output_type": "execute_result"
    }
   ],
   "source": [
    "train_ds"
   ]
  },
  {
   "cell_type": "code",
   "execution_count": 130,
   "id": "8d8e2a04",
   "metadata": {},
   "outputs": [
    {
     "ename": "TypeError",
     "evalue": "To specify the output signature you need to provide either the `output_signature` argument or the `output_types` argument.",
     "output_type": "error",
     "traceback": [
      "\u001b[1;31m---------------------------------------------------------------------------\u001b[0m",
      "\u001b[1;31mTypeError\u001b[0m                                 Traceback (most recent call last)",
      "Cell \u001b[1;32mIn[130], line 1\u001b[0m\n\u001b[1;32m----> 1\u001b[0m ds \u001b[38;5;241m=\u001b[39m \u001b[43mtf\u001b[49m\u001b[38;5;241;43m.\u001b[39;49m\u001b[43mdata\u001b[49m\u001b[38;5;241;43m.\u001b[39;49m\u001b[43mDataset\u001b[49m\u001b[38;5;241;43m.\u001b[39;49m\u001b[43mfrom_generator\u001b[49m\u001b[43m(\u001b[49m\u001b[43mX\u001b[49m\u001b[38;5;241;43m.\u001b[39;49m\u001b[38;5;21;43m__getitem__\u001b[39;49m\u001b[43m)\u001b[49m\n",
      "File \u001b[1;32mD:\\projekty\\mgr\\cnn_circles_rectangles\\mgr_thesis_circles_rectangles\\venv-mgr\\lib\\site-packages\\tensorflow\\python\\util\\deprecation.py:561\u001b[0m, in \u001b[0;36mdeprecated_args.<locals>.deprecated_wrapper.<locals>.new_func\u001b[1;34m(*args, **kwargs)\u001b[0m\n\u001b[0;32m    553\u001b[0m         _PRINTED_WARNING[(func, arg_name)] \u001b[38;5;241m=\u001b[39m \u001b[38;5;28;01mTrue\u001b[39;00m\n\u001b[0;32m    554\u001b[0m       logging\u001b[38;5;241m.\u001b[39mwarning(\n\u001b[0;32m    555\u001b[0m           \u001b[38;5;124m'\u001b[39m\u001b[38;5;124mFrom \u001b[39m\u001b[38;5;132;01m%s\u001b[39;00m\u001b[38;5;124m: calling \u001b[39m\u001b[38;5;132;01m%s\u001b[39;00m\u001b[38;5;124m (from \u001b[39m\u001b[38;5;132;01m%s\u001b[39;00m\u001b[38;5;124m) with \u001b[39m\u001b[38;5;132;01m%s\u001b[39;00m\u001b[38;5;124m is deprecated and will \u001b[39m\u001b[38;5;124m'\u001b[39m\n\u001b[0;32m    556\u001b[0m           \u001b[38;5;124m'\u001b[39m\u001b[38;5;124mbe removed \u001b[39m\u001b[38;5;132;01m%s\u001b[39;00m\u001b[38;5;124m.\u001b[39m\u001b[38;5;130;01m\\n\u001b[39;00m\u001b[38;5;124mInstructions for updating:\u001b[39m\u001b[38;5;130;01m\\n\u001b[39;00m\u001b[38;5;132;01m%s\u001b[39;00m\u001b[38;5;124m'\u001b[39m,\n\u001b[1;32m   (...)\u001b[0m\n\u001b[0;32m    559\u001b[0m           \u001b[38;5;124m'\u001b[39m\u001b[38;5;124min a future version\u001b[39m\u001b[38;5;124m'\u001b[39m \u001b[38;5;28;01mif\u001b[39;00m date \u001b[38;5;129;01mis\u001b[39;00m \u001b[38;5;28;01mNone\u001b[39;00m \u001b[38;5;28;01melse\u001b[39;00m (\u001b[38;5;124m'\u001b[39m\u001b[38;5;124mafter \u001b[39m\u001b[38;5;132;01m%s\u001b[39;00m\u001b[38;5;124m'\u001b[39m \u001b[38;5;241m%\u001b[39m date),\n\u001b[0;32m    560\u001b[0m           instructions)\n\u001b[1;32m--> 561\u001b[0m \u001b[38;5;28;01mreturn\u001b[39;00m func(\u001b[38;5;241m*\u001b[39margs, \u001b[38;5;241m*\u001b[39m\u001b[38;5;241m*\u001b[39mkwargs)\n",
      "File \u001b[1;32mD:\\projekty\\mgr\\cnn_circles_rectangles\\mgr_thesis_circles_rectangles\\venv-mgr\\lib\\site-packages\\tensorflow\\python\\data\\ops\\dataset_ops.py:970\u001b[0m, in \u001b[0;36mDatasetV2.from_generator\u001b[1;34m(generator, output_types, output_shapes, args, output_signature, name)\u001b[0m\n\u001b[0;32m    968\u001b[0m \u001b[38;5;28;01melse\u001b[39;00m:\n\u001b[0;32m    969\u001b[0m   \u001b[38;5;28;01mif\u001b[39;00m output_types \u001b[38;5;129;01mis\u001b[39;00m \u001b[38;5;28;01mNone\u001b[39;00m:\n\u001b[1;32m--> 970\u001b[0m     \u001b[38;5;28;01mraise\u001b[39;00m \u001b[38;5;167;01mTypeError\u001b[39;00m(\u001b[38;5;124m\"\u001b[39m\u001b[38;5;124mTo specify the output signature you need to provide \u001b[39m\u001b[38;5;124m\"\u001b[39m\n\u001b[0;32m    971\u001b[0m                     \u001b[38;5;124m\"\u001b[39m\u001b[38;5;124meither the `output_signature` argument or the \u001b[39m\u001b[38;5;124m\"\u001b[39m\n\u001b[0;32m    972\u001b[0m                     \u001b[38;5;124m\"\u001b[39m\u001b[38;5;124m`output_types` argument.\u001b[39m\u001b[38;5;124m\"\u001b[39m)\n\u001b[0;32m    974\u001b[0m \u001b[38;5;28;01mif\u001b[39;00m output_signature \u001b[38;5;129;01mis\u001b[39;00m \u001b[38;5;28;01mNone\u001b[39;00m:\n\u001b[0;32m    975\u001b[0m   \u001b[38;5;28;01mif\u001b[39;00m output_shapes \u001b[38;5;129;01mis\u001b[39;00m \u001b[38;5;28;01mNone\u001b[39;00m:\n",
      "\u001b[1;31mTypeError\u001b[0m: To specify the output signature you need to provide either the `output_signature` argument or the `output_types` argument."
     ]
    }
   ],
   "source": [
    "ds = tf.data.Dataset.from_generator(X.__getitem__)"
   ]
  },
  {
   "cell_type": "code",
   "execution_count": 42,
   "id": "5be0714d",
   "metadata": {},
   "outputs": [
    {
     "name": "stdout",
     "output_type": "stream",
     "text": [
      "Image batch shape:  (32, 64, 64, 1)\n",
      "Labels batch shape:  (32, 5)\n"
     ]
    }
   ],
   "source": [
    "for image_batch, labels_batch in train_ds:\n",
    "    print('Image batch shape: ', image_batch.shape)\n",
    "    print('Labels batch shape: ', labels_batch.shape)\n",
    "    break"
   ]
  },
  {
   "cell_type": "markdown",
   "id": "d4cac554",
   "metadata": {},
   "source": [
    "### Buffer prefetching"
   ]
  },
  {
   "cell_type": "code",
   "execution_count": 43,
   "id": "0922413a",
   "metadata": {},
   "outputs": [],
   "source": [
    "AUTOTUNE = tf.data.AUTOTUNE\n",
    "\n",
    "train_ds = train_ds.cache().prefetch(buffer_size=AUTOTUNE)\n",
    "val_ds = val_ds.cache().prefetch(buffer_size=AUTOTUNE)"
   ]
  },
  {
   "cell_type": "code",
   "execution_count": 77,
   "id": "87085d60",
   "metadata": {},
   "outputs": [],
   "source": [
    "Y_class = []\n",
    "Y_bbox = []\n",
    "Y_val_class = []\n",
    "Y_val_bbox = []\n",
    "\n",
    "for _, labels_batch in train_ds:\n",
    "    for label in labels_batch:\n",
    "        Y_class.append(label[0].numpy())\n",
    "        Y_bbox.append(label[1:].numpy())\n",
    "        \n",
    "for _, labels_batch in val_ds:\n",
    "    for label in labels_batch:\n",
    "        Y_val_class.append(label[0].numpy())\n",
    "        Y_val_bbox.append(label[1:].numpy())"
   ]
  },
  {
   "cell_type": "code",
   "execution_count": 79,
   "id": "5c143e08",
   "metadata": {},
   "outputs": [
    {
     "name": "stdout",
     "output_type": "stream",
     "text": [
      "(2000,)\n",
      "(2000, 4)\n",
      "(200,)\n",
      "(200, 4)\n"
     ]
    }
   ],
   "source": [
    "print(np.array(Y_class).shape)\n",
    "print(np.array(Y_bbox).shape)\n",
    "\n",
    "print(np.array(Y_val_class).shape)\n",
    "print(np.array(Y_val_bbox).shape)"
   ]
  },
  {
   "cell_type": "markdown",
   "id": "725753ba",
   "metadata": {},
   "source": [
    "# Model definition and training"
   ]
  },
  {
   "cell_type": "markdown",
   "id": "8be22ea6",
   "metadata": {},
   "source": [
    "#### helpers"
   ]
  },
  {
   "cell_type": "code",
   "execution_count": 383,
   "id": "4335520c",
   "metadata": {},
   "outputs": [],
   "source": [
    "from sklearn.metrics import classification_report, confusion_matrix, accuracy_score\n",
    "    \n",
    "def printScores(y_pred, y_true):\n",
    "    print(\"Classification report:\")\n",
    "    print(classification_report(y_true, y_pred))\n",
    "    print(\"Confusion matrix:\")\n",
    "    print(confusion_matrix(y_true, y_pred))\n",
    "    \n",
    "def plotTrainingHistory(model):\n",
    "\n",
    "    fig, axes= plt.subplots(1,2,figsize=(10,5))\n",
    "    history = model.history\n",
    "    axes[0].plot(history['accuracy'])\n",
    "    axes[0].plot(history['val_accuracy'])\n",
    "    axes[0].set_ylabel('accuracy')\n",
    "    axes[0].set_xlabel('epoch')\n",
    "    axes[0].legend(['train', 'validation'], loc='upper left')\n",
    "\n",
    "    axes[1].plot(history['loss'])\n",
    "    axes[1].plot(history['val_loss'])\n",
    "    axes[1].set_ylabel('loss')\n",
    "    axes[1].set_xlabel('epoch')\n",
    "    axes[1].legend(['train', 'validation'], loc='upper left')\n",
    "    \n",
    "def calculate_iou(box1, box2):\n",
    "    x1, y1, w1, h1 = box1\n",
    "    x3, y3, w2, h2 = box2[0], box2[1], box2[2], box2[3]\n",
    "    \n",
    "    x2, y2 = x1 + w1, y1 + h1\n",
    "    x4, y4 = x1 + w1, y1 + h1\n",
    "    \n",
    "    x_inter1 = max(x1, x3)\n",
    "    y_inter1 = max(y1, y3)\n",
    "    x_inter2 = min(x2, x4)\n",
    "    y_inter2 = min(y2, y4)\n",
    "    width_inter = abs(x_inter2 - x_inter1)\n",
    "    height_inter = abs(y_inter2 - y_inter1)\n",
    "    area_inter = width_inter * height_inter\n",
    "    width_box1 = abs(x2 - x1)\n",
    "    height_box1 = abs(y2 - y1)\n",
    "    width_box2 = abs(x4 - x3)\n",
    "    height_box2 = abs(y4 - y3)\n",
    "    area_box1 = width_box1 * height_box1\n",
    "    area_box2 = width_box2 * height_box2\n",
    "    area_union = area_box1 + area_box2 - area_inter\n",
    "    iou = area_inter / area_union\n",
    "    if iou > 1:\n",
    "        iou = 0\n",
    "    return iou"
   ]
  },
  {
   "cell_type": "markdown",
   "id": "6268d816",
   "metadata": {},
   "source": [
    "### class-defined model"
   ]
  },
  {
   "cell_type": "code",
   "execution_count": 323,
   "id": "88825089",
   "metadata": {},
   "outputs": [],
   "source": [
    "def CNN_class(nFilters, kernel_size, pool_size, nNeurons, inputShape, class_outputWidth, bbox_outputWidth):\n",
    "    inputs = tf.keras.Input(shape=inputShape)\n",
    "    x = inputs\n",
    "    x = tf.keras.layers.Rescaling(1./255, input_shape=inputShape)(x)\n",
    "    x = tf.keras.layers.Conv2D(nFilters, kernel_size=kernel_size)(x)\n",
    "    x = tf.keras.layers.MaxPooling2D(pool_size=pool_size)(x)\n",
    "    x = tf.keras.layers.Conv2D(nFilters, kernel_size=kernel_size)(x)\n",
    "    x = tf.keras.layers.MaxPooling2D(pool_size=pool_size)(x)\n",
    "    x = tf.keras.layers.Flatten()(x)\n",
    "    x = tf.keras.layers.Dense(nNeurons, activation=tf.nn.relu)(x)\n",
    "    x = tf.keras.layers.Dense(int(nNeurons / 2), activation=tf.nn.relu)(x)\n",
    "    x = tf.keras.layers.Dense(int(nNeurons / 2), activation=tf.nn.relu)(x)\n",
    "    \n",
    "    output_class = tf.keras.layers.Dense(class_outputWidth, activation=tf.nn.softmax, name = 'class_output')(x)\n",
    "    output_bbox = tf.keras.layers.Dense(bbox_outputWidth, name = 'bbox_output')(x)\n",
    "    \n",
    "    model = tf.keras.Model(inputs=inputs, outputs=[output_class, output_bbox])\n",
    "    model.compile(optimizer='adam', loss={'class_output': tf.keras.losses.SparseCategoricalCrossentropy(from_logits=True), 'bbox_output': tf.keras.losses.mse},  metrics={'class_output': ['accuracy'], 'bbox_output': None})\n",
    "    \n",
    "    #model = tf.keras.Model(inputs=inputs, outputs=output_class)\n",
    "    #model.compile(optimizer='adam', loss=tf.keras.losses.SparseCategoricalCrossentropy(from_logits=True), metrics=['accuracy'])\n",
    "    return model"
   ]
  },
  {
   "cell_type": "markdown",
   "id": "2dca4692",
   "metadata": {},
   "source": [
    "### model training"
   ]
  },
  {
   "cell_type": "code",
   "execution_count": 326,
   "id": "e98f97f1",
   "metadata": {},
   "outputs": [
    {
     "name": "stdout",
     "output_type": "stream",
     "text": [
      "Epoch 1/30\n",
      "62/62 [==============================] - 2s 18ms/step - loss: 444.4471 - class_output_loss: 1.2096 - bbox_output_loss: 443.2376 - class_output_accuracy: 0.4728\n",
      "Epoch 2/30\n",
      "62/62 [==============================] - 1s 17ms/step - loss: 274.7957 - class_output_loss: 2.5734 - bbox_output_loss: 272.2223 - class_output_accuracy: 0.3810\n",
      "Epoch 3/30\n",
      "62/62 [==============================] - 1s 17ms/step - loss: 213.6638 - class_output_loss: 0.9601 - bbox_output_loss: 212.7038 - class_output_accuracy: 0.5756\n",
      "Epoch 4/30\n",
      "62/62 [==============================] - 1s 17ms/step - loss: 203.9461 - class_output_loss: 0.6823 - bbox_output_loss: 203.2637 - class_output_accuracy: 0.6497\n",
      "Epoch 5/30\n",
      "62/62 [==============================] - 1s 18ms/step - loss: 187.5284 - class_output_loss: 0.7012 - bbox_output_loss: 186.8272 - class_output_accuracy: 0.6285\n",
      "Epoch 6/30\n",
      "62/62 [==============================] - 1s 19ms/step - loss: 190.5240 - class_output_loss: 0.7014 - bbox_output_loss: 189.8227 - class_output_accuracy: 0.6411\n",
      "Epoch 7/30\n",
      "62/62 [==============================] - 1s 18ms/step - loss: 162.0741 - class_output_loss: 0.6982 - bbox_output_loss: 161.3759 - class_output_accuracy: 0.6850\n",
      "Epoch 8/30\n",
      "62/62 [==============================] - 1s 17ms/step - loss: 145.5573 - class_output_loss: 0.6896 - bbox_output_loss: 144.8677 - class_output_accuracy: 0.6815\n",
      "Epoch 9/30\n",
      "62/62 [==============================] - 1s 17ms/step - loss: 140.5587 - class_output_loss: 0.7089 - bbox_output_loss: 139.8498 - class_output_accuracy: 0.6764\n",
      "Epoch 10/30\n",
      "62/62 [==============================] - 1s 17ms/step - loss: 124.1055 - class_output_loss: 0.6766 - bbox_output_loss: 123.4289 - class_output_accuracy: 0.6749\n",
      "Epoch 11/30\n",
      "62/62 [==============================] - 1s 17ms/step - loss: 131.1871 - class_output_loss: 0.6884 - bbox_output_loss: 130.4987 - class_output_accuracy: 0.6678\n",
      "Epoch 12/30\n",
      "62/62 [==============================] - 1s 17ms/step - loss: 105.3156 - class_output_loss: 0.6679 - bbox_output_loss: 104.6476 - class_output_accuracy: 0.6870\n",
      "Epoch 13/30\n",
      "62/62 [==============================] - 1s 17ms/step - loss: 105.5040 - class_output_loss: 0.6434 - bbox_output_loss: 104.8606 - class_output_accuracy: 0.6850\n",
      "Epoch 14/30\n",
      "62/62 [==============================] - 1s 17ms/step - loss: 98.2841 - class_output_loss: 0.6305 - bbox_output_loss: 97.6536 - class_output_accuracy: 0.6986\n",
      "Epoch 15/30\n",
      "62/62 [==============================] - 1s 17ms/step - loss: 92.9706 - class_output_loss: 0.6537 - bbox_output_loss: 92.3169 - class_output_accuracy: 0.6925\n",
      "Epoch 16/30\n",
      "62/62 [==============================] - 1s 18ms/step - loss: 93.8917 - class_output_loss: 0.6418 - bbox_output_loss: 93.2498 - class_output_accuracy: 0.6991\n",
      "Epoch 17/30\n",
      "62/62 [==============================] - 1s 18ms/step - loss: 89.5662 - class_output_loss: 0.6370 - bbox_output_loss: 88.9291 - class_output_accuracy: 0.7036\n",
      "Epoch 18/30\n",
      "62/62 [==============================] - 1s 18ms/step - loss: 77.0238 - class_output_loss: 0.6276 - bbox_output_loss: 76.3962 - class_output_accuracy: 0.7097\n",
      "Epoch 19/30\n",
      "62/62 [==============================] - 1s 17ms/step - loss: 71.5327 - class_output_loss: 0.6086 - bbox_output_loss: 70.9241 - class_output_accuracy: 0.7157\n",
      "Epoch 20/30\n",
      "62/62 [==============================] - 1s 17ms/step - loss: 67.1472 - class_output_loss: 0.5920 - bbox_output_loss: 66.5553 - class_output_accuracy: 0.7056\n",
      "Epoch 21/30\n",
      "62/62 [==============================] - 1s 17ms/step - loss: 61.9700 - class_output_loss: 0.5719 - bbox_output_loss: 61.3981 - class_output_accuracy: 0.7293\n",
      "Epoch 22/30\n",
      "62/62 [==============================] - 1s 17ms/step - loss: 60.3524 - class_output_loss: 0.5830 - bbox_output_loss: 59.7694 - class_output_accuracy: 0.7182\n",
      "Epoch 23/30\n",
      "62/62 [==============================] - 1s 17ms/step - loss: 66.5045 - class_output_loss: 0.5928 - bbox_output_loss: 65.9117 - class_output_accuracy: 0.7177\n",
      "Epoch 24/30\n",
      "62/62 [==============================] - 1s 17ms/step - loss: 59.2665 - class_output_loss: 0.5719 - bbox_output_loss: 58.6945 - class_output_accuracy: 0.7319\n",
      "Epoch 25/30\n",
      "62/62 [==============================] - 1s 17ms/step - loss: 54.3039 - class_output_loss: 0.5645 - bbox_output_loss: 53.7394 - class_output_accuracy: 0.7203\n",
      "Epoch 26/30\n",
      "62/62 [==============================] - 1s 16ms/step - loss: 64.8000 - class_output_loss: 0.6275 - bbox_output_loss: 64.1725 - class_output_accuracy: 0.7082\n",
      "Epoch 27/30\n",
      "62/62 [==============================] - 1s 17ms/step - loss: 57.8265 - class_output_loss: 0.5650 - bbox_output_loss: 57.2615 - class_output_accuracy: 0.7334\n",
      "Epoch 28/30\n",
      "62/62 [==============================] - 1s 18ms/step - loss: 49.2401 - class_output_loss: 0.5478 - bbox_output_loss: 48.6923 - class_output_accuracy: 0.7288\n",
      "Epoch 29/30\n",
      "62/62 [==============================] - 1s 18ms/step - loss: 46.1036 - class_output_loss: 0.5385 - bbox_output_loss: 45.5651 - class_output_accuracy: 0.7429\n",
      "Epoch 30/30\n",
      "62/62 [==============================] - 1s 18ms/step - loss: 45.1219 - class_output_loss: 0.5269 - bbox_output_loss: 44.5949 - class_output_accuracy: 0.7495\n",
      "CPU times: total: 5min 48s\n",
      "Wall time: 33.8 s\n"
     ]
    },
    {
     "data": {
      "text/plain": [
       "<keras.callbacks.History at 0x1e90651e8c0>"
      ]
     },
     "execution_count": 326,
     "metadata": {},
     "output_type": "execute_result"
    }
   ],
   "source": [
    "%%time \n",
    "\n",
    "batch_size = 32\n",
    "nFilters = 32\n",
    "kernel_size = 3\n",
    "pool_size = (3,3)\n",
    "nNeurons = 128 \n",
    "nHiddenLayers = 1 \n",
    "inputShape = (64, 64, 1)\n",
    "class_outputWidth = 2\n",
    "bbox_outputWidth = 4\n",
    "\n",
    "epochs = 30\n",
    "\n",
    "model = CNN_class(nFilters, kernel_size, pool_size, nNeurons, inputShape, class_outputWidth, bbox_outputWidth)\n",
    "\n",
    "model.fit(train_dg, epochs = epochs)"
   ]
  },
  {
   "cell_type": "markdown",
   "id": "5d8e52b8",
   "metadata": {},
   "source": [
    "### testing on test dataset"
   ]
  },
  {
   "cell_type": "code",
   "execution_count": 328,
   "id": "844ecdf5",
   "metadata": {},
   "outputs": [],
   "source": [
    "import glob\n",
    "\n",
    "test = glob.glob('../data/test/*/*')\n",
    "test_labels = "
   ]
  },
  {
   "cell_type": "code",
   "execution_count": 373,
   "id": "c63f9020",
   "metadata": {},
   "outputs": [],
   "source": [
    "def test_predict(data_dir):\n",
    "    class_predictions = []\n",
    "    bbox_predictions = []\n",
    "    for path in data_dir:\n",
    "        img = tf.keras.utils.load_img(path, color_mode='grayscale')\n",
    "        img_array = tf.keras.utils.img_to_array(img)\n",
    "        img_array = tf.expand_dims(img_array, 0) # Create a batch\n",
    "        y = model.predict(img_array, verbose = 0)\n",
    "        class_predictions.append(np.argmax(y[0][0]))\n",
    "        bbox_predictions.append(y[1][0])\n",
    "                  \n",
    "    return class_predictions, bbox_predictions"
   ]
  },
  {
   "cell_type": "code",
   "execution_count": 374,
   "id": "04aa8774",
   "metadata": {},
   "outputs": [],
   "source": [
    "pred_class, pred_bbox  = test_predict(test)"
   ]
  },
  {
   "cell_type": "code",
   "execution_count": 375,
   "id": "142b2260",
   "metadata": {},
   "outputs": [
    {
     "name": "stdout",
     "output_type": "stream",
     "text": [
      "Classification report:\n",
      "              precision    recall  f1-score   support\n",
      "\n",
      "           0       0.73      0.71      0.72       300\n",
      "           1       0.72      0.73      0.73       300\n",
      "\n",
      "    accuracy                           0.72       600\n",
      "   macro avg       0.72      0.72      0.72       600\n",
      "weighted avg       0.72      0.72      0.72       600\n",
      "\n",
      "Confusion matrix:\n",
      "[[214  86]\n",
      " [ 80 220]]\n"
     ]
    }
   ],
   "source": [
    "printScores(pred_class, class_test_list)"
   ]
  },
  {
   "cell_type": "code",
   "execution_count": 389,
   "id": "d2688399",
   "metadata": {},
   "outputs": [
    {
     "data": {
      "text/plain": [
       "array([17.753033,  7.426487, 15.556524, 13.641514], dtype=float32)"
      ]
     },
     "execution_count": 389,
     "metadata": {},
     "output_type": "execute_result"
    }
   ],
   "source": [
    "pred_bbox[0]"
   ]
  },
  {
   "cell_type": "code",
   "execution_count": 390,
   "id": "54bea747",
   "metadata": {},
   "outputs": [],
   "source": [
    "iou = []\n",
    "for i in range(len(bbox_test_list)):\n",
    "    iou.append(calculate_iou(bbox_test_list[i], pred_bbox[i]))"
   ]
  },
  {
   "cell_type": "code",
   "execution_count": 391,
   "id": "3806297d",
   "metadata": {},
   "outputs": [
    {
     "name": "stdout",
     "output_type": "stream",
     "text": [
      "Mean IoU:  0.62\n",
      "Mean IoU without 0s:  0.64\n"
     ]
    }
   ],
   "source": [
    "print('Mean IoU: ', np.round(np.mean(iou), 2))\n",
    "print('Mean IoU without 0s: ', np.round(np.mean([i for i in iou if i != 0]), 2))"
   ]
  },
  {
   "cell_type": "code",
   "execution_count": 394,
   "id": "08b2b2e7",
   "metadata": {},
   "outputs": [
    {
     "name": "stdout",
     "output_type": "stream",
     "text": [
      "4 11 50 50\n",
      "3.1967247 12.407364 48.367348 48.772247\n"
     ]
    },
    {
     "data": {
      "image/png": "[encoded data removed]",
      "text/plain": [
       "<Figure size 500x500 with 1 Axes>"
      ]
     },
     "metadata": {},
     "output_type": "display_data"
    }
   ],
   "source": [
    "n = 120\n",
    "\n",
    "x1, y1, wt, ht = bbox_test_list[n]\n",
    "x2, y2, wp, hp = pred_bbox[n]\n",
    "print(x1, y1, wt, ht)\n",
    "print(x2, y2, wp, hp)\n",
    "\n",
    "fig = plt.figure(figsize = (5,5))\n",
    "img = tf.keras.utils.load_img(test[n], color_mode='grayscale')\n",
    "img_array = tf.keras.utils.img_to_array(img)\n",
    "plt.imshow(img_array.astype(\"uint8\"))\n",
    "rect_true = patches.Rectangle((x1, y1), wt, ht, linewidth=1, edgecolor='r', facecolor='none')\n",
    "rect_pred = patches.Rectangle((x2, y2), wp, hp, linewidth=1, edgecolor='b', facecolor='none')\n",
    "plt.gca().add_patch(rect_true)\n",
    "plt.gca().add_patch(rect_pred)\n",
    "plt.axis(\"off\")\n",
    "plt.show()"
   ]
  },
  {
   "cell_type": "code",
   "execution_count": null,
   "id": "ab1023bb",
   "metadata": {},
   "outputs": [],
   "source": []
  }
 ],
 "metadata": {
  "kernelspec": {
   "display_name": "Python 3 (ipykernel)",
   "language": "python",
   "name": "python3"
  },
  "language_info": {
   "codemirror_mode": {
    "name": "ipython",
    "version": 3
   },
   "file_extension": ".py",
   "mimetype": "text/x-python",
   "name": "python",
   "nbconvert_exporter": "python",
   "pygments_lexer": "ipython3",
   "version": "3.10.11"
  }
 },
 "nbformat": 4,
 "nbformat_minor": 5
}
