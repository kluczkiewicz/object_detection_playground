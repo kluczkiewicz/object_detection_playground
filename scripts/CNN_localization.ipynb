{
 "cells": [
  {
   "cell_type": "code",
   "execution_count": 1,
   "id": "d31c0b30",
   "metadata": {},
   "outputs": [],
   "source": [
    "import pandas as pd\n",
    "import numpy as np\n",
    "import matplotlib.pyplot as plt\n",
    "import tensorflow as tf\n",
    "import os, glob\n",
    "from natsort import natsorted\n",
    "from tensorflow.keras.preprocessing.image import load_img\n",
    "import cv2"
   ]
  },
  {
   "cell_type": "markdown",
   "id": "c375d5e6",
   "metadata": {},
   "source": [
    "## Load data"
   ]
  },
  {
   "cell_type": "code",
   "execution_count": 2,
   "id": "02821537",
   "metadata": {},
   "outputs": [],
   "source": [
    "files = glob.glob('../data/train/*')"
   ]
  },
  {
   "cell_type": "code",
   "execution_count": 3,
   "id": "e384cd62",
   "metadata": {},
   "outputs": [
    {
     "name": "stdout",
     "output_type": "stream",
     "text": [
      "Number of images:  10000\n"
     ]
    }
   ],
   "source": [
    "print('Number of images: ', len(files))"
   ]
  },
  {
   "cell_type": "code",
   "execution_count": 4,
   "id": "c37661f7",
   "metadata": {},
   "outputs": [],
   "source": [
    "labels = pd.read_csv('./labels.txt', header = None, names = ['id', 'class', 'x', 'y', 'w', 'h'])"
   ]
  },
  {
   "cell_type": "code",
   "execution_count": 5,
   "id": "7207fed0",
   "metadata": {},
   "outputs": [
    {
     "data": {
      "text/html": [
       "<div>\n",
       "<style scoped>\n",
       "    .dataframe tbody tr th:only-of-type {\n",
       "        vertical-align: middle;\n",
       "    }\n",
       "\n",
       "    .dataframe tbody tr th {\n",
       "        vertical-align: top;\n",
       "    }\n",
       "\n",
       "    .dataframe thead th {\n",
       "        text-align: right;\n",
       "    }\n",
       "</style>\n",
       "<table border=\"1\" class=\"dataframe\">\n",
       "  <thead>\n",
       "    <tr style=\"text-align: right;\">\n",
       "      <th></th>\n",
       "      <th>id</th>\n",
       "      <th>class</th>\n",
       "      <th>x</th>\n",
       "      <th>y</th>\n",
       "      <th>w</th>\n",
       "      <th>h</th>\n",
       "    </tr>\n",
       "  </thead>\n",
       "  <tbody>\n",
       "    <tr>\n",
       "      <th>0</th>\n",
       "      <td>0</td>\n",
       "      <td>0</td>\n",
       "      <td>158.293543</td>\n",
       "      <td>163.840423</td>\n",
       "      <td>291.767249</td>\n",
       "      <td>291.767249</td>\n",
       "    </tr>\n",
       "    <tr>\n",
       "      <th>1</th>\n",
       "      <td>1</td>\n",
       "      <td>0</td>\n",
       "      <td>174.976577</td>\n",
       "      <td>145.041054</td>\n",
       "      <td>285.589838</td>\n",
       "      <td>285.589838</td>\n",
       "    </tr>\n",
       "    <tr>\n",
       "      <th>2</th>\n",
       "      <td>2</td>\n",
       "      <td>0</td>\n",
       "      <td>176.162791</td>\n",
       "      <td>156.819932</td>\n",
       "      <td>268.717581</td>\n",
       "      <td>268.717581</td>\n",
       "    </tr>\n",
       "    <tr>\n",
       "      <th>3</th>\n",
       "      <td>3</td>\n",
       "      <td>0</td>\n",
       "      <td>257.477453</td>\n",
       "      <td>201.296374</td>\n",
       "      <td>84.595788</td>\n",
       "      <td>84.595788</td>\n",
       "    </tr>\n",
       "    <tr>\n",
       "      <th>4</th>\n",
       "      <td>4</td>\n",
       "      <td>0</td>\n",
       "      <td>71.470291</td>\n",
       "      <td>167.118748</td>\n",
       "      <td>133.755485</td>\n",
       "      <td>133.755485</td>\n",
       "    </tr>\n",
       "    <tr>\n",
       "      <th>...</th>\n",
       "      <td>...</td>\n",
       "      <td>...</td>\n",
       "      <td>...</td>\n",
       "      <td>...</td>\n",
       "      <td>...</td>\n",
       "      <td>...</td>\n",
       "    </tr>\n",
       "    <tr>\n",
       "      <th>9995</th>\n",
       "      <td>9995</td>\n",
       "      <td>1</td>\n",
       "      <td>163.227646</td>\n",
       "      <td>86.690061</td>\n",
       "      <td>209.817385</td>\n",
       "      <td>11.481389</td>\n",
       "    </tr>\n",
       "    <tr>\n",
       "      <th>9996</th>\n",
       "      <td>9996</td>\n",
       "      <td>1</td>\n",
       "      <td>149.334399</td>\n",
       "      <td>243.464501</td>\n",
       "      <td>157.174169</td>\n",
       "      <td>146.648070</td>\n",
       "    </tr>\n",
       "    <tr>\n",
       "      <th>9997</th>\n",
       "      <td>9997</td>\n",
       "      <td>1</td>\n",
       "      <td>141.026465</td>\n",
       "      <td>240.124885</td>\n",
       "      <td>5.825795</td>\n",
       "      <td>97.160807</td>\n",
       "    </tr>\n",
       "    <tr>\n",
       "      <th>9998</th>\n",
       "      <td>9998</td>\n",
       "      <td>1</td>\n",
       "      <td>63.400575</td>\n",
       "      <td>196.567790</td>\n",
       "      <td>125.709731</td>\n",
       "      <td>119.307785</td>\n",
       "    </tr>\n",
       "    <tr>\n",
       "      <th>9999</th>\n",
       "      <td>9999</td>\n",
       "      <td>1</td>\n",
       "      <td>92.907472</td>\n",
       "      <td>197.444069</td>\n",
       "      <td>67.910186</td>\n",
       "      <td>242.398313</td>\n",
       "    </tr>\n",
       "  </tbody>\n",
       "</table>\n",
       "<p>10000 rows × 6 columns</p>\n",
       "</div>"
      ],
      "text/plain": [
       "        id  class           x           y           w           h\n",
       "0        0      0  158.293543  163.840423  291.767249  291.767249\n",
       "1        1      0  174.976577  145.041054  285.589838  285.589838\n",
       "2        2      0  176.162791  156.819932  268.717581  268.717581\n",
       "3        3      0  257.477453  201.296374   84.595788   84.595788\n",
       "4        4      0   71.470291  167.118748  133.755485  133.755485\n",
       "...    ...    ...         ...         ...         ...         ...\n",
       "9995  9995      1  163.227646   86.690061  209.817385   11.481389\n",
       "9996  9996      1  149.334399  243.464501  157.174169  146.648070\n",
       "9997  9997      1  141.026465  240.124885    5.825795   97.160807\n",
       "9998  9998      1   63.400575  196.567790  125.709731  119.307785\n",
       "9999  9999      1   92.907472  197.444069   67.910186  242.398313\n",
       "\n",
       "[10000 rows x 6 columns]"
      ]
     },
     "execution_count": 5,
     "metadata": {},
     "output_type": "execute_result"
    }
   ],
   "source": [
    "labels"
   ]
  },
  {
   "cell_type": "code",
   "execution_count": 6,
   "id": "aebf2af6",
   "metadata": {},
   "outputs": [],
   "source": [
    "files = natsorted(files)"
   ]
  },
  {
   "cell_type": "markdown",
   "id": "a3d83f5e",
   "metadata": {},
   "source": [
    "Load images and lables into numpy arrays "
   ]
  },
  {
   "cell_type": "code",
   "execution_count": 101,
   "id": "6b43d1f2",
   "metadata": {},
   "outputs": [],
   "source": [
    "X = []\n",
    "for path in files:\n",
    "    img = load_img(path)\n",
    "    img_arr = np.asarray(img)\n",
    "    X.append(img_arr)\n",
    "    \n",
    "X = np.array(X)"
   ]
  },
  {
   "cell_type": "code",
   "execution_count": 102,
   "id": "ad2d50e5",
   "metadata": {},
   "outputs": [],
   "source": [
    "Y = labels[['x', 'y', 'w', 'h']]\n",
    "Y = np.array(Y)"
   ]
  },
  {
   "cell_type": "code",
   "execution_count": 103,
   "id": "30421b62",
   "metadata": {},
   "outputs": [
    {
     "name": "stdout",
     "output_type": "stream",
     "text": [
      "Shape of X array:  (10000, 320, 320, 3)\n",
      "Shape of Y array:  (10000, 4)\n",
      "Shape of single image:  (320, 320, 3)\n"
     ]
    }
   ],
   "source": [
    "print('Shape of X array: ', X.shape)\n",
    "print('Shape of Y array: ', Y.shape)\n",
    "print('Shape of single image: ', X[0].shape)"
   ]
  },
  {
   "cell_type": "markdown",
   "id": "6103cd8b",
   "metadata": {},
   "source": [
    "Normalize input values to 1"
   ]
  },
  {
   "cell_type": "code",
   "execution_count": 104,
   "id": "e1e42313",
   "metadata": {},
   "outputs": [],
   "source": [
    "#X = X[:,:,:,0]\n",
    "X = X / X.max()"
   ]
  },
  {
   "cell_type": "code",
   "execution_count": 105,
   "id": "bf91fdfd",
   "metadata": {},
   "outputs": [
    {
     "data": {
      "text/plain": [
       "1.0"
      ]
     },
     "execution_count": 105,
     "metadata": {},
     "output_type": "execute_result"
    }
   ],
   "source": [
    "X.max()"
   ]
  },
  {
   "cell_type": "markdown",
   "id": "c5752adf",
   "metadata": {},
   "source": [
    "Custom function to draw bboxes"
   ]
  },
  {
   "cell_type": "code",
   "execution_count": 107,
   "id": "fb577e6a",
   "metadata": {},
   "outputs": [],
   "source": [
    "def draw_bbox(img, true, pred = None):\n",
    "\n",
    "    xc, yc, w, h = true\n",
    "    \n",
    "    start = (int(xc - w / 2), int(yc - h/ 2))\n",
    "    end = (int(xc + w /2), int(yc + h / 2))\n",
    "    cv2.rectangle(img, start, end, (0,0,255))\n",
    "    if type(pred) != None:\n",
    "        xc, yc, w, h = pred\n",
    "        start = (int(xc - w / 2), int(yc - h/ 2))\n",
    "        end = (int(xc + w /2), int(yc + h / 2))\n",
    "        cv2.rectangle(img, start, end, (0,0,255))\n",
    "    \n",
    "    cv2.imshow('bbox', img)\n",
    "    cv2.waitKey(0)\n",
    "    cv2.destroyAllWindows()"
   ]
  },
  {
   "cell_type": "markdown",
   "id": "f7cf5979",
   "metadata": {},
   "source": [
    "# Training"
   ]
  },
  {
   "cell_type": "markdown",
   "id": "aec934a7",
   "metadata": {},
   "source": [
    "#### Data splitting "
   ]
  },
  {
   "cell_type": "code",
   "execution_count": 109,
   "id": "6cc679a3",
   "metadata": {},
   "outputs": [],
   "source": [
    "from sklearn.model_selection import train_test_split\n",
    "\n",
    "X_train, X_test, Y_train, Y_test = train_test_split(X, Y, test_size=0.3, random_state=42, shuffle = True)"
   ]
  },
  {
   "cell_type": "markdown",
   "id": "a0d43635",
   "metadata": {},
   "source": [
    "#### IoU (Intersection over Union) metric "
   ]
  },
  {
   "cell_type": "code",
   "execution_count": 141,
   "id": "33eb5652",
   "metadata": {},
   "outputs": [],
   "source": [
    "def iou(true, pred):\n",
    "    xct, yct, wt, ht = true\n",
    "    xcp, ycp, wp, hp = pred\n",
    "    x1 = xct - wt / 2\n",
    "    y1 = yct - ht / 2\n",
    "    x2 = x1 + wp\n",
    "    y2 = y1 + hp\n",
    "    \n",
    "    x3 = xcp - wp / 2\n",
    "    y3 = ycp - hp / 2\n",
    "    x4 = x3 + wp\n",
    "    y4 = y3 + hp    \n",
    "    \n",
    "    x_inter1 = max(x1, x3)\n",
    "    y_inter1 = max(y1, y3)\n",
    "    x_inter2 = min(x2, x4)\n",
    "    y_inter2 = min(y2, y4)\n",
    "    \n",
    "    w_inter = x_inter2 - x_inter1\n",
    "    h_inter = y_inter2 - y_inter1\n",
    "    \n",
    "    area_inter = w_inter * h_inter\n",
    "    area_union = wt * ht + wp * hp - area_inter\n",
    "    \n",
    "    return area_inter / area_union"
   ]
  },
  {
   "cell_type": "markdown",
   "id": "87dec90f",
   "metadata": {},
   "source": [
    "# model"
   ]
  },
  {
   "cell_type": "markdown",
   "id": "3c8cd286",
   "metadata": {},
   "source": [
    "### define model"
   ]
  },
  {
   "cell_type": "code",
   "execution_count": 112,
   "id": "4a4745d8",
   "metadata": {},
   "outputs": [],
   "source": [
    "def CNN_localization(nFilters, kernel_size, pool_size, nNeurons, nHiddenLayers, inputShape, outputWidth):\n",
    "    inputs = tf.keras.Input(shape=inputShape)\n",
    "    x = inputs  \n",
    "    x = tf.keras.layers.Conv2D(nFilters, (kernel_size, kernel_size), activation='relu', input_shape=inputShape)(x)\n",
    "    x = tf.keras.layers.MaxPooling2D(pool_size)(x)\n",
    "    x = tf.keras.layers.Conv2D(nFilters, (kernel_size, kernel_size), activation='relu')(x)\n",
    "    x = tf.keras.layers.MaxPooling2D(pool_size)(x)\n",
    "    x = tf.keras.layers.Conv2D(nFilters, (kernel_size, kernel_size), activation='relu')(x)\n",
    "    x = tf.keras.layers.Flatten()(x)\n",
    "    x = tf.keras.layers.Dense(int(nNeurons), activation='relu')(x)\n",
    "    x = tf.keras.layers.Dense(int(nNeurons / 2), activation='relu')(x)\n",
    "    x = tf.keras.layers.Dense(int(nNeurons / 4), activation='relu')(x)\n",
    "    outputs = tf.keras.layers.Dense(outputWidth)(x)\n",
    "    \n",
    "    model = tf.keras.Model(inputs=inputs, outputs=outputs)\n",
    "    model.compile(loss = tf.keras.losses.mse, optimizer = 'adam')\n",
    "    return model"
   ]
  },
  {
   "cell_type": "markdown",
   "id": "ab0d842c",
   "metadata": {},
   "source": [
    "### model training v1 "
   ]
  },
  {
   "cell_type": "code",
   "execution_count": 113,
   "id": "3a5bd32d",
   "metadata": {
    "scrolled": true
   },
   "outputs": [
    {
     "name": "stdout",
     "output_type": "stream",
     "text": [
      "Epoch 1/30\n",
      "186/186 [==============================] - 86s 451ms/step - loss: 5414.4102 - val_loss: 2188.9612\n",
      "Epoch 2/30\n",
      "186/186 [==============================] - 77s 413ms/step - loss: 1920.0273 - val_loss: 1767.4860\n",
      "Epoch 3/30\n",
      "186/186 [==============================] - 76s 409ms/step - loss: 1321.0714 - val_loss: 1023.0104\n",
      "Epoch 4/30\n",
      "186/186 [==============================] - 78s 417ms/step - loss: 827.4633 - val_loss: 600.4661\n",
      "Epoch 5/30\n",
      "186/186 [==============================] - 76s 409ms/step - loss: 999.0931 - val_loss: 734.2000\n",
      "Epoch 6/30\n",
      "186/186 [==============================] - 78s 422ms/step - loss: 572.4796 - val_loss: 541.7265\n",
      "Epoch 7/30\n",
      "186/186 [==============================] - 75s 402ms/step - loss: 718.0910 - val_loss: 763.8120\n",
      "Epoch 8/30\n",
      "186/186 [==============================] - 74s 398ms/step - loss: 849.2565 - val_loss: 405.2641\n",
      "Epoch 9/30\n",
      "186/186 [==============================] - 74s 395ms/step - loss: 415.6583 - val_loss: 294.3798\n",
      "Epoch 10/30\n",
      "186/186 [==============================] - 74s 396ms/step - loss: 416.0832 - val_loss: 316.1682\n",
      "Epoch 11/30\n",
      "186/186 [==============================] - 74s 398ms/step - loss: 596.0375 - val_loss: 1388.3451\n",
      "Epoch 12/30\n",
      "186/186 [==============================] - 74s 399ms/step - loss: 665.9449 - val_loss: 1116.7633\n",
      "Epoch 13/30\n",
      "186/186 [==============================] - 74s 396ms/step - loss: 508.7553 - val_loss: 665.1854\n",
      "Epoch 14/30\n",
      "186/186 [==============================] - 74s 400ms/step - loss: 382.3089 - val_loss: 365.3456\n",
      "Epoch 15/30\n",
      "186/186 [==============================] - 74s 399ms/step - loss: 428.2922 - val_loss: 356.4874\n",
      "Epoch 16/30\n",
      "186/186 [==============================] - 74s 397ms/step - loss: 401.2086 - val_loss: 324.4859\n",
      "Epoch 17/30\n",
      "186/186 [==============================] - 75s 404ms/step - loss: 432.5982 - val_loss: 227.3724\n",
      "Epoch 18/30\n",
      "186/186 [==============================] - 75s 404ms/step - loss: 253.5554 - val_loss: 189.8240\n",
      "Epoch 19/30\n",
      "186/186 [==============================] - 77s 415ms/step - loss: 467.3489 - val_loss: 799.9091\n",
      "Epoch 20/30\n",
      "186/186 [==============================] - 76s 409ms/step - loss: 487.7652 - val_loss: 538.9437\n",
      "Epoch 21/30\n",
      "186/186 [==============================] - 78s 419ms/step - loss: 339.9234 - val_loss: 323.5399\n",
      "Epoch 22/30\n",
      "186/186 [==============================] - 75s 402ms/step - loss: 235.1887 - val_loss: 753.7518\n",
      "Epoch 23/30\n",
      "186/186 [==============================] - 74s 400ms/step - loss: 653.1654 - val_loss: 904.8000\n",
      "Epoch 24/30\n",
      "186/186 [==============================] - 74s 398ms/step - loss: 501.8096 - val_loss: 208.5526\n",
      "Epoch 25/30\n",
      "186/186 [==============================] - 75s 402ms/step - loss: 336.7672 - val_loss: 355.6830\n",
      "Epoch 26/30\n",
      "186/186 [==============================] - 75s 401ms/step - loss: 353.8584 - val_loss: 254.8722\n",
      "Epoch 27/30\n",
      "186/186 [==============================] - 74s 398ms/step - loss: 221.6512 - val_loss: 384.7963\n",
      "Epoch 28/30\n",
      "186/186 [==============================] - 76s 409ms/step - loss: 227.3413 - val_loss: 209.5684\n",
      "Epoch 29/30\n",
      "186/186 [==============================] - 75s 402ms/step - loss: 273.7625 - val_loss: 212.4311\n",
      "Epoch 30/30\n",
      "186/186 [==============================] - 75s 401ms/step - loss: 293.4136 - val_loss: 1128.5818\n",
      "CPU times: total: 7h 15min 26s\n",
      "Wall time: 38min 13s\n"
     ]
    }
   ],
   "source": [
    "%%time \n",
    "\n",
    "batch_size = 64\n",
    "nFilters = 32\n",
    "kernel_size = 3\n",
    "pool_size = (5,5)\n",
    "nNeurons = 128 \n",
    "nHiddenLayers = 1 \n",
    "inputShape = (320, 320, 3)\n",
    "outputWidth = 4\n",
    "\n",
    "model = CNN_localization(nFilters, kernel_size, pool_size, nNeurons, nHiddenLayers, inputShape, outputWidth)\n",
    "model_fit = model.fit(X_train, Y_train, epochs=30, validation_split = 0.15) "
   ]
  },
  {
   "cell_type": "code",
   "execution_count": 123,
   "id": "d4a39197",
   "metadata": {
    "scrolled": true
   },
   "outputs": [
    {
     "name": "stdout",
     "output_type": "stream",
     "text": [
      "1/1 [==============================] - 0s 37ms/step\n"
     ]
    }
   ],
   "source": [
    "n = 2500\n",
    "pred = model.predict(X_test[n:n+1])\n",
    "draw_bbox(X_test[n], Y_test[n], pred[0])"
   ]
  },
  {
   "cell_type": "code",
   "execution_count": 69,
   "id": "c00bba7f",
   "metadata": {},
   "outputs": [
    {
     "data": {
      "text/plain": [
       "array([122.31591 , 118.56896 ,  60.966293,  70.17118 ], dtype=float32)"
      ]
     },
     "execution_count": 69,
     "metadata": {},
     "output_type": "execute_result"
    }
   ],
   "source": [
    "pred[0]"
   ]
  },
  {
   "cell_type": "code",
   "execution_count": 119,
   "id": "4eb37137",
   "metadata": {},
   "outputs": [],
   "source": [
    "def draw_bbox(img, true, pred = None):\n",
    "\n",
    "    xc, yc, w, h = true\n",
    "    \n",
    "    start = (int(xc - w / 2), int(yc - h/ 2))\n",
    "    end = (int(xc + w /2), int(yc + h / 2))\n",
    "    cv2.rectangle(img, start, end, (0,0,255))\n",
    "    if type(pred) != None:\n",
    "        xc, yc, w, h = pred\n",
    "        start = (int(xc - w / 2), int(yc - h/ 2))\n",
    "        end = (int(xc + w /2), int(yc + h / 2))\n",
    "        cv2.rectangle(img, start, end, (0,255,0))\n",
    "    \n",
    "    cv2.imshow('bbox', img)\n",
    "    cv2.waitKey(0)\n",
    "    cv2.destroyAllWindows()"
   ]
  },
  {
   "cell_type": "code",
   "execution_count": 100,
   "id": "9fc7a6ac",
   "metadata": {},
   "outputs": [],
   "source": [
    "draw_bbox(X_test[1200], Y_test[1200])"
   ]
  },
  {
   "cell_type": "markdown",
   "id": "e7e86d35",
   "metadata": {},
   "source": [
    "### model training v2"
   ]
  },
  {
   "cell_type": "code",
   "execution_count": 124,
   "id": "cacb3753",
   "metadata": {
    "scrolled": true
   },
   "outputs": [
    {
     "name": "stdout",
     "output_type": "stream",
     "text": [
      "Epoch 1/40\n",
      "186/186 [==============================] - 171s 908ms/step - loss: 5029.6265 - val_loss: 3043.1282\n",
      "Epoch 2/40\n",
      "186/186 [==============================] - 166s 891ms/step - loss: 2398.9636 - val_loss: 2468.6987\n",
      "Epoch 3/40\n",
      "186/186 [==============================] - 163s 879ms/step - loss: 1872.7931 - val_loss: 1594.8615\n",
      "Epoch 4/40\n",
      "186/186 [==============================] - 162s 869ms/step - loss: 1184.2799 - val_loss: 819.6199\n",
      "Epoch 5/40\n",
      "186/186 [==============================] - 164s 884ms/step - loss: 934.6226 - val_loss: 1082.6897\n",
      "Epoch 6/40\n",
      "186/186 [==============================] - 164s 883ms/step - loss: 1084.8322 - val_loss: 826.9205\n",
      "Epoch 7/40\n",
      "186/186 [==============================] - 164s 882ms/step - loss: 848.3145 - val_loss: 458.0546\n",
      "Epoch 8/40\n",
      "186/186 [==============================] - 164s 880ms/step - loss: 587.6010 - val_loss: 552.9735\n",
      "Epoch 9/40\n",
      "186/186 [==============================] - 163s 874ms/step - loss: 636.0518 - val_loss: 612.9821\n",
      "Epoch 10/40\n",
      "186/186 [==============================] - 164s 882ms/step - loss: 615.6001 - val_loss: 421.8234\n",
      "Epoch 11/40\n",
      "186/186 [==============================] - 163s 877ms/step - loss: 847.2058 - val_loss: 394.1106\n",
      "Epoch 12/40\n",
      "186/186 [==============================] - 164s 883ms/step - loss: 382.8678 - val_loss: 425.7082\n",
      "Epoch 13/40\n",
      "186/186 [==============================] - 163s 879ms/step - loss: 476.2368 - val_loss: 291.3391\n",
      "Epoch 14/40\n",
      "186/186 [==============================] - 164s 880ms/step - loss: 480.1907 - val_loss: 743.7501\n",
      "Epoch 15/40\n",
      "186/186 [==============================] - 164s 883ms/step - loss: 378.0292 - val_loss: 276.3658\n",
      "Epoch 16/40\n",
      "186/186 [==============================] - 164s 881ms/step - loss: 451.6679 - val_loss: 410.0138\n",
      "Epoch 17/40\n",
      "186/186 [==============================] - 164s 883ms/step - loss: 280.9244 - val_loss: 245.6883\n",
      "Epoch 18/40\n",
      "186/186 [==============================] - 164s 884ms/step - loss: 342.4588 - val_loss: 293.1809\n",
      "Epoch 19/40\n",
      "186/186 [==============================] - 164s 879ms/step - loss: 329.3462 - val_loss: 239.0979\n",
      "Epoch 20/40\n",
      "186/186 [==============================] - 166s 891ms/step - loss: 302.8047 - val_loss: 242.6257\n",
      "Epoch 21/40\n",
      "186/186 [==============================] - 165s 886ms/step - loss: 442.2645 - val_loss: 955.4086\n",
      "Epoch 22/40\n",
      "186/186 [==============================] - 163s 876ms/step - loss: 461.7537 - val_loss: 1119.1871\n",
      "Epoch 23/40\n",
      "186/186 [==============================] - 164s 881ms/step - loss: 441.5614 - val_loss: 216.3388\n",
      "Epoch 24/40\n",
      "186/186 [==============================] - 163s 876ms/step - loss: 253.0130 - val_loss: 198.7611\n",
      "Epoch 25/40\n",
      "186/186 [==============================] - 164s 880ms/step - loss: 257.2910 - val_loss: 298.6649\n",
      "Epoch 26/40\n",
      "186/186 [==============================] - 164s 884ms/step - loss: 296.2200 - val_loss: 220.9091\n",
      "Epoch 27/40\n",
      "186/186 [==============================] - 164s 883ms/step - loss: 319.3600 - val_loss: 262.6096\n",
      "Epoch 28/40\n",
      "186/186 [==============================] - 165s 888ms/step - loss: 219.9038 - val_loss: 264.5705\n",
      "Epoch 29/40\n",
      "186/186 [==============================] - 164s 881ms/step - loss: 289.4676 - val_loss: 181.3185\n",
      "Epoch 30/40\n",
      "186/186 [==============================] - 165s 885ms/step - loss: 183.0151 - val_loss: 211.7423\n",
      "Epoch 31/40\n",
      "186/186 [==============================] - 164s 882ms/step - loss: 243.4262 - val_loss: 156.1707\n",
      "Epoch 32/40\n",
      "186/186 [==============================] - 163s 874ms/step - loss: 171.1340 - val_loss: 132.4740\n",
      "Epoch 33/40\n",
      "186/186 [==============================] - 165s 885ms/step - loss: 205.0550 - val_loss: 104.9450\n",
      "Epoch 34/40\n",
      "186/186 [==============================] - 163s 877ms/step - loss: 130.3237 - val_loss: 109.7822\n",
      "Epoch 35/40\n",
      "186/186 [==============================] - 165s 886ms/step - loss: 117.7464 - val_loss: 118.1905\n",
      "Epoch 36/40\n",
      "186/186 [==============================] - 165s 889ms/step - loss: 134.8002 - val_loss: 146.2103\n",
      "Epoch 37/40\n",
      "186/186 [==============================] - 165s 885ms/step - loss: 117.1123 - val_loss: 118.4759\n",
      "Epoch 38/40\n",
      "186/186 [==============================] - 165s 886ms/step - loss: 132.2745 - val_loss: 210.9727\n",
      "Epoch 39/40\n",
      "186/186 [==============================] - 164s 880ms/step - loss: 200.2283 - val_loss: 182.7587\n",
      "Epoch 40/40\n",
      "186/186 [==============================] - 166s 893ms/step - loss: 152.4079 - val_loss: 103.0299\n",
      "CPU times: total: 20h 8min 47s\n",
      "Wall time: 1h 49min 44s\n"
     ]
    }
   ],
   "source": [
    "%%time \n",
    "\n",
    "batch_size = 64\n",
    "nFilters = 32\n",
    "kernel_size = 5\n",
    "pool_size = (3,3)\n",
    "nNeurons = 128 \n",
    "nHiddenLayers = 1 \n",
    "inputShape = (320, 320, 3)\n",
    "outputWidth = 4\n",
    "\n",
    "model2 = CNN_localization(nFilters, kernel_size, pool_size, nNeurons, nHiddenLayers, inputShape, outputWidth)\n",
    "model2_fit = model2.fit(X_train, Y_train, epochs=40, validation_split = 0.15) "
   ]
  },
  {
   "cell_type": "code",
   "execution_count": 142,
   "id": "49ed2a97",
   "metadata": {},
   "outputs": [
    {
     "name": "stdout",
     "output_type": "stream",
     "text": [
      "1/1 [==============================] - 0s 50ms/step\n"
     ]
    }
   ],
   "source": [
    "n = 100\n",
    "pred = model2.predict(X_test[n:n+1])\n",
    "draw_bbox(X_test[n], Y_test[n], pred[0])"
   ]
  },
  {
   "cell_type": "code",
   "execution_count": 150,
   "id": "9cbdf455",
   "metadata": {
    "scrolled": true
   },
   "outputs": [],
   "source": [
    "iou_all = []\n",
    "errors = []\n",
    "for i in range(Y_test.shape[0]):\n",
    "    pred = model2.predict(X_test[i:i+1], verbose = 0)\n",
    "    result = iou(Y_test[i], pred[0])\n",
    "    if result <= 1:\n",
    "        iou_all.append(result)\n",
    "    else:\n",
    "        errors.append([i, result])"
   ]
  },
  {
   "cell_type": "code",
   "execution_count": 156,
   "id": "adf3ba8f",
   "metadata": {},
   "outputs": [
    {
     "name": "stdout",
     "output_type": "stream",
     "text": [
      "Number of IoU < 1:  2894\n",
      "Mean IoU:  0.6193087811257244\n"
     ]
    }
   ],
   "source": [
    "print('Number of IoU < 1: ', len(iou_all))\n",
    "print('Mean IoU: ', np.mean(iou_all))"
   ]
  }
 ],
 "metadata": {
  "kernelspec": {
   "display_name": "Python 3 (ipykernel)",
   "language": "python",
   "name": "python3"
  },
  "language_info": {
   "codemirror_mode": {
    "name": "ipython",
    "version": 3
   },
   "file_extension": ".py",
   "mimetype": "text/x-python",
   "name": "python",
   "nbconvert_exporter": "python",
   "pygments_lexer": "ipython3",
   "version": "3.10.10"
  }
 },
 "nbformat": 4,
 "nbformat_minor": 5
}
